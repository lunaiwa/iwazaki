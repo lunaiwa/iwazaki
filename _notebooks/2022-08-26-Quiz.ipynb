{
 "cells": [
  {
   "cell_type": "markdown",
   "metadata": {},
   "source": [
    "# Quiz\n",
    "> helpful quiz\n",
    "\n",
    "- title: Quiz\n",
    "- toc: true\n",
    "- comments: true"
   ]
  },
  {
   "cell_type": "code",
   "execution_count": null,
   "metadata": {},
   "outputs": [],
   "source": [
    "#list of all of my questions and answers that will be inputted into my quiz\n",
    "QandA = [\n",
    "   \"1. True or False, def is a key word in Python that defines a function\", \"True\",\n",
    "   \"2. True or False, In Python anatomy of you will NOT be importing libraries and functions?\", \"False\",\n",
    "   \"3. True or False, Hello world is a string literal?\", \"True\",\n",
    "   \"4. True or False,?\", \"Answer\",\n",
    "   \"5. True or False, Input and Output in Jupyter Notebook Input is NOT in line with Output?\", \"True\",\n",
    "   \"6. True or False, an if expression is not evaluated for true or false\", \"False\",  \n",
    "   \"7. True or False, return command in function does not return msg input by user\",  \"False\",\n",
    "   \"8. True or False, false takes branch of code directly under else command\", \"True\",\n",
    "   \"9. True or False, correct += 1 is NOT the way to add one to the score\", \"False\",\n",
    "   \"10. True or False,?\", \"Answer\",\n",
    "   ]\n",
    " \n",
    "#total points and using new quiz var\n",
    "points = 0\n",
    "current = 0\n",
    "quiz = 1\n",
    " \n",
    "print (\"Welcome to my true or false quiz!\")\n",
    " \n",
    "#Using while lets me loop function\n",
    "while quiz < 11:\n",
    "   question = input (QandA[current])\n",
    "   if question == QandA[current+1]:\n",
    "       print (\"That's correct!\")\n",
    "       points = points +1\n",
    "       current = current +2\n",
    "   else:\n",
    "       print (\"Sorry, that is incorrect!\")\n",
    "       points = points -1\n",
    "       current = current -2\n",
    "       quiz = quiz +1\n",
    " \n",
    "#Final Message\n",
    "print (\"You got \" + str(current) + \"/\" + str(len(QandA)) + \" correct\")\n"
   ]
  }
 ],
 "metadata": {
  "kernelspec": {
   "display_name": "Python 3.8.2 64-bit",
   "language": "python",
   "name": "python3"
  },
  "language_info": {
   "name": "python",
   "version": "3.8.2"
  },
  "orig_nbformat": 4,
  "vscode": {
   "interpreter": {
    "hash": "31f2aee4e71d21fbe5cf8b01ff0e069b9275f58929596ceb00d14d90e3e16cd6"
   }
  }
 },
 "nbformat": 4,
 "nbformat_minor": 2
}
