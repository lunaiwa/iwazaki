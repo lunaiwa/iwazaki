{
 "cells": [
  {
   "cell_type": "markdown",
   "metadata": {},
   "source": [
    "# Lists and Dictionaries\n",
    "> Data Abstraction using Python Lists [] and Python Dictionaries {}.\n",
    "\n",
    "- title: Lists, Dictionaries, Iteration\n",
    "- toc: true\n",
    "- comments: true\n",
    "- categories: [coding]"
   ]
  },
  {
   "cell_type": "markdown",
   "metadata": {},
   "source": [
    "### Variable\n",
    "> Variables have types : string, integer, and float. Lists and Dictionaries is a key type!"
   ]
  },
  {
   "cell_type": "code",
   "execution_count": 1,
   "metadata": {},
   "outputs": [
    {
     "name": "stdout",
     "output_type": "stream",
     "text": [
      "name Luna Iwazaki <class 'str'>\n",
      "\n",
      "age 16 <class 'int'>\n",
      "\n",
      "score 3.0 <class 'float'>\n",
      "\n",
      "langs ['Python', 'JavaScript', 'Java', 'bash'] <class 'list'> length 4\n",
      "- langs[3] bash <class 'str'>\n",
      "\n",
      "person {'name': 'Luna Iwazaki', 'age': 16, 'score': 3.0, 'langs': ['Python', 'JavaScript', 'Java', 'bash']} <class 'dict'> length 4\n",
      "- person[\"name\"] Luna Iwazaki <class 'str'>\n"
     ]
    }
   ],
   "source": [
    "name = \"Luna Iwazaki\"\n",
    "print(\"name\", name, type(name))\n",
    "\n",
    "print()\n",
    "\n",
    "# variable of type integer\n",
    "age = 16\n",
    "print(\"age\", age, type(age))\n",
    "\n",
    "print()\n",
    "\n",
    "# variable of type float\n",
    "score = 3.00\n",
    "print(\"score\", score, type(score))\n",
    "\n",
    "print()\n",
    "\n",
    "# variable of type list (many values in one variable)\n",
    "langs = [\"Python\", \"JavaScript\", \"Java\", \"bash\"]\n",
    "print(\"langs\", langs, type(langs), \"length\", len(langs))\n",
    "print(\"- langs[3]\", langs[3], type(langs[3]))\n",
    "\n",
    "print()\n",
    "\n",
    "# variable of type dictionary (a group of keys and values)\n",
    "person = {\n",
    "    \"name\": name,\n",
    "    \"age\": age,\n",
    "    \"score\": score,\n",
    "    \"langs\": langs\n",
    "}\n",
    "print(\"person\", person, type(person), \"length\", len(person))\n",
    "print('- person[\"name\"]', person[\"name\"], type(person[\"name\"]))"
   ]
  },
  {
   "cell_type": "markdown",
   "metadata": {},
   "source": [
    "### Dictionaires"
   ]
  },
  {
   "cell_type": "code",
   "execution_count": 2,
   "metadata": {},
   "outputs": [
    {
     "name": "stdout",
     "output_type": "stream",
     "text": [
      "[{'FirstName': 'Luna', 'LastName': 'Iwazaki', 'DOB': 'November 19', 'Residence': 'San Diego', 'Fav_Game': 'Snake', 'Email': 'lunaiwazaki@gmail.com', 'Shapes': ['heart', 'circle', 'star']}, {'FirstName': 'Taiyo', 'LastName': 'Iwazaki', 'DOB': 'Novemebr 19', 'Residence': 'San Diego', 'Email': 'taiyoiwazaki@gmail.com', 'Fav_Game': 'Valorent', 'Shapes': ['square', 'circle', 'triangle']}]\n"
     ]
    }
   ],
   "source": [
    "infoDb = []\n",
    "\n",
    "# Append to List a Dictionary of key/values \n",
    "infoDb.append({\n",
    "    \"FirstName\": \"Luna\",\n",
    "    \"LastName\": \"Iwazaki\",\n",
    "    \"DOB\": \"November 19\",\n",
    "    \"Residence\": \"San Diego\",\n",
    "    \"Fav_Game\": \"Snake\",\n",
    "    \"Email\": \"lunaiwazaki@gmail.com\",\n",
    "    \"Shapes\": [\"heart\", \"circle\", \"star\"]\n",
    "})\n",
    "\n",
    "infoDb.append({\n",
    "    \"FirstName\": \"Taiyo\",\n",
    "    \"LastName\": \"Iwazaki\",\n",
    "    \"DOB\": \"Novemebr 19\",\n",
    "    \"Residence\": \"San Diego\",\n",
    "    \"Email\": \"taiyoiwazaki@gmail.com\",\n",
    "    \"Fav_Game\": \"Valorent\",\n",
    "    \"Shapes\": [\"square\", \"circle\", \"triangle\"]\n",
    "})\n",
    "\n",
    "# Print the data structure\n",
    "print(infoDb)\n"
   ]
  },
  {
   "cell_type": "markdown",
   "metadata": {},
   "source": [
    "### Loop Output\n",
    "> List printing"
   ]
  },
  {
   "cell_type": "code",
   "execution_count": 3,
   "metadata": {},
   "outputs": [
    {
     "name": "stdout",
     "output_type": "stream",
     "text": [
      "For loop output\n",
      "\n",
      "{'FirstName': 'Luna', 'LastName': 'Iwazaki', 'DOB': 'November 19', 'Residence': 'San Diego', 'Fav_Game': 'Snake', 'Email': 'lunaiwazaki@gmail.com', 'Shapes': ['heart', 'circle', 'star']}\n",
      "{'FirstName': 'Taiyo', 'LastName': 'Iwazaki', 'DOB': 'Novemebr 19', 'Residence': 'San Diego', 'Email': 'taiyoiwazaki@gmail.com', 'Fav_Game': 'Valorent', 'Shapes': ['square', 'circle', 'triangle']}\n"
     ]
    }
   ],
   "source": [
    "def for_loop():\n",
    "    print(\"For loop output\\n\")\n",
    "    for record in infoDb:\n",
    "        print(record)\n",
    "\n",
    "for_loop()"
   ]
  },
  {
   "cell_type": "markdown",
   "metadata": {},
   "source": [
    "### Loops and Index"
   ]
  },
  {
   "cell_type": "code",
   "execution_count": 4,
   "metadata": {},
   "outputs": [
    {
     "name": "stdout",
     "output_type": "stream",
     "text": [
      "For loop with index output\n",
      "\n",
      "Taiyo Iwazaki\n",
      "\t Residence: San Diego\n",
      "\t Birth Day: Novemebr 19\n",
      "\t Game Valorent\n",
      "\t Email: taiyoiwazaki@gmail.com\n",
      "\t Shapes: square, circle, triangle\n",
      "\n",
      "Luna Iwazaki\n",
      "\t Residence: San Diego\n",
      "\t Birth Day: November 19\n",
      "\t Game Snake\n",
      "\t Email: lunaiwazaki@gmail.com\n",
      "\t Shapes: heart, circle, star\n",
      "\n"
     ]
    }
   ],
   "source": [
    "def print_data(d_rec): #formatting\n",
    "    print(d_rec[\"FirstName\"], d_rec[\"LastName\"])  # using comma puts space between values\n",
    "    print(\"\\t\", \"Residence:\", d_rec[\"Residence\"]) # \\t is a tab indent\n",
    "    print(\"\\t\", \"Birth Day:\", d_rec[\"DOB\"])\n",
    "    print(\"\\t\", \"Game\", d_rec[\"Fav_Game\"])\n",
    "    print(\"\\t\", \"Email:\", d_rec[\"Email\"])\n",
    "    print(\"\\t\", \"Shapes: \", end=\"\")  # end=\"\" make sure no return occurs\n",
    "    print(\", \".join(d_rec[\"Shapes\"]))  # join allows printing a string list with separator\n",
    "    print()\n",
    "\n",
    "# for loop iterates on length of InfoDb\n",
    "def for_loop():\n",
    "    print(\"For loop with index output\\n\")\n",
    "    length = len(infoDb) #figures out the length of the list infoDb (which is 2 because there are 2 dictionaries in the list)\n",
    "    ran = range(length) #defines ran as the range of the length. (this is 0 and 1 because the length is 2)\n",
    "    for index in reversed(ran): #index is 0 and 1 so it takes the indexes of infoDb. 0 would be the first dictionary and 1 would be the second. reversed prints them as 1 0 instead of 0 1\n",
    "        print_data(infoDb[index])\n",
    "\n",
    "for_loop()"
   ]
  },
  {
   "cell_type": "markdown",
   "metadata": {},
   "source": [
    "### While Loop Output"
   ]
  },
  {
   "cell_type": "code",
   "execution_count": 5,
   "metadata": {},
   "outputs": [
    {
     "name": "stdout",
     "output_type": "stream",
     "text": [
      "While loop output\n",
      "\n",
      "Luna Iwazaki\n",
      "\t Residence: San Diego\n",
      "\t Birth Day: November 19\n",
      "\t Game Snake\n",
      "\t Email: lunaiwazaki@gmail.com\n",
      "\t Shapes: heart, circle, star\n",
      "\n",
      "Taiyo Iwazaki\n",
      "\t Residence: San Diego\n",
      "\t Birth Day: Novemebr 19\n",
      "\t Game Valorent\n",
      "\t Email: taiyoiwazaki@gmail.com\n",
      "\t Shapes: square, circle, triangle\n",
      "\n"
     ]
    }
   ],
   "source": [
    "def while_loop():\n",
    "    print(\"While loop output\\n\")\n",
    "    i = 0 \n",
    "    while i < len(infoDb): #length is 2 so while i is less than, it will keep printing\n",
    "        record = infoDb[i] #defines the record as the index of the list\n",
    "        print_data(record) #prints that index using the formatted print function\n",
    "        i += 1 #adds 1 and returns to the top till i is no longer <2\n",
    "    return\n",
    "\n",
    "while_loop()"
   ]
  },
  {
   "cell_type": "markdown",
   "metadata": {},
   "source": [
    "### Recursive Loop"
   ]
  },
  {
   "cell_type": "code",
   "execution_count": 6,
   "metadata": {},
   "outputs": [
    {
     "name": "stdout",
     "output_type": "stream",
     "text": [
      "Recursive loop output\n",
      "\n",
      "Luna Iwazaki\n",
      "\t Residence: San Diego\n",
      "\t Birth Day: November 19\n",
      "\t Game Snake\n",
      "\t Email: lunaiwazaki@gmail.com\n",
      "\t Shapes: heart, circle, star\n",
      "\n",
      "Taiyo Iwazaki\n",
      "\t Residence: San Diego\n",
      "\t Birth Day: Novemebr 19\n",
      "\t Game Valorent\n",
      "\t Email: taiyoiwazaki@gmail.com\n",
      "\t Shapes: square, circle, triangle\n",
      "\n"
     ]
    }
   ],
   "source": [
    "def recursive_loop(i):\n",
    "    if i < len(infoDb): #ensures the code stops after it recurses through all the indexes since length determines amount of indexes\n",
    "        record = infoDb[i] #defines record as the index of infoDb\n",
    "        print_data(record) #prints using the formatted print function\n",
    "        recursive_loop(i + 1) #adds 1 to the original index and returns until i is no longer <2\n",
    "    return\n",
    "    \n",
    "print(\"Recursive loop output\\n\")\n",
    "\n",
    "recursive_loop(0)"
   ]
  },
  {
   "cell_type": "markdown",
   "metadata": {},
   "source": [
    "### Add-Search-Delete"
   ]
  },
  {
   "cell_type": "code",
   "execution_count": 3,
   "metadata": {},
   "outputs": [
    {
     "name": "stdout",
     "output_type": "stream",
     "text": [
      "Invalid input. Please try again\n",
      "Come back again!\n",
      "Total Number of Records:  2\n",
      "Luna Iwazaki\n",
      "\t Residence: San Diego\n",
      "\t Birth Day: Novemeber 19\n",
      "\t Favorite Game: Snake\n",
      "\t Email: lunaiwazaki@gmail.com\n",
      "\n",
      "Taiyo Iwazaki\n",
      "\t Residence: San Diego\n",
      "\t Birth Day: Novemeber 19\n",
      "\t Favorite Game: Valorent\n",
      "\t Email: taiyoiwazaki@gmail.com\n",
      "\n"
     ]
    }
   ],
   "source": [
    "\n",
    "infoDb = []\n",
    "\n",
    "infoDb.append({\n",
    "    \"FirstName\": \"Luna\",\n",
    "    \"LastName\": \"Iwazaki\",\n",
    "    \"DOB\": \"Novemeber 19\",\n",
    "    \"Residence\": \"San Diego\",\n",
    "    \"Fav_Game\": \"Snake\",\n",
    "    \"Email\": \"lunaiwazaki@gmail.com\",\n",
    "})\n",
    "\n",
    "infoDb.append({\n",
    "    \"FirstName\": \"Taiyo\",\n",
    "    \"LastName\": \"Iwazaki\",\n",
    "    \"DOB\": \"Novemeber 19\",\n",
    "    \"Residence\": \"San Diego\",\n",
    "    \"Email\": \"taiyoiwazaki@gmail.com\",\n",
    "    \"Fav_Game\": \"Valorent\",\n",
    "})\n",
    "\n",
    "def print_data2(d_rec): #formatting\n",
    "    print(d_rec[\"FirstName\"], d_rec[\"LastName\"])  # using comma puts space between values\n",
    "    print(\"\\t\", \"Residence:\", d_rec[\"Residence\"]) # \\t is a tab indent\n",
    "    print(\"\\t\", \"Birth Day:\", d_rec[\"DOB\"])\n",
    "    print(\"\\t\", \"Favorite Game:\", d_rec[\"Fav_Game\"])\n",
    "    print(\"\\t\", \"Email:\", d_rec[\"Email\"])\n",
    "    print()\n",
    "\n",
    "def data_entry(): #defining the function that asks for user input\n",
    "    Firstname = input(\"What is your firstname?\")\n",
    "    Lastname = input(\"What is your lastname\")\n",
    "    DOB = input(\"When is your birthday\")\n",
    "    Email = input(\"What is your Email\")\n",
    "    Movie = input(\"What is your favorite game?\")\n",
    "    Residence = input(\"Where do you live?\")\n",
    "\n",
    "    infoDb.append({ #appends the user input to the dictionary\n",
    "        \"FirstName\": Firstname,\n",
    "        \"LastName\": Lastname,\n",
    "        \"DOB\": DOB,\n",
    "        \"Email\": Email,\n",
    "        \"Residence\": Residence,\n",
    "        \"Fav_Game\": Movie,\n",
    "   \n",
    "    })\n",
    "\n",
    "def search_data(firstname):\n",
    "    for record in infoDb:\n",
    "        if record[\"FirstName\"] == firstname: #compares the already existing name to the name inputted with the firstname variable\n",
    "            return record\n",
    "\n",
    "    return NULL\n",
    "\n",
    "def data_delete(firstname):\n",
    "    record = search_data(firstname) #defines record as the name inputted with the search function\n",
    "    if (record != NULL): #if the record doesn't equal null (does it exist?) then the next line removes it\n",
    "        infoDb.remove(record)\n",
    "        print(firstname, \"has been deleted!\")\n",
    "    else:\n",
    "        print(\"Record not found!\")\n",
    "\n",
    "def main():\n",
    "    Continue = True #defining continue as true\n",
    "    while Continue:\n",
    "        lol = input(\"What would you like to do (add/search/delete, type no if you want to exit)?\")\n",
    "        if lol == \"no\":\n",
    "            print(\"Come back again!\")\n",
    "            Continue = False\n",
    "        elif lol == \"add\":\n",
    "            data_entry()\n",
    "        elif lol == \"search\":\n",
    "            firstname = input(\"Who do you want to search (firstname)?\")\n",
    "            record = search_data(firstname) #defines record as the input \"name\" and runs it through the search function\n",
    "            print_data2(record)\n",
    "        elif lol == \"delete\":\n",
    "            firstname = input(\"Who do you want to delete(firstname)\")\n",
    "            data_delete(firstname)\n",
    "        else:\n",
    "            print(\"Invalid input. Please try again\")\n",
    "\n",
    "    length = len(infoDb) #defines length as the number of records\n",
    "    print(\"Total Number of Records: \", length) \n",
    "    for record in infoDb:\n",
    "            print_data2(record)\n",
    " \n",
    "main()"
   ]
  },
  {
   "cell_type": "markdown",
   "metadata": {},
   "source": [
    "### Quiz"
   ]
  },
  {
   "cell_type": "code",
   "execution_count": 4,
   "metadata": {},
   "outputs": [
    {
     "name": "stdout",
     "output_type": "stream",
     "text": [
      "Take this quiz to test your vocab!\n",
      "Question: What is the definition of INPUT? \t instructions given to a computer \t computer paper \t paper instructions\n",
      "Answer: instructions given to a computer\n",
      "Correct!\n",
      "Question: What is a squence? \t a line of code \t several lines of code  \t a button\n",
      "Answer: several lines of code\n",
      "Correct!\n",
      "Question: What is an output? \t information a computer gives \t a computer tab \t going outside\n",
      "Answer: information a computer gives\n",
      "Correct!\n",
      "Question: What does a variable do? \t gives variety \t a way to store your paper files \t way to name, store data, and reference data\n",
      "Answer: way to name, store data, and reference data\n",
      "Correct!\n",
      "Question: What are lists? \t something for the grocery \t the square brackets for grouping and ordering \t a square\n",
      "Answer: the square brackets for grouping and ordering\n",
      "Correct!\n",
      "You scored 5 /5 correct answers!\n",
      "Here is a record of your quiz answers: {'Question 1': 'instructions given to a computer', 'Question 2': 'several lines of code', 'Question 3': 'information a computer gives', 'Question 4': 'way to name, store data, and reference data', 'Question 5': 'the square brackets for grouping and ordering'}\n"
     ]
    }
   ],
   "source": [
    "questions = 5\n",
    "correct = 0\n",
    "\n",
    "print(\"Take this quiz to test your vocab!\")\n",
    "\n",
    "def question_and_answer(prompt, answer):\n",
    "    print(\"Question: \" + prompt)\n",
    "    msg = input()\n",
    "    print(\"Answer: \" + msg)\n",
    "    \n",
    "    if answer == msg.lower():\n",
    "        print(\"Correct!\")\n",
    "        global correct\n",
    "        correct += 1\n",
    "    else:\n",
    "        print (\"Incorrect!\")\n",
    "        \n",
    "    return msg\n",
    " \n",
    "Q1 = question_and_answer(\"What is the definition of INPUT? \\t instructions given to a computer \\t computer paper \\t paper instructions\", \"instructions given to a computer\")\n",
    "Q2 = question_and_answer(\"What is a squence? \\t a line of code \\t several lines of code  \\t a button\", \"several lines of code\")\n",
    "Q3 = question_and_answer(\"What is an output? \\t information a computer gives \\t a computer tab \\t going outside\", \"information a computer gives\")\n",
    "Q4 = question_and_answer(\"What does a variable do? \\t gives variety \\t a way to store your paper files \\t way to name, store data, and reference data\", \"way to name, store data, and reference data\")\n",
    "Q5 = question_and_answer(\"What are lists? \\t something for the grocery \\t the square brackets for grouping and ordering \\t a square\", \"the square brackets for grouping and ordering\")\n",
    "\n",
    "print(f'You scored {correct} /5 correct answers!')\n",
    "    \n",
    "Quiz = {\n",
    "    \"Question 1\": Q1,\n",
    "    \"Question 2\": Q2,\n",
    "    \"Question 3\": Q3,\n",
    "    \"Question 4\": Q4,\n",
    "    \"Question 5\": Q5\n",
    "}\n",
    "\n",
    "print(\"Here is a record of your quiz answers:\",Quiz)\n"
   ]
  }
 ],
 "metadata": {
  "kernelspec": {
   "display_name": "Python 3.9.12 ('base')",
   "language": "python",
   "name": "python3"
  },
  "language_info": {
   "codemirror_mode": {
    "name": "ipython",
    "version": 3
   },
   "file_extension": ".py",
   "mimetype": "text/x-python",
   "name": "python",
   "nbconvert_exporter": "python",
   "pygments_lexer": "ipython3",
   "version": "3.9.12"
  },
  "orig_nbformat": 4,
  "vscode": {
   "interpreter": {
    "hash": "cd78fef2128015050713e82ca51c6520b11aee7c9ee8df750520bbbc7384cbaa"
   }
  }
 },
 "nbformat": 4,
 "nbformat_minor": 2
}
