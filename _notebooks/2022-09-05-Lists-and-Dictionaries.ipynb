{
 "cells": [
  {
   "cell_type": "markdown",
   "metadata": {},
   "source": [
    "# Lists and Dictionaries\n",
    "> Data Abstraction using Python Lists [] and Python Dictionaries {}.\n",
    "\n",
    "- title: Lists, Dictionaries, Iteration\n",
    "- toc: true\n",
    "- comments: true\n",
    "- categories: [coding]"
   ]
  },
  {
   "cell_type": "markdown",
   "metadata": {},
   "source": [
    "### Variable\n",
    "> Variables have types : string, integer, and float. Lists and Dictionaries is a key type!"
   ]
  },
  {
   "cell_type": "code",
   "execution_count": 1,
   "metadata": {},
   "outputs": [
    {
     "name": "stdout",
     "output_type": "stream",
     "text": [
      "name Luna Iwazaki <class 'str'>\n",
      "\n",
      "age 16 <class 'int'>\n",
      "\n",
      "score 3.0 <class 'float'>\n",
      "\n",
      "langs ['Python', 'JavaScript', 'Java', 'bash'] <class 'list'> length 4\n",
      "- langs[3] bash <class 'str'>\n",
      "\n",
      "person {'name': 'Luna Iwazaki', 'age': 16, 'score': 3.0, 'langs': ['Python', 'JavaScript', 'Java', 'bash']} <class 'dict'> length 4\n",
      "- person[\"name\"] Luna Iwazaki <class 'str'>\n"
     ]
    }
   ],
   "source": [
    "name = \"Luna Iwazaki\"\n",
    "print(\"name\", name, type(name))\n",
    "\n",
    "print()\n",
    "\n",
    "# variable of type integer\n",
    "age = 16\n",
    "print(\"age\", age, type(age))\n",
    "\n",
    "print()\n",
    "\n",
    "# variable of type float\n",
    "score = 3.00\n",
    "print(\"score\", score, type(score))\n",
    "\n",
    "print()\n",
    "\n",
    "# variable of type list (many values in one variable)\n",
    "langs = [\"Python\", \"JavaScript\", \"Java\", \"bash\"]\n",
    "print(\"langs\", langs, type(langs), \"length\", len(langs))\n",
    "print(\"- langs[3]\", langs[3], type(langs[3]))\n",
    "\n",
    "print()\n",
    "\n",
    "# variable of type dictionary (a group of keys and values)\n",
    "person = {\n",
    "    \"name\": name,\n",
    "    \"age\": age,\n",
    "    \"score\": score,\n",
    "    \"langs\": langs\n",
    "}\n",
    "print(\"person\", person, type(person), \"length\", len(person))\n",
    "print('- person[\"name\"]', person[\"name\"], type(person[\"name\"]))"
   ]
  },
  {
   "cell_type": "markdown",
   "metadata": {},
   "source": [
    "### Dictionaires"
   ]
  },
  {
   "cell_type": "code",
   "execution_count": 2,
   "metadata": {},
   "outputs": [
    {
     "name": "stdout",
     "output_type": "stream",
     "text": [
      "[{'FirstName': 'Luna', 'LastName': 'Iwazaki', 'DOB': 'November 19', 'Residence': 'San Diego', 'Fav_Game': 'Snake', 'Email': 'lunaiwazaki@gmail.com', 'Shapes': ['heart', 'circle', 'star']}, {'FirstName': 'Taiyo', 'LastName': 'Iwazaki', 'DOB': 'Novemebr 19', 'Residence': 'San Diego', 'Email': 'taiyoiwazaki@gmail.com', 'Fav_Game': 'Valorent', 'Shapes': ['square', 'circle', 'triangle']}]\n"
     ]
    }
   ],
   "source": [
    "infoDb = []\n",
    "\n",
    "# Append to List a Dictionary of key/values \n",
    "infoDb.append({\n",
    "    \"FirstName\": \"Luna\",\n",
    "    \"LastName\": \"Iwazaki\",\n",
    "    \"DOB\": \"November 19\",\n",
    "    \"Residence\": \"San Diego\",\n",
    "    \"Fav_Game\": \"Snake\",\n",
    "    \"Email\": \"lunaiwazaki@gmail.com\",\n",
    "    \"Shapes\": [\"heart\", \"circle\", \"star\"]\n",
    "})\n",
    "\n",
    "infoDb.append({\n",
    "    \"FirstName\": \"Taiyo\",\n",
    "    \"LastName\": \"Iwazaki\",\n",
    "    \"DOB\": \"Novemebr 19\",\n",
    "    \"Residence\": \"San Diego\",\n",
    "    \"Email\": \"taiyoiwazaki@gmail.com\",\n",
    "    \"Fav_Game\": \"Valorent\",\n",
    "    \"Shapes\": [\"square\", \"circle\", \"triangle\"]\n",
    "})\n",
    "\n",
    "# Print the data structure\n",
    "print(infoDb)\n"
   ]
  },
  {
   "cell_type": "markdown",
   "metadata": {},
   "source": [
    "### Loop Output\n",
    "> List printing"
   ]
  },
  {
   "cell_type": "code",
   "execution_count": 3,
   "metadata": {},
   "outputs": [
    {
     "name": "stdout",
     "output_type": "stream",
     "text": [
      "For loop output\n",
      "\n",
      "{'FirstName': 'Luna', 'LastName': 'Iwazaki', 'DOB': 'November 19', 'Residence': 'San Diego', 'Fav_Game': 'Snake', 'Email': 'lunaiwazaki@gmail.com', 'Shapes': ['heart', 'circle', 'star']}\n",
      "{'FirstName': 'Taiyo', 'LastName': 'Iwazaki', 'DOB': 'Novemebr 19', 'Residence': 'San Diego', 'Email': 'taiyoiwazaki@gmail.com', 'Fav_Game': 'Valorent', 'Shapes': ['square', 'circle', 'triangle']}\n"
     ]
    }
   ],
   "source": [
    "def for_loop():\n",
    "    print(\"For loop output\\n\")\n",
    "    for record in infoDb:\n",
    "        print(record)\n",
    "\n",
    "for_loop()"
   ]
  },
  {
   "cell_type": "markdown",
   "metadata": {},
   "source": [
    "### Loops and Index"
   ]
  },
  {
   "cell_type": "code",
   "execution_count": 4,
   "metadata": {},
   "outputs": [
    {
     "name": "stdout",
     "output_type": "stream",
     "text": [
      "For loop with index output\n",
      "\n",
      "Taiyo Iwazaki\n",
      "\t Residence: San Diego\n",
      "\t Birth Day: Novemebr 19\n",
      "\t Game Valorent\n",
      "\t Email: taiyoiwazaki@gmail.com\n",
      "\t Shapes: square, circle, triangle\n",
      "\n",
      "Luna Iwazaki\n",
      "\t Residence: San Diego\n",
      "\t Birth Day: November 19\n",
      "\t Game Snake\n",
      "\t Email: lunaiwazaki@gmail.com\n",
      "\t Shapes: heart, circle, star\n",
      "\n"
     ]
    }
   ],
   "source": [
    "def print_data(d_rec): #formatting\n",
    "    print(d_rec[\"FirstName\"], d_rec[\"LastName\"])  # using comma puts space between values\n",
    "    print(\"\\t\", \"Residence:\", d_rec[\"Residence\"]) # \\t is a tab indent\n",
    "    print(\"\\t\", \"Birth Day:\", d_rec[\"DOB\"])\n",
    "    print(\"\\t\", \"Game\", d_rec[\"Fav_Game\"])\n",
    "    print(\"\\t\", \"Email:\", d_rec[\"Email\"])\n",
    "    print(\"\\t\", \"Shapes: \", end=\"\")  # end=\"\" make sure no return occurs\n",
    "    print(\", \".join(d_rec[\"Shapes\"]))  # join allows printing a string list with separator\n",
    "    print()\n",
    "\n",
    "# for loop iterates on length of InfoDb\n",
    "def for_loop():\n",
    "    print(\"For loop with index output\\n\")\n",
    "    length = len(infoDb) #figures out the length of the list infoDb (which is 2 because there are 2 dictionaries in the list)\n",
    "    ran = range(length) #defines ran as the range of the length. (this is 0 and 1 because the length is 2)\n",
    "    for index in reversed(ran): #index is 0 and 1 so it takes the indexes of infoDb. 0 would be the first dictionary and 1 would be the second. reversed prints them as 1 0 instead of 0 1\n",
    "        print_data(infoDb[index])\n",
    "\n",
    "for_loop()"
   ]
  },
  {
   "cell_type": "markdown",
   "metadata": {},
   "source": [
    "### While Loop Output"
   ]
  },
  {
   "cell_type": "code",
   "execution_count": 5,
   "metadata": {},
   "outputs": [
    {
     "name": "stdout",
     "output_type": "stream",
     "text": [
      "While loop output\n",
      "\n",
      "Luna Iwazaki\n",
      "\t Residence: San Diego\n",
      "\t Birth Day: November 19\n",
      "\t Game Snake\n",
      "\t Email: lunaiwazaki@gmail.com\n",
      "\t Shapes: heart, circle, star\n",
      "\n",
      "Taiyo Iwazaki\n",
      "\t Residence: San Diego\n",
      "\t Birth Day: Novemebr 19\n",
      "\t Game Valorent\n",
      "\t Email: taiyoiwazaki@gmail.com\n",
      "\t Shapes: square, circle, triangle\n",
      "\n"
     ]
    }
   ],
   "source": [
    "def while_loop():\n",
    "    print(\"While loop output\\n\")\n",
    "    i = 0 \n",
    "    while i < len(infoDb): #length is 2 so while i is less than, it will keep printing\n",
    "        record = infoDb[i] #defines the record as the index of the list\n",
    "        print_data(record) #prints that index using the formatted print function\n",
    "        i += 1 #adds 1 and returns to the top till i is no longer <2\n",
    "    return\n",
    "\n",
    "while_loop()"
   ]
  },
  {
   "cell_type": "markdown",
   "metadata": {},
   "source": [
    "### Recursive Loop"
   ]
  },
  {
   "cell_type": "code",
   "execution_count": 6,
   "metadata": {},
   "outputs": [
    {
     "name": "stdout",
     "output_type": "stream",
     "text": [
      "Recursive loop output\n",
      "\n",
      "Luna Iwazaki\n",
      "\t Residence: San Diego\n",
      "\t Birth Day: November 19\n",
      "\t Game Snake\n",
      "\t Email: lunaiwazaki@gmail.com\n",
      "\t Shapes: heart, circle, star\n",
      "\n",
      "Taiyo Iwazaki\n",
      "\t Residence: San Diego\n",
      "\t Birth Day: Novemebr 19\n",
      "\t Game Valorent\n",
      "\t Email: taiyoiwazaki@gmail.com\n",
      "\t Shapes: square, circle, triangle\n",
      "\n"
     ]
    }
   ],
   "source": [
    "def recursive_loop(i):\n",
    "    if i < len(infoDb): #ensures the code stops after it recurses through all the indexes since length determines amount of indexes\n",
    "        record = infoDb[i] #defines record as the index of infoDb\n",
    "        print_data(record) #prints using the formatted print function\n",
    "        recursive_loop(i + 1) #adds 1 to the original index and returns until i is no longer <2\n",
    "    return\n",
    "    \n",
    "print(\"Recursive loop output\\n\")\n",
    "\n",
    "recursive_loop(0)"
   ]
  }
 ],
 "metadata": {
  "kernelspec": {
   "display_name": "Python 3.9.12 ('base')",
   "language": "python",
   "name": "python3"
  },
  "language_info": {
   "codemirror_mode": {
    "name": "ipython",
    "version": 3
   },
   "file_extension": ".py",
   "mimetype": "text/x-python",
   "name": "python",
   "nbconvert_exporter": "python",
   "pygments_lexer": "ipython3",
   "version": "3.9.12"
  },
  "orig_nbformat": 4,
  "vscode": {
   "interpreter": {
    "hash": "cd78fef2128015050713e82ca51c6520b11aee7c9ee8df750520bbbc7384cbaa"
   }
  }
 },
 "nbformat": 4,
 "nbformat_minor": 2
}
