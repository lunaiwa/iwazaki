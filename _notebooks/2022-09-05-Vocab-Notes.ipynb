{
 "cells": [
  {
   "cell_type": "markdown",
   "metadata": {},
   "source": [
    "# Vocab Notes\n",
    "> Vocabulary for APCSP\n",
    "\n",
    "- title: Vocab Notes\n",
    "- toc: true\n",
    "- comments: true\n",
    "- categories: [coding]"
   ]
  },
  {
   "cell_type": "markdown",
   "metadata": {},
   "source": [
    "### Vocabulary\n",
    "\n",
    "- input = instructions given to a computer\n",
    "- sequence = several lines of code \n",
    "- output = infromation computer gives\n",
    "- key -> value\n",
    "- variables = way to name, store, data, and reference data\n",
    "- lists and dictionaries = variable with extended fetures for storing + retrieving data\n",
    "- lists = [] the square brackets for grouping and ordering\n",
    "- dictionaries = {} curley brackets for grouping into key-value relationships\n"
   ]
  },
  {
   "cell_type": "markdown",
   "metadata": {},
   "source": [
    "### Linux and Ubuntu\n",
    "\n",
    "- pwd = print directory\n",
    "- mkdir = make directory\n",
    "- cd = change directory\n",
    "- ls = list directory"
   ]
  }
 ],
 "metadata": {
  "kernelspec": {
   "display_name": "Python 3.8.2 64-bit",
   "language": "python",
   "name": "python3"
  },
  "language_info": {
   "name": "python",
   "version": "3.8.2"
  },
  "orig_nbformat": 4,
  "vscode": {
   "interpreter": {
    "hash": "31f2aee4e71d21fbe5cf8b01ff0e069b9275f58929596ceb00d14d90e3e16cd6"
   }
  }
 },
 "nbformat": 4,
 "nbformat_minor": 2
}
