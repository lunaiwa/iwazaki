{
 "cells": [
  {
   "cell_type": "code",
   "execution_count": null,
   "metadata": {},
   "outputs": [],
   "source": [
    "# Findings and New App\n",
    "> New app quiz and finidings \n",
    "\n",
    "- title: Findings and New App\n",
    "- toc: true\n",
    "- comments: true\n",
    "- categories: [coding]"
   ]
  },
  {
   "cell_type": "markdown",
   "metadata": {},
   "source": [
    "### Finidings \n",
    "\n",
    "Using the code.org is easier then using Python and other coding programs because the blocks act as a premade coding system. Not only are the blocks helpful to use but you can also veiw the code in the normal format by just clicking a button. This website allows for me and others to easily create different apps and programs by just putting different blocks together. The website also allows you to see what the finished product might look like on the left side of the screen. Any program that you have made can also be run and tested by just the click of a button. Images can be easily imported into the program. This is also easily accessable since this whole program can be run in your own web browser. T"
   ]
  }
 ],
 "metadata": {
  "language_info": {
   "name": "python"
  },
  "orig_nbformat": 4
 },
 "nbformat": 4,
 "nbformat_minor": 2
}
