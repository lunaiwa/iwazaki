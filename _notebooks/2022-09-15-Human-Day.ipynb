{
 "cells": [
  {
   "cell_type": "markdown",
   "metadata": {},
   "source": [
    "# Stress, Science, and Choice Habit making\n",
    "> Ted Talk and notes on behavior changes\n",
    "\n",
    "- title: Stress, Science, and Choice Habit Making\n",
    "- toc: true\n",
    "- comments: true\n",
    "- categories: [Human-Day]"
   ]
  },
  {
   "cell_type": "markdown",
   "metadata": {},
   "source": [
    "### What?\n",
    "\n",
    "What kinds of goals and habits do happy people have? 9:34-->cont."
   ]
  },
  {
   "cell_type": "markdown",
   "metadata": {},
   "source": [
    "### Physcology and the Good Life\n",
    "\n",
    "- most students are too stressed to enjoy life and do life\n",
    "- ie. not being able to enjoy a book\n",
    "- even Yale wants students to perform\n",
    "- lots of lack of performance in class"
   ]
  },
  {
   "cell_type": "markdown",
   "metadata": {},
   "source": [
    "### Classroom Habits\n",
    "\n",
    "- wasting whole day and big pile-up of homework"
   ]
  }
 ],
 "metadata": {
  "language_info": {
   "name": "python"
  },
  "orig_nbformat": 4
 },
 "nbformat": 4,
 "nbformat_minor": 2
}
