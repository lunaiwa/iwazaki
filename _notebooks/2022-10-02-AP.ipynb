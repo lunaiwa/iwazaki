{
 "cells": [
  {
   "cell_type": "markdown",
   "metadata": {},
   "source": [
    "# AP Prep Multiple Choice\n",
    "> Practice MCQ on collegeboard\n",
    "\n",
    "- title: AP Prep Multiple Choice\n",
    "- toc: true\n",
    "- comments: true\n",
    "- categories: [AP]"
   ]
  },
  {
   "cell_type": "markdown",
   "metadata": {},
   "source": [
    "# AP Practice Screen Shot"
   ]
  },
  {
   "cell_type": "markdown",
   "metadata": {},
   "source": [
    "![](https://lh3.googleusercontent.com/ntjacmxut8ZISYE-z6TlAW3Knxtd29u3NEuZWgeugtcWv3LqAt2_KFQwI76BABj-hG-kNtd8H6hDRFiYQsL93K-LFdoE-OzxjG5eFDXDew_U8s8iEWhAEiI6Jw1bNzxkn15XkdhdVcvpJT6RJcZ3tvr6COcItVH6KZZeRq5nNiM9jOkHuhCBujD3-9tG6hq38CIHzDx2tv3wAEyTMfgwl9VRXvAUZk0fRvUZ7W5fISIuzZU9ytrQ0DQVFPgJvlVzjwt7mDmTfNp75mYtMp02NTZFlauf3J1E_ertHxc8dJce4PI5slvSjtmKD1OPxVYDIUuMEz39HFuII6eBtd-oo4_v3pyfZqE-575fCI8pGVnLP5AQr4kgpc2tOImoIpP-QpTqhYC0T3NV_lhkaWjrFifu2Ezk7Eery6S_rsbqG8npDH1TzjPm80w6dWGpNibnOkcmGaMrxdFuIziWShQPkRsYOOmdO7iufvOZijfKQoC-_Yz2LBHj4F1hF6v_srYKEAZkuhOvn35jRd88jWEFR0E2YA_VQHlXN0daf5hgzrsfsJmeEYJIiz4LzcLB227-vj22Ufv5Qavu4Ot190zdrhUaHitPpkhF5N-GpJod2wSxnXJm_A9Jv8fumtOYRA94fcOKCzTzcxBQW1Sc-h9wAhADhb2OnMxCPh5soEa4NNYRhRksOBay83atqukR-hBGkPlZ9gbSM1xAvQ99_dAop2zW5QfZpIyY4bmT2H-N86MiksoesIflfNBUdBYhFDIQm0Cra5av1Vh4aAWwh-sajWsV9GWWFEhrk-jNy7O1eILOsnnFZGx_bQuDktUP8feA-d0L4GSiAjQ67wJG6qgGHShrkuSuctdriVR0Z9J6iIHykbwIO7s9j6W5Cjo2UKOMPeQTjCUqGxcjmCwV4NCyiTfFgX7sK5gJ1THiCMC9hUQw8suMQgGmLHMJ3Zp5jjpSAG_EBpdG126-zCO9XbZpcNMAXfuPnb8GIrV3Ryl6sAAOAcs-=w2038-h752-no?authuser=0)"
   ]
  },
  {
   "cell_type": "markdown",
   "metadata": {},
   "source": [
    "# Confusing Questions and Understanding"
   ]
  },
  {
   "cell_type": "markdown",
   "metadata": {},
   "source": [
    "### Collaboration Quiz - 100%\n",
    "> The questions were easy to understand since we were already implementing these things and activities into our daily work as a SCRUM team! :)"
   ]
  },
  {
   "cell_type": "markdown",
   "metadata": {},
   "source": [
    "### Program Design and Development Quiz - 33%\n",
    "> Documentation for Procedure with a loop: odd numbers then even are printed!! Becuase the count starts at 1 and increases every 2 making the count odd!! Then the loop is terminated when it is at max."
   ]
  },
  {
   "cell_type": "code",
   "execution_count": null,
   "metadata": {},
   "outputs": [],
   "source": [
    "PROCEDURE printNums(max)\n",
    "\n",
    "{\n",
    "\n",
    "count ← 1\n",
    "\n",
    "REPEAT UNTIL(count > max)\n",
    "\n",
    "{\n",
    "\n",
    "DISPLAY(count)\n",
    "\n",
    "count ← count + 2\n",
    "\n",
    "}\n",
    "\n",
    "}"
   ]
  },
  {
   "cell_type": "markdown",
   "metadata": {},
   "source": [
    "### Program Function and Purpose Quiz (MCQs) - 50%"
   ]
  },
  {
   "cell_type": "markdown",
   "metadata": {},
   "source": [
    "Behavior of code that multiplies inside a loop: I need to work on figuring out loop code! \n",
    "![](https://assets.learnosity.com/organisations/537/VR165469.g02.png)\n",
    "> Correct first portion which ia 2(5^3) but the second part is wrong where it needs to be **multiplying the result by 5 3 times!**\n",
    "\n",
    "![](https://assets.learnosity.com/organisations/537/VH892187.g02.png)\n",
    "> value displays when y=true and when x is negative"
   ]
  }
 ],
 "metadata": {
  "kernelspec": {
   "display_name": "Python 3.8.2 64-bit",
   "language": "python",
   "name": "python3"
  },
  "language_info": {
   "name": "python",
   "version": "3.8.2"
  },
  "orig_nbformat": 4,
  "vscode": {
   "interpreter": {
    "hash": "31f2aee4e71d21fbe5cf8b01ff0e069b9275f58929596ceb00d14d90e3e16cd6"
   }
  }
 },
 "nbformat": 4,
 "nbformat_minor": 2
}
