{
 "cells": [
  {
   "cell_type": "markdown",
   "metadata": {},
   "source": [
    "# APCSP Notes\n",
    "> CSP notes from the apclassroom videos\n",
    "\n",
    "- title: Big Idea Notes\n",
    "- toc: true\n",
    "- comments: true\n",
    "- categories: [ap]"
   ]
  },
  {
   "cell_type": "markdown",
   "metadata": {},
   "source": [
    "## Unit 1"
   ]
  },
  {
   "cell_type": "markdown",
   "metadata": {},
   "source": [
    "**1.1 : Collaboration**\n"
   ]
  },
  {
   "cell_type": "markdown",
   "metadata": {},
   "source": [
    "Video 1"
   ]
  },
  {
   "cell_type": "markdown",
   "metadata": {},
   "source": [
    "- colaboration introduces different views and perspectives and prevents the use of bias\n",
    "- without collaboration many differnt well enjoyed games wouldn't be here today\n",
    "- communitcation, consensus building, conflict resolution, and negotiation are four most important things"
   ]
  },
  {
   "cell_type": "markdown",
   "metadata": {},
   "source": [
    "Video 2"
   ]
  },
  {
   "cell_type": "markdown",
   "metadata": {},
   "source": [
    "- pair share programing is one way to collaborate in computer science, not only will you be collaborating but you will also be able to edit your work and get help for some problems\n",
    "- think-pair-share is also another way to collaborate in computer science, when you have a problem you can get another's opinon and work through it together\n",
    "- you can also share your github repository and let others edit your code\n"
   ]
  },
  {
   "cell_type": "markdown",
   "metadata": {},
   "source": [
    "**1.2 : Program Function and Purpose**"
   ]
  },
  {
   "cell_type": "markdown",
   "metadata": {},
   "source": [
    "Video 1"
   ]
  },
  {
   "cell_type": "markdown",
   "metadata": {},
   "source": [
    "- applications, physical devices, and systems are three examples\n",
    "- applications are also called APPs and they are a bunch of games, scoail, buisness, or productivty lots of them are usally downloaded to our devices\n",
    "- they are software applications that are in our lives\n",
    "- physical devices are those that you can touch; phones, computers, laptops, ect.\n",
    "- *e-commerce* is electronic commerce, things we buy online"
   ]
  },
  {
   "cell_type": "markdown",
   "metadata": {},
   "source": [
    "Video 2"
   ]
  },
  {
   "cell_type": "markdown",
   "metadata": {},
   "source": [
    "- in event driven progra, program statements are excluded when triggered, rather than through the sequential flow of contorl\n",
    "- input can come from a user or other programs\n",
    "- program outputs are any data sent from a program to a device. Program output can come in a varitey of forms, such as tactile, audio, visual, or text\n",
    "- program output is usually based on a program's input or prior state"
   ]
  },
  {
   "cell_type": "markdown",
   "metadata": {},
   "source": [
    "Video 3"
   ]
  },
  {
   "cell_type": "markdown",
   "metadata": {},
   "source": [
    "- program is a collection of program statments that performs a specific task when run by a computer\n",
    "- program is often reffered to a software\n",
    "- code segment is a collection of program statements that is part of program\n",
    "- program needs to work for a variety of inputs and situations"
   ]
  },
  {
   "cell_type": "markdown",
   "metadata": {},
   "source": [
    "**1.3 : Program Design and Development**"
   ]
  },
  {
   "cell_type": "markdown",
   "metadata": {},
   "source": [
    "Video 1"
   ]
  },
  {
   "cell_type": "markdown",
   "metadata": {},
   "source": [
    "- developing program using a development process\n",
    "- design a program and its user interface\n",
    "- program is developed by testing occuring at the micro and macro level\n",
    "- devs refine and revise through testing, feedback, and reflection"
   ]
  },
  {
   "cell_type": "markdown",
   "metadata": {},
   "source": [
    "Video 2"
   ]
  },
  {
   "cell_type": "markdown",
   "metadata": {},
   "source": [
    "- important to acknowledge any code segments that were developed collaborativly or by another source\n",
    "- programs are rarely developed by a solo force and is usally made by a team"
   ]
  },
  {
   "cell_type": "markdown",
   "metadata": {},
   "source": [
    "Video 3"
   ]
  },
  {
   "cell_type": "markdown",
   "metadata": {},
   "source": [
    "- program documentation is a wirtten segment of how this was made, how it should work, and the event\n",
    "- comments are a form of program and is read by people *it doesn't effect the code!*\n",
    "- programmers should document their code through the making!\n",
    "- program documention helps developing and mainitaining correct programs when working by yourself or in a teamwork envrioment\n",
    "- not all programing enviroments support comments!"
   ]
  },
  {
   "cell_type": "markdown",
   "metadata": {},
   "source": [
    "**1.4 : Identifying and Correcting Errors**"
   ]
  },
  {
   "cell_type": "markdown",
   "metadata": {},
   "source": [
    "Video 1"
   ]
  },
  {
   "cell_type": "markdown",
   "metadata": {},
   "source": [
    "- logic error is a mistake in algorithim or program that cuases it to behave incorrectly\n",
    "- syntax error is a mistake in the program where rules of programing do not apply (ex: using python in markdown)\n",
    "- run-time error is a mistake in program during execution\n",
    "- program languages define their own runtime errors\n",
    "- overflow error is an error that occurs when a computer attempts to handel a number that is outside of the defined range of value"
   ]
  },
  {
   "cell_type": "markdown",
   "metadata": {},
   "source": [
    "Video 2"
   ]
  },
  {
   "cell_type": "markdown",
   "metadata": {},
   "source": [
    "- you can correct errors using; test cases, hand tracing, visualizations, debuggers, adding extra output statment(s)"
   ]
  },
  {
   "cell_type": "markdown",
   "metadata": {},
   "source": [
    "Video 3"
   ]
  },
  {
   "cell_type": "markdown",
   "metadata": {},
   "source": [
    "- in development process, testing uses defined inputs to ensure algoritim or program is producing the expected outcomes\n",
    "- programmers use the results from testing to revise their algorithms or programs\n",
    "- defined inputs used to test a program should demonstrate the different expected outcomes that are at or just beyond the extremes (minimum and maximum) of input data\n",
    "- program reqirements are needed to identify appropirate definece inputs for testing"
   ]
  },
  {
   "cell_type": "markdown",
   "metadata": {},
   "source": [
    "## Unit 2"
   ]
  },
  {
   "cell_type": "markdown",
   "metadata": {},
   "source": [
    "**2.1 : Binary Numbers**"
   ]
  },
  {
   "cell_type": "markdown",
   "metadata": {},
   "source": [
    "**2.2 : Data Compression**"
   ]
  },
  {
   "cell_type": "markdown",
   "metadata": {},
   "source": [
    "**2.3 : Extracting Information from Data**"
   ]
  },
  {
   "cell_type": "markdown",
   "metadata": {},
   "source": [
    "**2.4 : Using Programs with Data**"
   ]
  },
  {
   "cell_type": "markdown",
   "metadata": {},
   "source": [
    "## Unit 3"
   ]
  },
  {
   "cell_type": "markdown",
   "metadata": {},
   "source": []
  },
  {
   "cell_type": "markdown",
   "metadata": {},
   "source": [
    "## Unit 4"
   ]
  },
  {
   "cell_type": "markdown",
   "metadata": {},
   "source": [
    "**4.1 : The Internet**"
   ]
  },
  {
   "cell_type": "markdown",
   "metadata": {},
   "source": [
    "**4.2 : Fault Tolerence**"
   ]
  },
  {
   "cell_type": "markdown",
   "metadata": {},
   "source": [
    "**4.3 : Parallel and Distributed Coding**"
   ]
  }
 ],
 "metadata": {
  "kernelspec": {
   "display_name": "Python 3.8.2 64-bit",
   "language": "python",
   "name": "python3"
  },
  "language_info": {
   "name": "python",
   "version": "3.8.2"
  },
  "orig_nbformat": 4,
  "vscode": {
   "interpreter": {
    "hash": "31f2aee4e71d21fbe5cf8b01ff0e069b9275f58929596ceb00d14d90e3e16cd6"
   }
  }
 },
 "nbformat": 4,
 "nbformat_minor": 2
}
