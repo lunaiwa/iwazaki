{
 "cells": [
  {
   "cell_type": "markdown",
   "metadata": {},
   "source": [
    "# USA Computing Olympiad\n",
    "> test \n",
    "\n",
    "- title: USA Computing Olympiad\n",
    "- toc: true\n",
    "- comments: truediv\n",
    "- categories: [USA Comp.]"
   ]
  },
  {
   "cell_type": "markdown",
   "metadata": {},
   "source": [
    "### Problem 1. Milk Pails - Bronze"
   ]
  },
  {
   "cell_type": "code",
   "execution_count": 5,
   "metadata": {
    "vscode": {
     "languageId": "javascript"
    }
   },
   "outputs": [
    {
     "ename": "SyntaxError",
     "evalue": "Missing parentheses in call to 'print'. Did you mean print(f)? (3863215481.py, line 45)",
     "output_type": "error",
     "traceback": [
      "\u001b[0;36m  Input \u001b[0;32mIn [5]\u001b[0;36m\u001b[0m\n\u001b[0;31m    print f\u001b[0m\n\u001b[0m          ^\u001b[0m\n\u001b[0;31mSyntaxError\u001b[0m\u001b[0;31m:\u001b[0m Missing parentheses in call to 'print'. Did you mean print(f)?\n"
     ]
    }
   ],
   "source": [
    "o= open(\"pails.in\",\"r\")\n",
    "o2=open(\"pails.out\",\"w\")\n",
    "\n",
    "l=[]\n",
    "f=[]\n",
    "\n",
    "for i in o:\n",
    "    d=list(i.split(' '))\n",
    "\n",
    "for v in d:\n",
    "    v=int(v)\n",
    "    l.append(v)\n",
    "\n",
    "x=int(l[0])\n",
    "y=int(l[1])\n",
    "m=int(l[2])\n",
    "ox=x\n",
    "oy=y\n",
    "rand=1\n",
    "\n",
    "if m%x == 0 or m%y == 0 or ((m%y)%x)==0 or ((m%x)%y)==0:\n",
    "    o2.write(str(m))\n",
    "\n",
    "else:\n",
    "    while y*rand<=m:\n",
    "        f.append(y*rand)\n",
    "        rand+=1\n",
    "\n",
    "    while x*rand<=m:\n",
    "        f.append(x*rand)\n",
    "        rand+=1\n",
    "\n",
    "    while x+y<=m:\n",
    "        sum=x+y\n",
    "        f.append(sum)\n",
    "        y+=oy\n",
    "        if x+y>m:\n",
    "            x+=ox\n",
    "            y=oy\n",
    "\n",
    "    if not f:\n",
    "        o2.write(str(y))\n",
    "    else:\n",
    "        o2.write(str(max(f)))\n",
    "print f\n"
   ]
  },
  {
   "cell_type": "markdown",
   "metadata": {},
   "source": []
  },
  {
   "cell_type": "markdown",
   "metadata": {},
   "source": [
    "###"
   ]
  }
 ],
 "metadata": {
  "kernelspec": {
   "display_name": "Python 3.9.12 ('base')",
   "language": "python",
   "name": "python3"
  },
  "language_info": {
   "codemirror_mode": {
    "name": "ipython",
    "version": 3
   },
   "file_extension": ".py",
   "mimetype": "text/x-python",
   "name": "python",
   "nbconvert_exporter": "python",
   "pygments_lexer": "ipython3",
   "version": "3.9.12"
  },
  "orig_nbformat": 4,
  "vscode": {
   "interpreter": {
    "hash": "cd78fef2128015050713e82ca51c6520b11aee7c9ee8df750520bbbc7384cbaa"
   }
  }
 },
 "nbformat": 4,
 "nbformat_minor": 2
}
