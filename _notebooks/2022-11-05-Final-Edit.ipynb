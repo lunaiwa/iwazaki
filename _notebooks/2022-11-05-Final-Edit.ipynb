{
 "cells": [
  {
   "cell_type": "markdown",
   "metadata": {},
   "source": [
    "# Final Trimester 1 Edit\n",
    "> Final notes and edit for the Trimester 1 test\n",
    "\n",
    "- title: Final Trimester 1 Editing\n",
    "- toc: true\n",
    "- comments: true\n",
    "- categories: [final]"
   ]
  },
  {
   "cell_type": "markdown",
   "metadata": {},
   "source": [
    "# Questions"
   ]
  },
  {
   "cell_type": "markdown",
   "metadata": {},
   "source": [
    "### Q1 Behavior of code that multiplies inside a loop"
   ]
  },
  {
   "cell_type": "markdown",
   "metadata": {},
   "source": [
    "!()[https://assets.learnosity.com/organisations/537/VR165469.g02.png]"
   ]
  },
  {
   "cell_type": "markdown",
   "metadata": {},
   "source": [
    "The code segment displays the value of  2(5^3)  by initializing result to 2 and then multiplying result by 5 a total of three times."
   ]
  },
  {
   "cell_type": "markdown",
   "metadata": {},
   "source": [
    "### Q16 How information is transmitted on the Interne"
   ]
  },
  {
   "cell_type": "markdown",
   "metadata": {},
   "source": [
    "Which of the following best explains how messages are typically transmitted over the Internet?"
   ]
  },
  {
   "cell_type": "markdown",
   "metadata": {},
   "source": [
    "The message is broken into packets. The packets can be received in any order and still be reassembled by the recipient’s device."
   ]
  },
  {
   "cell_type": "markdown",
   "metadata": {},
   "source": [
    "### Q32 Contents of myList and yourList"
   ]
  },
  {
   "cell_type": "markdown",
   "metadata": {},
   "source": [
    "!()[https://assets.learnosity.com/organisations/537/VR166947.g01.png]"
   ]
  },
  {
   "cell_type": "markdown",
   "metadata": {},
   "source": [
    "[10,30,50,70]"
   ]
  },
  {
   "cell_type": "markdown",
   "metadata": {},
   "source": [
    "### Q34 Music instrument lists after assignments"
   ]
  },
  {
   "cell_type": "markdown",
   "metadata": {},
   "source": [
    "firstList ← [\"guitar\", \"drums\", \"bass\"]\n",
    "\n",
    "secondList ← [\"flute\", \"violin\"]\n",
    "\n",
    "thirdList ← []\n",
    "\n",
    "thirdList ← firstList\n",
    "\n",
    "firstList ← secondList\n",
    "\n",
    "secondList ← thirdList"
   ]
  },
  {
   "cell_type": "markdown",
   "metadata": {},
   "source": [
    "[\"guitar\", \"drums\", \"bass\"]"
   ]
  },
  {
   "cell_type": "markdown",
   "metadata": {},
   "source": [
    "### Q40 Value displayed by IF ELSE block"
   ]
  },
  {
   "cell_type": "markdown",
   "metadata": {},
   "source": [
    "!()[https://assets.learnosity.com/organisations/537/VR167821.g01.png]"
   ]
  },
  {
   "cell_type": "markdown",
   "metadata": {},
   "source": [
    "-2"
   ]
  },
  {
   "cell_type": "markdown",
   "metadata": {},
   "source": [
    "### Q43 Value of x after REPEAT UNTIL block"
   ]
  },
  {
   "cell_type": "markdown",
   "metadata": {},
   "source": [
    "!()[https://assets.learnosity.com/organisations/537/VR167044.g02.png]"
   ]
  },
  {
   "cell_type": "markdown",
   "metadata": {},
   "source": [
    "15"
   ]
  },
  {
   "cell_type": "markdown",
   "metadata": {},
   "source": [
    "### Q47 Values of variables after arithmetic operations"
   ]
  },
  {
   "cell_type": "markdown",
   "metadata": {},
   "source": [
    "!()[https://assets.learnosity.com/organisations/537/VR165444.g04.png]"
   ]
  },
  {
   "cell_type": "markdown",
   "metadata": {},
   "source": [
    "21 40 30 50"
   ]
  },
  {
   "cell_type": "markdown",
   "metadata": {},
   "source": [
    "### Q48 Which variables are equal to 50 after assignments"
   ]
  },
  {
   "cell_type": "markdown",
   "metadata": {},
   "source": [
    "x ← 25\n",
    "\n",
    "y ← 50\n",
    "\n",
    "z ← 75\n",
    "\n",
    "x ← y\n",
    "\n",
    "y ← z\n",
    "\n",
    "z ← x"
   ]
  },
  {
   "cell_type": "markdown",
   "metadata": {},
   "source": [
    "x and z only"
   ]
  }
 ],
 "metadata": {
  "kernelspec": {
   "display_name": "Python 3.8.9 64-bit",
   "language": "python",
   "name": "python3"
  },
  "language_info": {
   "name": "python",
   "version": "3.8.9"
  },
  "orig_nbformat": 4,
  "vscode": {
   "interpreter": {
    "hash": "31f2aee4e71d21fbe5cf8b01ff0e069b9275f58929596ceb00d14d90e3e16cd6"
   }
  }
 },
 "nbformat": 4,
 "nbformat_minor": 2
}
