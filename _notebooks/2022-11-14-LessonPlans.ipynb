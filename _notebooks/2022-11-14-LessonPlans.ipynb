{
 "cells": [
  {
   "cell_type": "markdown",
   "metadata": {},
   "source": [
    "# Final Trimester 1 Edit\n",
    "> Final notes and edit for the Trimester 1 test\n",
    "\n",
    "- title: Final Trimester 1 Editing\n",
    "- toc: true\n",
    "- comments: true\n",
    "- categories: [final]"
   ]
  }
 ],
 "metadata": {
  "language_info": {
   "name": "python"
  },
  "orig_nbformat": 4
 },
 "nbformat": 4,
 "nbformat_minor": 2
}
