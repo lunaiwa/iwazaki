{
 "cells": [
  {
   "attachments": {},
   "cell_type": "markdown",
   "metadata": {},
   "source": [
    "# Unit 3.11-3.13 HACKS\n",
    "> Review tickets for Unit 3 Sections 11 and 13\n",
    "\n",
    "- title: HACKS 11-13\n",
    "- toc: true\n",
    "- comments: true\n",
    "- categories: [unit 3]\n",
    "- badges: true"
   ]
  },
  {
   "attachments": {},
   "cell_type": "markdown",
   "metadata": {},
   "source": [
    "### Essential Knowledge"
   ]
  },
  {
   "cell_type": "markdown",
   "metadata": {},
   "source": []
  },
  {
   "attachments": {},
   "cell_type": "markdown",
   "metadata": {},
   "source": [
    "Procedure: also called a function, it is a small section or piece of code which does something specific or does a specific task"
   ]
  },
  {
   "cell_type": "code",
   "execution_count": null,
   "metadata": {},
   "outputs": [],
   "source": [
    "# procedure code"
   ]
  },
  {
   "attachments": {},
   "cell_type": "markdown",
   "metadata": {},
   "source": [
    "Parameter: variable passed into a function"
   ]
  },
  {
   "cell_type": "code",
   "execution_count": null,
   "metadata": {},
   "outputs": [],
   "source": [
    "# parameter code"
   ]
  },
  {
   "attachments": {},
   "cell_type": "markdown",
   "metadata": {},
   "source": [
    "Return Values: function that returns to called function when the task is completed"
   ]
  },
  {
   "cell_type": "code",
   "execution_count": null,
   "metadata": {},
   "outputs": [],
   "source": [
    "# return values code"
   ]
  },
  {
   "attachments": {},
   "cell_type": "markdown",
   "metadata": {},
   "source": [
    "Output Parameters: refers to one section of the code as an input to function"
   ]
  },
  {
   "cell_type": "code",
   "execution_count": null,
   "metadata": {},
   "outputs": [],
   "source": [
    "# output parameters code"
   ]
  },
  {
   "attachments": {},
   "cell_type": "markdown",
   "metadata": {},
   "source": [
    "Procedure Names: ex. in this code the procedure's name is 9 and 10"
   ]
  },
  {
   "cell_type": "code",
   "execution_count": null,
   "metadata": {},
   "outputs": [],
   "source": [
    "# procedure names\n",
    "x = 9\n",
    "y = 10"
   ]
  },
  {
   "attachments": {},
   "cell_type": "markdown",
   "metadata": {},
   "source": [
    "Arguments: a way to give more information to functions"
   ]
  },
  {
   "cell_type": "code",
   "execution_count": null,
   "metadata": {},
   "outputs": [],
   "source": [
    "# arguments code"
   ]
  },
  {
   "attachments": {},
   "cell_type": "markdown",
   "metadata": {},
   "source": [
    "1. Why abstracting away your program logic into separate, modular functions is effective"
   ]
  },
  {
   "cell_type": "code",
   "execution_count": null,
   "metadata": {},
   "outputs": [],
   "source": [
    "# abstracting away code"
   ]
  },
  {
   "attachments": {},
   "cell_type": "markdown",
   "metadata": {},
   "source": [
    "<hr/>"
   ]
  },
  {
   "attachments": {},
   "cell_type": "markdown",
   "metadata": {},
   "source": [
    "### Quiz"
   ]
  },
  {
   "attachments": {},
   "cell_type": "markdown",
   "metadata": {},
   "source": [
    "Complete quiz:"
   ]
  },
  {
   "cell_type": "code",
   "execution_count": 3,
   "metadata": {},
   "outputs": [
    {
     "name": "stdout",
     "output_type": "stream",
     "text": [
      "Question: What is are correct names for a procedure? \n",
      " A) Method \n",
      " B) Function \n",
      " C) Both\n",
      "Answer: c\n",
      "Correct :) \n",
      "\n",
      "Question: What is a procedure? \n",
      " A) Sequencing \n",
      " B) Selection \n",
      " C) Iteration \n",
      " D) All\n",
      "Answer: d\n",
      "Correct :) \n",
      "\n",
      "Question: Use this for following question: \n",
      " def inchesToFeet(lengthInches): \n",
      "\t lengthFeet = lengthInches / 12 \n",
      "\t return lengthFeet \n",
      "\n",
      " What is the procedure name, the parameter, and what the procedure returns? \n",
      " A) feetToInches, lengthInches, lengthMeters \n",
      " B) inchesToFeet, lengthInches, lengthFeet \n",
      " C) inchesToFeet, lengthFeet, lengthInches \n",
      " D) lengthInches, inchesToFeet, lengthFeet\n",
      "Answer: b\n",
      "Correct :) \n",
      "\n",
      "Score: 3 / 3\n"
     ]
    }
   ],
   "source": [
    "questionNum = 3\n",
    "correct = 0\n",
    "questions = [\n",
    "    \"What is are correct names for a procedure? \\n A) Method \\n B) Function \\n C) Both\",\n",
    "    \"What is a procedure? \\n A) Sequencing \\n B) Selection \\n C) Iteration \\n D) All\",\n",
    "    \"Use this for following question: \\n def inchesToFeet(lengthInches): \\n\\t lengthFeet = lengthInches / 12 \\n\\t return lengthFeet \\n\\n What is the procedure name, the parameter, and what the procedure returns? \\n A) feetToInches, lengthInches, lengthMeters \\n B) inchesToFeet, lengthInches, lengthFeet \\n C) inchesToFeet, lengthFeet, lengthInches \\n D) lengthInches, inchesToFeet, lengthFeet\"]\n",
    "answers = [\"c\", \"d\", \"b\"]\n",
    "\n",
    "def qna(question, answer):\n",
    "    print(\"Question:\", question)\n",
    "    response = input()\n",
    "    print(\"Answer:\", response)\n",
    "    \n",
    "    if response.lower() == answer:\n",
    "        print(\"Correct :) \\n\")\n",
    "        global correct\n",
    "        correct += 1\n",
    "    else:\n",
    "        print(\"Incorrect :( \\n\")\n",
    "for x in range(questionNum):\n",
    "    qna(questions[x], answers[x])\n",
    "    \n",
    "print(\"Score:\", correct, \"/ 3\")"
   ]
  },
  {
   "attachments": {},
   "cell_type": "markdown",
   "metadata": {},
   "source": [
    "<hr/>"
   ]
  },
  {
   "attachments": {},
   "cell_type": "markdown",
   "metadata": {},
   "source": [
    "### Procedure Code"
   ]
  },
  {
   "attachments": {},
   "cell_type": "markdown",
   "metadata": {},
   "source": [
    "Code a procedure that finds the square root of any given number. (make sure to call and return the function)"
   ]
  },
  {
   "cell_type": "code",
   "execution_count": 11,
   "metadata": {},
   "outputs": [
    {
     "name": "stdout",
     "output_type": "stream",
     "text": [
      "Your number is:9\n"
     ]
    },
    {
     "ename": "TypeError",
     "evalue": "must be real number, not str",
     "output_type": "error",
     "traceback": [
      "\u001b[0;31m---------------------------------------------------------------------------\u001b[0m",
      "\u001b[0;31mTypeError\u001b[0m                                 Traceback (most recent call last)",
      "Cell \u001b[0;32mIn[11], line 8\u001b[0m\n\u001b[1;32m      5\u001b[0m \u001b[39mprint\u001b[39m(\u001b[39m\"\u001b[39m\u001b[39mYour number is:\u001b[39m\u001b[39m\"\u001b[39m \u001b[39m+\u001b[39m num)\n\u001b[1;32m      7\u001b[0m \u001b[39m# print the square root of  0 \u001b[39;00m\n\u001b[0;32m----> 8\u001b[0m \u001b[39mprint\u001b[39m(math\u001b[39m.\u001b[39;49msqrt(x)) \n",
      "\u001b[0;31mTypeError\u001b[0m: must be real number, not str"
     ]
    }
   ],
   "source": [
    "--"
   ]
  },
  {
   "attachments": {},
   "cell_type": "markdown",
   "metadata": {},
   "source": [
    "<hr/>"
   ]
  },
  {
   "attachments": {},
   "cell_type": "markdown",
   "metadata": {},
   "source": [
    "### Sub-Procedures"
   ]
  },
  {
   "attachments": {},
   "cell_type": "markdown",
   "metadata": {},
   "source": [
    "1. Create a procedure that uses other sub-procedures (other functions) within it and explain why the abstraction was needed (conciseness, shared behavior, ect.)\n",
    "2. Add another layer of abstraction to the word counter program (HINT: create a function that can count the number of words starting with ANY character in a given string -- how can we leverage parameters for this?)"
   ]
  },
  {
   "attachments": {},
   "cell_type": "markdown",
   "metadata": {},
   "source": [
    "<hr/>"
   ]
  },
  {
   "attachments": {},
   "cell_type": "markdown",
   "metadata": {},
   "source": [
    "### Procedures, Arguments, Parameters"
   ]
  },
  {
   "attachments": {},
   "cell_type": "markdown",
   "metadata": {},
   "source": [
    "Code some procedures that use arguments and parameters with Javascript and HTML (make sure they are interactive on your hacks page, allowing the user to input numbers and lick a button to produce an output)"
   ]
  },
  {
   "attachments": {},
   "cell_type": "markdown",
   "metadata": {},
   "source": [
    "- add two numbers\n",
    "- subtract two numbers\n",
    "- multiply two numbers\n",
    "- divide two numbers"
   ]
  }
 ],
 "metadata": {
  "kernelspec": {
   "display_name": "Python 3.8.9 64-bit",
   "language": "python",
   "name": "python3"
  },
  "language_info": {
   "codemirror_mode": {
    "name": "ipython",
    "version": 3
   },
   "file_extension": ".py",
   "mimetype": "text/x-python",
   "name": "python",
   "nbconvert_exporter": "python",
   "pygments_lexer": "ipython3",
   "version": "3.8.9"
  },
  "orig_nbformat": 4,
  "vscode": {
   "interpreter": {
    "hash": "31f2aee4e71d21fbe5cf8b01ff0e069b9275f58929596ceb00d14d90e3e16cd6"
   }
  }
 },
 "nbformat": 4,
 "nbformat_minor": 2
}
