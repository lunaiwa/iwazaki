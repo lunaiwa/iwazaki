{
 "cells": [
  {
   "attachments": {},
   "cell_type": "markdown",
   "metadata": {},
   "source": [
    "# Unit 3.16 HACKS\n",
    "> Review tickets for Unit 3 Section 16\n",
    "\n",
    "- title: HACKS 16\n",
    "- toc: true\n",
    "- comments: true\n",
    "- categories: [unit 3]\n",
    "- badges: true"
   ]
  },
  {
   "attachments": {},
   "cell_type": "markdown",
   "metadata": {},
   "source": [
    "<hr/>"
   ]
  },
  {
   "attachments": {},
   "cell_type": "markdown",
   "metadata": {},
   "source": [
    "### Essential Knowledge"
   ]
  },
  {
   "attachments": {},
   "cell_type": "markdown",
   "metadata": {},
   "source": [
    "Experiment: procedure undertaken to make a discovery, test a hypothesis, or demonstrate a known fact"
   ]
  },
  {
   "attachments": {},
   "cell_type": "markdown",
   "metadata": {},
   "source": [
    "- **Advantages**: \n",
    "    - Can be safer\n",
    "    - More cost-effective\n",
    "    - More efficient \n",
    "    - More data in less time\n",
    "- **Disadvantages**:\n",
    "    - Not as accurate as experiments\n",
    "    - outside factors not included (ex: in rolling dice simulation gravity and air resistance)\n",
    "- When do you <u>not</u> use a simulation?\n",
    "    - when a situation already has set results/data (won't change) \n",
    "    - examples: a score in a game, most purchased food, average yearly wage"
   ]
  },
  {
   "attachments": {},
   "cell_type": "markdown",
   "metadata": {},
   "source": [
    "<hr/>"
   ]
  },
  {
   "attachments": {},
   "cell_type": "markdown",
   "metadata": {},
   "source": [
    "### Simulation Description"
   ]
  },
  {
   "attachments": {},
   "cell_type": "markdown",
   "metadata": {},
   "source": [
    "Create an idea for a simulation and describe it (you don’t actually have to code it just think about/answer the guiding questions)."
   ]
  },
  {
   "attachments": {},
   "cell_type": "markdown",
   "metadata": {},
   "source": [
    "--"
   ]
  },
  {
   "attachments": {},
   "cell_type": "markdown",
   "metadata": {},
   "source": [
    "<hr/>"
   ]
  },
  {
   "attachments": {},
   "cell_type": "markdown",
   "metadata": {},
   "source": [
    "### Simulation Quiz"
   ]
  },
  {
   "cell_type": "code",
   "execution_count": 3,
   "metadata": {},
   "outputs": [
    {
     "name": "stdout",
     "output_type": "stream",
     "text": [
      "Welcome to the Simulations Quiz!\n",
      "\n",
      " True or False: Simulations will always have the same result. \n",
      " A: True, \n",
      " B: False\n",
      "You said:  B\n",
      "Correct!\n",
      "\n",
      " True or False: A simulation has results that are more accurate than an experiment \n",
      " A: True, \n",
      " B: False\n",
      "You said:  B\n",
      "Correct!\n",
      "\n",
      " True or False: A simulation can model real world events that are not practical for experiments \n",
      " A: True, \n",
      " B: False\n",
      "You said:  A\n",
      "Correct!\n",
      "\n",
      " Which one of these is FALSE regarding simulations \n",
      " A: Reduces Costs, \n",
      " B: Is safer than real life experiments, \n",
      " C: More Efficient, \n",
      " D: More accurate than real life experiments\n",
      "You said:  D\n",
      "Correct!\n",
      "\n",
      " Which of the following scenarios would be the LEAST beneficial to have as a simulation \n",
      " A: A retail company wants to identify the item which sold the most on their website, \n",
      " B: A restaurant wants to determine if the use of robots will increase efficiency, \n",
      " C: An insurance company wants to study the impact of rain on car accidents, \n",
      " D: A sports car company wants to study design changes to their new bike design \n",
      "You said:  A\n",
      "Correct!\n",
      "\n",
      " Which of the following is better to do as a simulation than as a calculation \n",
      " A: Keeping score at a basketball game, \n",
      " B: Keeping track of how many games a person has won, \n",
      " C: Determining the average grade for a group of tests, \n",
      " D: Studying the impact of carbon emissions on the environment\n",
      "You said:  D\n",
      "Correct!\n",
      "You scored:  6 /6\n"
     ]
    }
   ],
   "source": [
    "questions_number = 6\n",
    "answers_correct = 0\n",
    "questions = [\n",
    "    \"True or False: Simulations will always have the same result. \\n A: True, \\n B: False\",\n",
    "    \"True or False: A simulation has results that are more accurate than an experiment \\n A: True, \\n B: False\",\n",
    "    \"True or False: A simulation can model real world events that are not practical for experiments \\n A: True, \\n B: False\",\n",
    "    \"Which one of these is FALSE regarding simulations \\n A: Reduces Costs, \\n B: Is safer than real life experiments, \\n C: More Efficient, \\n D: More accurate than real life experiments\",\n",
    "    \"Which of the following scenarios would be the LEAST beneficial to have as a simulation \\n A: A retail company wants to identify the item which sold the most on their website, \\n B: A restaurant wants to determine if the use of robots will increase efficiency, \\n C: An insurance company wants to study the impact of rain on car accidents, \\n D: A sports car company wants to study design changes to their new bike design \",\n",
    "    \"Which of the following is better to do as a simulation than as a calculation \\n A: Keeping score at a basketball game, \\n B: Keeping track of how many games a person has won, \\n C: Determining the average grade for a group of tests, \\n D: Studying the impact of carbon emissions on the environment\"\n",
    "]\n",
    "question_answers = [\n",
    "    \"B\",\n",
    "    \"B\",\n",
    "    \"A\",\n",
    "    \"D\",\n",
    "    \"A\",\n",
    "    \"D\"\n",
    "]\n",
    "\n",
    "print(\"Welcome to the Simulations Quiz!\")\n",
    "\n",
    "def ask_question (question, answer):\n",
    "    print(\"\\n\", question)\n",
    "    user_answer = input(question)\n",
    "    print(\"You said: \", user_answer)\n",
    "\n",
    "    if user_answer == answer:\n",
    "        print(\"Correct!\")\n",
    "        global answers_correct\n",
    "        answers_correct = answers_correct + 1\n",
    "    else:\n",
    "        print(\"You are incorrect\")\n",
    "    \n",
    "for num in range(questions_number):\n",
    "    ask_question(questions[num], question_answers[num])\n",
    "\n",
    "print(\"You scored: \", answers_correct, \"/6\")"
   ]
  },
  {
   "attachments": {},
   "cell_type": "markdown",
   "metadata": {},
   "source": [
    "<hr/>"
   ]
  },
  {
   "attachments": {},
   "cell_type": "markdown",
   "metadata": {},
   "source": [
    "### Dice Rolling"
   ]
  },
  {
   "attachments": {},
   "cell_type": "markdown",
   "metadata": {},
   "source": [
    "Describe the rolling dice simulation (answer guiding questions)"
   ]
  },
  {
   "attachments": {},
   "cell_type": "markdown",
   "metadata": {},
   "source": [
    "<hr/>"
   ]
  },
  {
   "attachments": {},
   "cell_type": "markdown",
   "metadata": {},
   "source": [
    "### Feature to Rolling Dice"
   ]
  },
  {
   "attachments": {},
   "cell_type": "markdown",
   "metadata": {},
   "source": [
    "Add a feature onto the rolling dice simulation above \n",
    "    - ex: a 14-sided dice or expand the purpose of the simulation (hint: use conditionals to make dice part of a game/real life situation)"
   ]
  },
  {
   "attachments": {},
   "cell_type": "markdown",
   "metadata": {},
   "source": [
    "<hr/>"
   ]
  },
  {
   "attachments": {},
   "cell_type": "markdown",
   "metadata": {},
   "source": [
    "### Simple Simulation Code"
   ]
  },
  {
   "attachments": {},
   "cell_type": "markdown",
   "metadata": {},
   "source": [
    "Code a simple simulation and describe it"
   ]
  },
  {
   "attachments": {},
   "cell_type": "markdown",
   "metadata": {},
   "source": [
    "<hr/>"
   ]
  },
  {
   "attachments": {},
   "cell_type": "markdown",
   "metadata": {},
   "source": [
    "### Conway Game of Life"
   ]
  },
  {
   "attachments": {},
   "cell_type": "markdown",
   "metadata": {},
   "source": [
    "Research Conway's game of life and show understanding."
   ]
  }
 ],
 "metadata": {
  "kernelspec": {
   "display_name": "Python 3",
   "language": "python",
   "name": "python3"
  },
  "language_info": {
   "codemirror_mode": {
    "name": "ipython",
    "version": 3
   },
   "file_extension": ".py",
   "mimetype": "text/x-python",
   "name": "python",
   "nbconvert_exporter": "python",
   "pygments_lexer": "ipython3",
   "version": "3.8.9 (default, Apr 13 2022, 08:48:06) \n[Clang 13.1.6 (clang-1316.0.21.2.5)]"
  },
  "orig_nbformat": 4,
  "vscode": {
   "interpreter": {
    "hash": "31f2aee4e71d21fbe5cf8b01ff0e069b9275f58929596ceb00d14d90e3e16cd6"
   }
  }
 },
 "nbformat": 4,
 "nbformat_minor": 2
}
