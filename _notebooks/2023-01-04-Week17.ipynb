{
 "cells": [
  {
   "attachments": {},
   "cell_type": "markdown",
   "metadata": {},
   "source": [
    "# Week 17\n",
    "> Vocabulary of the week\n",
    "\n",
    "- title: Week 17 \n",
    "- toc: true\n",
    "- comments: true\n",
    "- categories: \n",
    "- badges: true"
   ]
  },
  {
   "attachments": {},
   "cell_type": "markdown",
   "metadata": {},
   "source": [
    "---"
   ]
  },
  {
   "attachments": {},
   "cell_type": "markdown",
   "metadata": {},
   "source": [
    "### Human Day"
   ]
  },
  {
   "attachments": {},
   "cell_type": "markdown",
   "metadata": {},
   "source": [
    "**Agile** is the class mantra\n",
    "\n",
    "**Aglie:** The process of building a software engineering culture to enable the user to work on things of interest and purpose.\n",
    "\n",
    "**Agile** can help teams prioritize and deliver software while being creative."
   ]
  },
  {
   "attachments": {},
   "cell_type": "markdown",
   "metadata": {},
   "source": [
    "**CI/CD:** Continuous Integration/Continuous Delivery, you can show Mr.Mort what you are doing by showing the online commits -> and the ability of representing work.\n",
    "**CI/CD** can improve quality when it is online and gives others the ability to review the work. Clicking on the actions at the github page allows the other users to see "
   ]
  },
  {
   "attachments": {},
   "cell_type": "markdown",
   "metadata": {},
   "source": [
    "**Dog Hair:** Missing code or errors laying around or left on a project (poor quality and doesn't show improvement)."
   ]
  }
 ],
 "metadata": {
  "kernelspec": {
   "display_name": "Python 3",
   "language": "python",
   "name": "python3"
  },
  "language_info": {
   "name": "python",
   "version": "3.8.9 (default, Apr 13 2022, 08:48:06) \n[Clang 13.1.6 (clang-1316.0.21.2.5)]"
  },
  "orig_nbformat": 4,
  "vscode": {
   "interpreter": {
    "hash": "31f2aee4e71d21fbe5cf8b01ff0e069b9275f58929596ceb00d14d90e3e16cd6"
   }
  }
 },
 "nbformat": 4,
 "nbformat_minor": 2
}
