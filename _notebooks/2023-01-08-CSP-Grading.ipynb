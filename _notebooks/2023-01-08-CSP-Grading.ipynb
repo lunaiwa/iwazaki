{
 "cells": [
  {
   "attachments": {},
   "cell_type": "markdown",
   "metadata": {},
   "source": [
    "# APCSP Grading Requirements\n",
    "> Vocabulary of the week\n",
    "\n",
    "- title: APCSP Grading Requirements\n",
    "- toc: true\n",
    "- comments: true\n",
    "- categories: [APCSP Requirements]\n",
    "- badges: true"
   ]
  },
  {
   "attachments": {},
   "cell_type": "markdown",
   "metadata": {},
   "source": [
    "---"
   ]
  },
  {
   "attachments": {},
   "cell_type": "markdown",
   "metadata": {},
   "source": [
    "### Collegeboard Scoring Requirements"
   ]
  },
  {
   "attachments": {},
   "cell_type": "markdown",
   "metadata": {},
   "source": [
    "Here is the link to the requirements needed for [APCSP](https://apcentral.collegeboard.org/media/pdf/ap22-sg-computer-science-principles.pdf)"
   ]
  },
  {
   "attachments": {},
   "cell_type": "markdown",
   "metadata": {},
   "source": [
    "--"
   ]
  },
  {
   "attachments": {},
   "cell_type": "markdown",
   "metadata": {},
   "source": [
    "[Collegeboard Grading Table](https://github.com/lunaiwa/iwazaki/issues/13#issue-1525225100)"
   ]
  },
  {
   "attachments": {},
   "cell_type": "markdown",
   "metadata": {},
   "source": [
    "### Submission # 1"
   ]
  },
  {
   "attachments": {},
   "cell_type": "markdown",
   "metadata": {},
   "source": [
    "**Reflection:**"
   ]
  },
  {
   "attachments": {},
   "cell_type": "markdown",
   "metadata": {},
   "source": [
    "- I feel that college board had graded this student harshly, they had a great overall assignment and most of the time I was surprised when I saw the score since I feel that the student had done well in most parts.\n",
    "- The purpose and function was not well done though, they only described the function and not the purpose\n",
    "- purpose=why this program exists to be done\n",
    "- function=the action of the program"
   ]
  },
  {
   "attachments": {},
   "cell_type": "markdown",
   "metadata": {},
   "source": [
    "### Submission # 2"
   ]
  },
  {
   "attachments": {},
   "cell_type": "markdown",
   "metadata": {},
   "source": [
    "**Reflection**"
   ]
  },
  {
   "attachments": {},
   "cell_type": "markdown",
   "metadata": {},
   "source": [
    "- The explinations were very through and the videos and writing were able to fulfill all of the requirements that were needed\n",
    "- The student showed amazing work and their steps were very clear and consisice. \n",
    "- Overall this student followed all of the AP Collegeboard requirments needed for this assignment"
   ]
  }
 ],
 "metadata": {
  "language_info": {
   "name": "python"
  },
  "orig_nbformat": 4
 },
 "nbformat": 4,
 "nbformat_minor": 2
}
