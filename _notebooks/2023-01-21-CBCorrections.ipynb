{
 "cells": [
  {
   "attachments": {},
   "cell_type": "markdown",
   "metadata": {},
   "source": [
    "# College Board Test Corrections\n",
    "> Grading the wrong questions on the APCSP test\n",
    "\n",
    "- title: College Board Test Corrections\n",
    "- toc: true\n",
    "- comments: true\n",
    "- categories: [APCSP Requirements]\n",
    "- badges: true"
   ]
  },
  {
   "attachments": {},
   "cell_type": "markdown",
   "metadata": {},
   "source": [
    "### Q8 Laptops being borrowed from a school library"
   ]
  },
  {
   "attachments": {},
   "cell_type": "markdown",
   "metadata": {},
   "source": [
    "<img width=\"810\" src=\"https://user-images.githubusercontent.com/111661543/215829374-9a405eff-a1ca-4ca9-bf19-bbc817fcedc2.png\">"
   ]
  },
  {
   "attachments": {},
   "cell_type": "markdown",
   "metadata": {},
   "source": [
    "This option is correct. If the difference between the variable borrows and the variable returns is 0, they must have the same value. This would indicate that each time the particular laptop was borrowed it was returned, which would indicate the laptop is not currently borrowed."
   ]
  },
  {
   "attachments": {},
   "cell_type": "markdown",
   "metadata": {},
   "source": [
    "### Q10 Boolean expressions equivalent to num greater than or equal to 15"
   ]
  },
  {
   "attachments": {},
   "cell_type": "markdown",
   "metadata": {},
   "source": [
    "<img width=\"818\" src=\"https://user-images.githubusercontent.com/111661543/215829495-f16ae390-33ee-4b9f-80fa-2bbb81ab6ce9.png\">"
   ]
  },
  {
   "attachments": {},
   "cell_type": "markdown",
   "metadata": {},
   "source": [
    "The expression (num greater than 15) or (num equals 15) evaluates to true if (num greater than 15)\n",
    " is true, or if (num equals 15)\n",
    " is true, or if both are true. \n",
    " The original expression (the expression in this problem) evaluates to true if  numis greater than or equal to 15."
   ]
  },
  {
   "attachments": {},
   "cell_type": "markdown",
   "metadata": {},
   "source": [
    "### Q17 selection equivalent to Boolean expression"
   ]
  },
  {
   "attachments": {},
   "cell_type": "markdown",
   "metadata": {},
   "source": [
    "<img width=\"813\" src=\"https://user-images.githubusercontent.com/111661543/215829608-0f7779f0-d65a-4521-a238-a41f70ab0926.png\">"
   ]
  },
  {
   "attachments": {},
   "cell_type": "markdown",
   "metadata": {},
   "source": [
    "### Q30 use drawCircle to draw figure on a coordinate grid"
   ]
  },
  {
   "attachments": {},
   "cell_type": "markdown",
   "metadata": {},
   "source": [
    "<img width=\"827\" alt=\"Screen Shot 2023-01-31 at 8 55 34 AM\" src=\"https://user-images.githubusercontent.com/111661543/215829733-bdfaece5-6bb3-4ff4-bc59-a3dfdab99a1e.png\">"
   ]
  },
  {
   "attachments": {},
   "cell_type": "markdown",
   "metadata": {},
   "source": [
    "<img width=\"829\" src=\"https://user-images.githubusercontent.com/111661543/215829827-d56cb2a5-8caa-4487-93b7-90fac82290ca.png\">"
   ]
  },
  {
   "attachments": {},
   "cell_type": "markdown",
   "metadata": {},
   "source": [
    "### Q33 Find maximum value algorithms"
   ]
  },
  {
   "attachments": {},
   "cell_type": "markdown",
   "metadata": {},
   "source": [
    "<img width=\"823\" src=\"https://user-images.githubusercontent.com/111661543/215829961-30fa0dc3-f735-48c3-8489-bc57f52beba3.png\">"
   ]
  },
  {
   "attachments": {},
   "cell_type": "markdown",
   "metadata": {},
   "source": [
    "B is incorrect. Algorithm I does not work correctly when the maximum value is less than -1. Algorithm II works correctly in all cases."
   ]
  },
  {
   "attachments": {},
   "cell_type": "markdown",
   "metadata": {},
   "source": [
    "### Q42 Car manufacturer simulations"
   ]
  },
  {
   "attachments": {},
   "cell_type": "markdown",
   "metadata": {},
   "source": [
    "<img width=\"817\" src=\"https://user-images.githubusercontent.com/111661543/215830091-7e67ab34-6a5a-41dc-9df4-c477c62e8785.png\">"
   ]
  },
  {
   "attachments": {},
   "cell_type": "markdown",
   "metadata": {},
   "source": [
    "C is incorrect. While statements II and III are correct, statement I is also correct because software simulations can usually be built before a prototype car."
   ]
  },
  {
   "attachments": {},
   "cell_type": "markdown",
   "metadata": {},
   "source": [
    "### Q49 What problems can be solved with algorithms"
   ]
  },
  {
   "attachments": {},
   "cell_type": "markdown",
   "metadata": {},
   "source": [
    "<img width=\"821\" src=\"https://user-images.githubusercontent.com/111661543/215830197-7178b70a-45a8-4a80-a9f2-457743d9edf1.png\">"
   ]
  },
  {
   "attachments": {},
   "cell_type": "markdown",
   "metadata": {},
   "source": [
    "C is incorrect. Some problems cannot be solved with an algorithm for all possible inputs."
   ]
  }
 ],
 "metadata": {
  "kernelspec": {
   "display_name": "Python 3",
   "language": "python",
   "name": "python3"
  },
  "language_info": {
   "name": "python",
   "version": "3.8.9 (default, Apr 13 2022, 08:48:06) \n[Clang 13.1.6 (clang-1316.0.21.2.5)]"
  },
  "orig_nbformat": 4,
  "vscode": {
   "interpreter": {
    "hash": "31f2aee4e71d21fbe5cf8b01ff0e069b9275f58929596ceb00d14d90e3e16cd6"
   }
  }
 },
 "nbformat": 4,
 "nbformat_minor": 2
}
