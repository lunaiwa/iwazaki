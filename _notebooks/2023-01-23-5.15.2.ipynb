{
 "cells": [
  {
   "attachments": {},
   "cell_type": "markdown",
   "metadata": {},
   "source": [
    "# 5.1 & 5.2 Blog\n",
    "> Beneficial and Harmful potential effects of this project\n",
    "\n",
    "- title: 5.1 & 5.2 Blog\n",
    "- toc: true\n",
    "- comments: true\n",
    "- categories: [APCSP Requirements]\n",
    "- badges: true"
   ]
  },
  {
   "attachments": {},
   "cell_type": "markdown",
   "metadata": {},
   "source": [
    "### Notes"
   ]
  },
  {
   "attachments": {},
   "cell_type": "markdown",
   "metadata": {},
   "source": [
    "- Chat GPT keeps getting sponsored by Microsoft because they beleive it will out compete Google\n",
    "- Although chat GPT is a great resource to use and is very technologically advanced it has it's own flaws which is it doesn't cite it's own sources\n",
    "- Lots of people don't have access to technology, even us, although we live in a reletivly wealthy community our school blocks things on their wifi"
   ]
  },
  {
   "attachments": {},
   "cell_type": "markdown",
   "metadata": {},
   "source": [
    "---"
   ]
  },
  {
   "attachments": {},
   "cell_type": "markdown",
   "metadata": {},
   "source": [
    "**5.1 Reflection:**"
   ]
  },
  {
   "attachments": {},
   "cell_type": "markdown",
   "metadata": {},
   "source": [
    "Dopamine: Today since COVID many people recive their dopamine through TikTok and short 30-10 second videos on the internet. It is hard to regulate this kind of addiction and the easiest way is just deleting Tiktok. Another way people get their dopamine is through video games. As long as the user fairly regulates their use they will be fine."
   ]
  },
  {
   "attachments": {},
   "cell_type": "markdown",
   "metadata": {},
   "source": [
    "Benefits of Computers:"
   ]
  },
  {
   "attachments": {},
   "cell_type": "markdown",
   "metadata": {},
   "source": [
    "- Easy for researchers to create simulations\n",
    "- Easy access to information through the internet\n",
    "- Easy to communicate with others even if they live far away"
   ]
  },
  {
   "attachments": {},
   "cell_type": "markdown",
   "metadata": {},
   "source": [
    "Harmful Effects of Computers:"
   ]
  },
  {
   "attachments": {},
   "cell_type": "markdown",
   "metadata": {},
   "source": [
    "- Less user privacy\n",
    "- Addictions to one's digital/phone\n",
    "- People lose their jobs to robots/automation"
   ]
  },
  {
   "attachments": {},
   "cell_type": "markdown",
   "metadata": {},
   "source": [
    "**5.2 Reflection:**"
   ]
  },
  {
   "attachments": {},
   "cell_type": "markdown",
   "metadata": {},
   "source": [
    "Lots of people can have different perspectives on how the internet is depending on which side they are on. The internet is a vast space and many different people have different perspectives because of where they are or their expericneces. Because we live in a relativly wealthy area, many of us have expericenced using a computer, have searched somthing up, or just used the internet. But, if you compare us to a less wealthy area some of the people there maybe aren't able to do things like that."
   ]
  },
  {
   "attachments": {},
   "cell_type": "markdown",
   "metadata": {},
   "source": [
    "**Three beneficial effects:**"
   ]
  },
  {
   "attachments": {},
   "cell_type": "markdown",
   "metadata": {},
   "source": [
    "1. Easy for users to find a car of their choosing if they don't know a lot about cars\n",
    "2. Helps user find a car that will fulfill their needs\n",
    "3. Shows new information to users"
   ]
  },
  {
   "attachments": {},
   "cell_type": "markdown",
   "metadata": {},
   "source": [
    "**Three harmful effects:**"
   ]
  },
  {
   "attachments": {},
   "cell_type": "markdown",
   "metadata": {},
   "source": [
    "1. Can lead to more car accidents if those who are irresponsible are promoted to buy a car\n",
    "2. Can take the job of those who promote cars\n",
    "3. Promotes pollution and emision producing vehicles"
   ]
  },
  {
   "attachments": {},
   "cell_type": "markdown",
   "metadata": {},
   "source": [
    "**Pros/Cons of internet blockers at routers and lack of admin passwords on lab machines at school:**"
   ]
  },
  {
   "attachments": {},
   "cell_type": "markdown",
   "metadata": {},
   "source": [
    "Pros:"
   ]
  },
  {
   "attachments": {},
   "cell_type": "markdown",
   "metadata": {},
   "source": [
    "- Need less management over what students are using\n",
    "- Less distractions during class"
   ]
  },
  {
   "attachments": {},
   "cell_type": "markdown",
   "metadata": {},
   "source": [
    "Cons:"
   ]
  },
  {
   "attachments": {},
   "cell_type": "markdown",
   "metadata": {},
   "source": [
    "- Have to use specific online tools just to bypass the blockers\n",
    "- Have to install a VPN when needing to use specific tools (most VPNs require a monthly costly membership)\n",
    "- Sometimes some useful resources for learning are blocked"
   ]
  },
  {
   "attachments": {},
   "cell_type": "markdown",
   "metadata": {},
   "source": [
    "Although the cons outweigh the pros, the pros have a larger effect. I think that although we should keep the internet blockers, the school should provide VPNs for the students in the CSP class. Similar to those in engineering, they get provided INVENTOR, the students in CSP should be provided with a VPN which can only be activated during their class time by the admin/teacher."
   ]
  },
  {
   "attachments": {},
   "cell_type": "markdown",
   "metadata": {},
   "source": [
    "**Digital Divide:**"
   ]
  },
  {
   "attachments": {},
   "cell_type": "markdown",
   "metadata": {},
   "source": [
    "A lot of the high paying jobs today use computers. If many with out technology don't know how to use computers they probably won't get the job because they probably are required to know how to use a computer. This means there is an inequallity to those who get jobs and those who don't. As the social gap grows wider so does the digital divide. Buying and charging the technology requires lts of money but learning how to use the technology also takes time out of people's day."
   ]
  }
 ],
 "metadata": {
  "kernelspec": {
   "display_name": "Python 3",
   "language": "python",
   "name": "python3"
  },
  "language_info": {
   "name": "python",
   "version": "3.8.9 (default, Apr 13 2022, 08:48:06) \n[Clang 13.1.6 (clang-1316.0.21.2.5)]"
  },
  "orig_nbformat": 4,
  "vscode": {
   "interpreter": {
    "hash": "31f2aee4e71d21fbe5cf8b01ff0e069b9275f58929596ceb00d14d90e3e16cd6"
   }
  }
 },
 "nbformat": 4,
 "nbformat_minor": 2
}
