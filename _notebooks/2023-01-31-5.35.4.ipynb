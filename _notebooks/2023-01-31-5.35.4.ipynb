{
 "cells": [
  {
   "attachments": {},
   "cell_type": "markdown",
   "metadata": {},
   "source": [
    "# 5.3 & 5.4 Blog\n",
    "> Computing Bias & Crowd Sourcing\n",
    "\n",
    "- title: 5.3 & 5.4 Blog\n",
    "- toc: true\n",
    "- comments: true\n",
    "- categories: [APCSP Requirements]\n",
    "- badges: true"
   ]
  },
  {
   "attachments": {},
   "cell_type": "markdown",
   "metadata": {},
   "source": [
    "### Notes"
   ]
  },
  {
   "attachments": {},
   "cell_type": "markdown",
   "metadata": {},
   "source": [
    "- Without admission to bias there cannot be collaboration\n",
    "- Collaboration = Breaking up bias and thinking about bias\n",
    "- Many virtual assistants have female voices "
   ]
  },
  {
   "attachments": {},
   "cell_type": "markdown",
   "metadata": {},
   "source": [
    "### Collaboration 5.3"
   ]
  },
  {
   "attachments": {},
   "cell_type": "markdown",
   "metadata": {},
   "source": [
    "- Tiktok is like the new instagram\n",
    "- There is more exposure to harmful things on facbook compared to tiktok\n",
    "- It is hard to censor on tiktok compared to facebook because there are so many videos\n",
    "- Female virtual assistants have more articulate vowels which makes the easier to understand\n",
    "- The virtual assisnant Siri can change their voice whenever they want\n",
    "- Tiktok influences many trends and fast fashion is boosted\n",
    "- Tiktok promotes crimes and unhazardly cooking practices"
   ]
  },
  {
   "attachments": {},
   "cell_type": "markdown",
   "metadata": {},
   "source": [
    "### Collaboration 5.4"
   ]
  },
  {
   "attachments": {},
   "cell_type": "markdown",
   "metadata": {},
   "source": [
    "- Have used a car API and last tri used a basketball API\n",
    "- Biggest discovery on Github is that you can find others so it's like a social media for code\n",
    "- Can make SCRUM boards and see what others have commited in a repository\n",
    "- The history of commits and other things can be seen by others\n",
    "- A lot of the top trending ones are some data that many people might use today\n",
    "- Car APIs are the most popular data asset/set in the voting table"
   ]
  },
  {
   "attachments": {},
   "cell_type": "markdown",
   "metadata": {},
   "source": [
    "---"
   ]
  },
  {
   "attachments": {},
   "cell_type": "markdown",
   "metadata": {},
   "source": [
    "**5.3 Reflection:**"
   ]
  },
  {
   "attachments": {},
   "cell_type": "markdown",
   "metadata": {},
   "source": [
    "HP Computers:\n",
    "- It wasn't intentional because they didn't test well and they didn't use enough testers for their program. In the end the program turned unintnetionally racist \n",
    "- To produce a better outcome I would test with a wider variety of testers\n",
    "\n",
    "Most of the computer bias is mostly not intentional. CHAT GPT is unintentional and just used the websites in it's own algorithm. Most of the computer algorithms are not bias becuase they can be it's becuase they cannot be bias. THey just use whatever come up into their algorithm. But, testing can also affect the outcomes. Like the HP testing they couldn't test on different types of people with different types of skin colors. Computers are just told what they are supposed to do and what they are max capable of."
   ]
  },
  {
   "attachments": {},
   "cell_type": "markdown",
   "metadata": {},
   "source": [
    "**5.4 Reflection:**"
   ]
  },
  {
   "attachments": {},
   "cell_type": "markdown",
   "metadata": {},
   "source": [
    "CompSci has 150 ish principles students. Describe a crowdsource idea and how you might initiate it in our environment?:"
   ]
  },
  {
   "attachments": {},
   "cell_type": "markdown",
   "metadata": {},
   "source": [
    "Creating a google form containing all of the main ideas, a short description of what the website does, and screen shots of the project. The then there can be a response box where people can insert what there can be added, improved, and/or removed"
   ]
  },
  {
   "attachments": {},
   "cell_type": "markdown",
   "metadata": {},
   "source": [
    "What about Del Norte crowdsourcing? Could your project be better with crowdsourcing?:"
   ]
  },
  {
   "attachments": {},
   "cell_type": "markdown",
   "metadata": {},
   "source": [
    "Yes, the project can be better with crowd sourcing. In fact some of the ideas that were sourced from the classmates during last project presentations were implemented into our project. But, crowd sourcing in Del Norte might be worse since many high schoolers are probably not thinking about buying a car. This means we need a different crowd to present this to, the adults for example, because they are far more likely to buy a car."
   ]
  },
  {
   "attachments": {},
   "cell_type": "markdown",
   "metadata": {},
   "source": [
    "What kind of data could you capture at N@tM to make evening interesting? Perhaps use this data to impress Teachers during finals week.:"
   ]
  },
  {
   "attachments": {},
   "cell_type": "markdown",
   "metadata": {},
   "source": [
    "Data that my part of the project can collect is the email data. I can have viewers look at my part of the website and insert heir email into my subscriptions part of the site. I can collect data as to what types of emails I recive (e.g. @gmail, @yahoo, ect.). "
   ]
  }
 ],
 "metadata": {
  "kernelspec": {
   "display_name": "Python 3",
   "language": "python",
   "name": "python3"
  },
  "language_info": {
   "name": "python",
   "version": "3.8.9"
  },
  "orig_nbformat": 4,
  "vscode": {
   "interpreter": {
    "hash": "31f2aee4e71d21fbe5cf8b01ff0e069b9275f58929596ceb00d14d90e3e16cd6"
   }
  }
 },
 "nbformat": 4,
 "nbformat_minor": 2
}
