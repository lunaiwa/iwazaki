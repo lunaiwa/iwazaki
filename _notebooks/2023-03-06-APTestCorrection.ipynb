{
 "cells": [
  {
   "attachments": {},
   "cell_type": "markdown",
   "metadata": {},
   "source": [
    "#  APCSP Test Corrections\n",
    "> Corrections for the APCSP Test 3 \n",
    "- title: APCSP Test Corrections 3 \n",
    "- toc: true\n",
    "- categories: [APCSP]\n",
    "- comments: true"
   ]
  },
  {
   "attachments": {},
   "cell_type": "markdown",
   "metadata": {},
   "source": [
    "Struggling on unit 3 details "
   ]
  },
  {
   "attachments": {},
   "cell_type": "markdown",
   "metadata": {},
   "source": [
    "**Q5 Benefits of Upgraded System**\n",
    "\n",
    "5.1\n",
    "\n",
    "Answer is D, Incorrect. The upgraded system selects the appropriate department based on the customer’s issue, so the customer does not have the ability to make an incorrect selection. "
   ]
  },
  {
   "attachments": {},
   "cell_type": "markdown",
   "metadata": {},
   "source": [
    "**Q21 Detecting errors in code to sum values in a list**\n",
    "\n",
    "1.4\n",
    "\n",
    "Answer is A, This option is incorrect. The program does not work as intended. On the test case [9, 1, 4, 5], the program displays 28 but the correct sum is 19."
   ]
  },
  {
   "attachments": {},
   "cell_type": "markdown",
   "metadata": {},
   "source": [
    "**Q31 Algorithm to open gate in parking garage**\n",
    "\n",
    "3.6\n",
    "\n",
    "Answer is C, Incorrect. This algorithm will turn on the motor in some cases when the gate sensor is not activated."
   ]
  },
  {
   "attachments": {},
   "cell_type": "markdown",
   "metadata": {},
   "source": [
    "**Q33 Loop header to move robot to gray square**\n",
    "\n",
    "3.8\n",
    "\n",
    "Answer is A, Incorrect. This code segment leaves the robot one row above its starting position and one row below the gray square."
   ]
  },
  {
   "attachments": {},
   "cell_type": "markdown",
   "metadata": {},
   "source": [
    "**Q36 Nested conditionals to set grade**\n",
    "\n",
    "3.7\n",
    "\n",
    "Answer is B, Incorrect. Code segment I does not work correctly because it is not possible for \"C\" to be the value of grade at the end of the code segment. Code segment III also works correctly. Code segment III assigns \"C\" when the numeric score is less than 80, or \"B\" if the numeric score is not less than 80 but is less than or equal to 90, or \"A\" otherwise."
   ]
  },
  {
   "attachments": {},
   "cell_type": "markdown",
   "metadata": {},
   "source": [
    "**Q38 If statement code that produces the same result**\n",
    "\n",
    "3.9\n",
    "\n",
    "Answer is A, Incorrect. The given code segment displays \"positive\" when num is positive, displays \"negative\" when num is negative, and displays \"zero\" when num is 0. This code segment does not produce the same result for all values of num. For example, \"positive zero\" is displayed when num is 0."
   ]
  },
  {
   "attachments": {},
   "cell_type": "markdown",
   "metadata": {},
   "source": [
    "**Q40 Move robot back to starting place**\n",
    "\n",
    "3.9\n",
    "\n",
    "Answer is A, Incorrect. After moving forward two squares, if the robot were to turn left, then the next move forward would put the robot beyond the edge of the grid."
   ]
  },
  {
   "attachments": {},
   "cell_type": "markdown",
   "metadata": {},
   "source": [
    "**Q41 Using binary search on list of genetic codes**\n",
    "\n",
    "3.11\n",
    "\n",
    "Answer is A, Incorrect. The values can be stored in any numerical base as long as they are sorted."
   ]
  },
  {
   "attachments": {},
   "cell_type": "markdown",
   "metadata": {},
   "source": [
    "**Q42 Why binary search will not work**\n",
    "\n",
    "3.11\n",
    "\n",
    "Answer is B, Incorrect. A binary search will work on any sorted list, regardless of whether the list contains duplicate elements."
   ]
  },
  {
   "attachments": {},
   "cell_type": "markdown",
   "metadata": {},
   "source": [
    "**Q49 Crowd flow simulation**\n",
    "\n",
    "3.16\n",
    "\n",
    "Answer is A, Incorrect. The model used by a simulation can be modified, both before and after running the simulation. In fact, one of the benefits of using a simulation is the ease of modification."
   ]
  },
  {
   "attachments": {},
   "cell_type": "markdown",
   "metadata": {},
   "source": [
    "**Q50 Which algorithms run in reasonable time**\n",
    "\n",
    "3.17\n",
    "\n",
    "Answer is B, Incorrect. As the size of the list grows, the number of steps needed to sort the list grows at an exponential rate, as the number of steps is equal to 2n for a list of size n. This indicates that the algorithm does not run in a reasonable amount of time."
   ]
  }
 ],
 "metadata": {
  "language_info": {
   "name": "python"
  },
  "orig_nbformat": 4
 },
 "nbformat": 4,
 "nbformat_minor": 2
}
