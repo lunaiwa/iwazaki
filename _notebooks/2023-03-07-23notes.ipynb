{
 "cells": [
  {
   "attachments": {},
   "cell_type": "markdown",
   "metadata": {},
   "source": [
    "#  Hacks 2.3\n",
    "> This unit will discuss data extraction\n",
    "- title: Hacks 2.3\n",
    "- toc: true\n",
    "- categories: [APCSP]\n",
    "- comments: true"
   ]
  },
  {
   "attachments": {},
   "cell_type": "markdown",
   "metadata": {},
   "source": [
    "### 2.3 : Extracting Information from Data + Pandas"
   ]
  },
  {
   "attachments": {},
   "cell_type": "markdown",
   "metadata": {},
   "source": [
    "**College Board Prep**"
   ]
  },
  {
   "attachments": {},
   "cell_type": "markdown",
   "metadata": {},
   "source": [
    "Add this Blog to you own Blogging site. In the Blog add notes and observations on each code cell.\n",
    "In blog add College Board practice problems for 2.3.\n",
    "\n",
    "The next 4 weeks, Teachers want you to improve your understanding of data. Look at the blog and others on Unit 2. Your intention is to find some things to differentiate your individual College Board project."
   ]
  },
  {
   "attachments": {},
   "cell_type": "markdown",
   "metadata": {},
   "source": [
    "**Dataset**"
   ]
  },
  {
   "attachments": {},
   "cell_type": "markdown",
   "metadata": {},
   "source": [
    "- Create or Find your own dataset. The suggestion is to use a JSON file, integrating with your PBL project would be Fambulous.\n",
    "- Continue this Blog using Pandas extract info from that dataset (ex. max, min, mean, median, mode, etc.)"
   ]
  }
 ],
 "metadata": {
  "language_info": {
   "name": "python"
  },
  "orig_nbformat": 4
 },
 "nbformat": 4,
 "nbformat_minor": 2
}
