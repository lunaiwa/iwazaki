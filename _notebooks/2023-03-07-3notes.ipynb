{
 "cells": [
  {
   "attachments": {},
   "cell_type": "markdown",
   "metadata": {},
   "source": [
    "#  Hacks 2.2\n",
    "> This unit will discuss data compression\n",
    "- title: Hacks 2.2\n",
    "- toc: true\n",
    "- categories: [APCSP]\n",
    "- comments: true"
   ]
  },
  {
   "attachments": {},
   "cell_type": "markdown",
   "metadata": {},
   "source": [
    "### 2.2 : Data Compression and Image Lab"
   ]
  },
  {
   "attachments": {},
   "cell_type": "markdown",
   "metadata": {},
   "source": [
    "**College Board Prep**"
   ]
  },
  {
   "attachments": {},
   "cell_type": "markdown",
   "metadata": {},
   "source": [
    "- In the Blog add notes and observations on each code cell that request an answer.\n",
    "- In blog add College Board practice problems for 2.3\n",
    "- Choose 2 images, one that will more likely result in lossy data compression and one that is more likely to result in lossless data compression. Explain."
   ]
  },
  {
   "attachments": {},
   "cell_type": "markdown",
   "metadata": {},
   "source": [
    "**Project Edition**"
   ]
  },
  {
   "attachments": {},
   "cell_type": "markdown",
   "metadata": {},
   "source": [
    "If your project has images in it, try to implement an image change that has a purpose. (Ex. An item that has been sold out could become gray scale)"
   ]
  },
  {
   "attachments": {},
   "cell_type": "markdown",
   "metadata": {},
   "source": [
    "**Solve the Following**"
   ]
  },
  {
   "attachments": {},
   "cell_type": "markdown",
   "metadata": {},
   "source": [
    "Pick a programming paradigm and solve some of the following ...\n",
    "\n",
    "- Numpy, manipulating pixels. As opposed to Grey Scale treatment, pick a couple of other types like red scale, green scale, or blue scale. We want you to be manipulating pixels in the image.\n",
    "- Binary and Hexadecimal reports. Convert and produce pixels in binary and Hexadecimal and display.\n",
    "- Compression and Sizing of images. Look for insights into compression Lossy and Lossless. Look at PIL library and see if there are other things that can be done.\n",
    "- There are many effects you can do as well with PIL. Blur the image or write Meta Data on screen, aka Title, Author and Image size."
   ]
  }
 ],
 "metadata": {
  "language_info": {
   "name": "python"
  },
  "orig_nbformat": 4
 },
 "nbformat": 4,
 "nbformat_minor": 2
}
