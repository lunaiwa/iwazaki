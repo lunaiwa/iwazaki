{
 "cells": [
  {
   "attachments": {},
   "cell_type": "markdown",
   "metadata": {},
   "source": [
    "# 5.5 & 5.6 Blog\n",
    "> Legal and Ethical Concerns & Safe Computing\n",
    "\n",
    "- title: 5.5 & 5.6 Blog\n",
    "- toc: true\n",
    "- comments: true\n",
    "- categories: [APCSP Requirements]\n",
    "- badges: true"
   ]
  },
  {
   "attachments": {},
   "cell_type": "markdown",
   "metadata": {},
   "source": [
    "### Notes"
   ]
  },
  {
   "attachments": {},
   "cell_type": "markdown",
   "metadata": {},
   "source": [
    "- Qualcomm wants all derivative work to require a royalty payment payment\n",
    "- closed source: can not just get anywhere\n",
    "- open source: can be open to the public\n",
    "- open source idea is for the community, use, support\n",
    "- GPL is about the community\n",
    "- closed source is about capitalisim making money\n",
    "- Qualcome made money off of hardware and they sold phone chips using open source (their type of buisness model)"
   ]
  },
  {
   "attachments": {},
   "cell_type": "markdown",
   "metadata": {},
   "source": [
    "### Collaboration 5.5"
   ]
  },
  {
   "attachments": {},
   "cell_type": "markdown",
   "metadata": {},
   "source": [
    "- Software Licenses/Options : There are different License options, some companies may have a pay wall to their code or they only allow their company workers to access the code. While some code can be accessed to the public, many advanced code is blocked\n",
    "- Digital Rights : Many companies use digital rights and the \"Red Hat\" company although they had an advanced software they had released it for free, even though this happened they were the first to do it so they gained a good reputation\n",
    "- Legal and Ethical thoughts:\n",
    "    - Many of the code is ok that they are protected by a paywall or a company because it may be harmful if put in the wrong hands\n",
    "    - This can limit the amount of people who are able to access said code and can be the digital divide"
   ]
  },
  {
   "attachments": {},
   "cell_type": "markdown",
   "metadata": {},
   "source": [
    "### Collaboration 5.6"
   ]
  },
  {
   "attachments": {},
   "cell_type": "markdown",
   "metadata": {},
   "source": [
    "- PII : personal identifyable information, examples like linkin where people show off their information to inform others about their accomplishments. These are simple types of information"
   ]
  },
  {
   "attachments": {},
   "cell_type": "markdown",
   "metadata": {},
   "source": [
    "---"
   ]
  },
  {
   "attachments": {},
   "cell_type": "markdown",
   "metadata": {},
   "source": [
    "**5.5 Reflection**"
   ]
  },
  {
   "attachments": {},
   "cell_type": "markdown",
   "metadata": {},
   "source": [
    "1. When you create a GitHub repository it requests a license type. Review the license types in relationship to this Tech Talk and make some notes in your personal blog."
   ]
  },
  {
   "attachments": {},
   "cell_type": "markdown",
   "metadata": {},
   "source": [
    "- MIT: The community has access to the code however when they use it they must credit the owner of the code in their \"readme\" file\n",
    "- OPEN SOURCE: The community has access to the code and is able to use the code freely\n",
    "- CLOSED SOURCE: Only people who have access to the code are able to use it, it is not opened to the public hence the names \"closed\" and \"open\" source"
   ]
  },
  {
   "attachments": {},
   "cell_type": "markdown",
   "metadata": {},
   "source": [
    "2. Make a license for your personal (blog) and Team repositories for the CPT project. Be sure to have a license for both Team GitHub repositories (frontend/backend). Document license(s) you picked and why. FYI, frontend, since it is built on GitHub pages may come with a license and restrictions. Document in blog how team made license choice and process of update."
   ]
  },
  {
   "attachments": {},
   "cell_type": "markdown",
   "metadata": {},
   "source": [
    "As a team we decided that the MIT licence was the best to use since we will be able to be cited in the code others use. We want others to use our website freely especially since we learned about the digital divide and some might want to use parts that others use."
   ]
  },
  {
   "attachments": {},
   "cell_type": "markdown",
   "metadata": {},
   "source": [
    "**5.6 Reflection**"
   ]
  },
  {
   "attachments": {},
   "cell_type": "markdown",
   "metadata": {},
   "source": [
    "1. Describe PII you have seen on project in CompSci Principles."
   ]
  },
  {
   "attachments": {},
   "cell_type": "markdown",
   "metadata": {},
   "source": [
    "Many of the PII used in the Computer Science projects seen in the class projects are like student emails, names, and date of birth. Many of these types of information found in the class databases are simple and not as personal like a social security password ."
   ]
  },
  {
   "attachments": {},
   "cell_type": "markdown",
   "metadata": {},
   "source": [
    "2. What are your feelings about PII and your personal exposure?"
   ]
  },
  {
   "attachments": {},
   "cell_type": "markdown",
   "metadata": {},
   "source": [
    "PII helps websites and companies to localize users, for example I think cookies are something like PII because they collect the user data in a way and by collecting that data they make the user's experience much better."
   ]
  },
  {
   "attachments": {},
   "cell_type": "markdown",
   "metadata": {},
   "source": [
    "3. Describe good and bad passwords? What is another step that is used to assist in authentication."
   ]
  },
  {
   "attachments": {},
   "cell_type": "markdown",
   "metadata": {},
   "source": [
    "Good passwords must contain capital and lowercase letters, any type of symbol, and numbers that are NOT the user's birthday! Many people try to reuse their passwords mny times as a way of just remembering one password but if their data is given away in a data leak then almost all of the other accounts with the same password will also be leaked. If you are trying to protect really important data it is crucially important to protect it with a secure one time password. Another step that can be used is to make a security question consisting of simple questions only the user would know."
   ]
  },
  {
   "attachments": {},
   "cell_type": "markdown",
   "metadata": {},
   "source": [
    "4. Try to describe Symmetric and Asymmetric encryption."
   ]
  },
  {
   "attachments": {},
   "cell_type": "markdown",
   "metadata": {},
   "source": [
    "- Symmetric encryption is a type of encryption where only one key (a secret key) is used to both encrypt and decrypt electronic information.\n",
    "- Asymmetric cryptography, also known as public-key cryptography, is a process that uses a pair of related keys\n",
    "one public key and one private key – to encrypt and decrypt a message and protect it from unauthorized access or use."
   ]
  },
  {
   "attachments": {},
   "cell_type": "markdown",
   "metadata": {},
   "source": [
    "5. Provide an example of encryption we used in AWS deployment."
   ]
  },
  {
   "attachments": {},
   "cell_type": "markdown",
   "metadata": {},
   "source": [
    "An example of encryption that we used in the AWS deployment is the different ports and how we only specifically used a secure user and password. And Mort had only activated the ones and shut down the other things."
   ]
  },
  {
   "attachments": {},
   "cell_type": "markdown",
   "metadata": {},
   "source": [
    "6. Describe a phishing scheme you have learned about the hard way. Describe some other phishing techniques."
   ]
  },
  {
   "attachments": {},
   "cell_type": "markdown",
   "metadata": {},
   "source": [
    "ALWAYS USE A VPN WHEN ON NEFARIOUS / ILLEGAL WEBSITES"
   ]
  }
 ],
 "metadata": {
  "kernelspec": {
   "display_name": "Python 3",
   "language": "python",
   "name": "python3"
  },
  "language_info": {
   "name": "python",
   "version": "3.8.9"
  },
  "orig_nbformat": 4,
  "vscode": {
   "interpreter": {
    "hash": "31f2aee4e71d21fbe5cf8b01ff0e069b9275f58929596ceb00d14d90e3e16cd6"
   }
  }
 },
 "nbformat": 4,
 "nbformat_minor": 2
}
