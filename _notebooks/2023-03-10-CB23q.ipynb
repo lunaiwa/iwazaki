{
 "cells": [
  {
   "attachments": {},
   "cell_type": "markdown",
   "metadata": {},
   "source": [
    "#  College Board Test : Extracting Information and Compressing Information\n",
    "> Covering the topics discussed in the quizzes and what the answers can be.\n",
    "- toc: true\n",
    "- categories: [APCSP]\n",
    "- comments: true"
   ]
  },
  {
   "attachments": {},
   "cell_type": "markdown",
   "metadata": {},
   "source": [
    "# Data Compression Quiz 1-3"
   ]
  },
  {
   "attachments": {},
   "cell_type": "markdown",
   "metadata": {},
   "source": [
    "---"
   ]
  },
  {
   "attachments": {},
   "cell_type": "markdown",
   "metadata": {},
   "source": [
    "**Lossless Compression :** TIFF or Tagged Image File Format are lossless images files meaning that they do not need to compress or lose any image quality or information (although there are options for compression), allowing for very high-quality images but also larger file sizes."
   ]
  },
  {
   "attachments": {},
   "cell_type": "markdown",
   "metadata": {},
   "source": [
    "The 'lassen volcano' will be lossless compression due to the complicated nature of the image which means it requires more time to render and uses many different colors compared the the green and blue squares which are small and just one color."
   ]
  },
  {
   "attachments": {},
   "cell_type": "markdown",
   "metadata": {},
   "source": [
    "**Lossy Compression :** Lossy compression refers to compression in which some of the data from the original file (JPEG) is lost. The process is irreversible, once you convert to lossy, you can't go back. And the more you compress it, the more degradation occurs. JPEGs and GIFs are both lossy image formats."
   ]
  },
  {
   "attachments": {},
   "cell_type": "markdown",
   "metadata": {},
   "source": [
    "The 'green square' and the 'blue square' will be lossy compression ue to the less complicated nature to the image. These are just two colors which requires less rendering."
   ]
  },
  {
   "attachments": {},
   "cell_type": "markdown",
   "metadata": {},
   "source": [
    "---"
   ]
  },
  {
   "attachments": {},
   "cell_type": "markdown",
   "metadata": {},
   "source": [
    "**Q1 : Advantage of lossless over lossy compression**"
   ]
  },
  {
   "attachments": {},
   "cell_type": "markdown",
   "metadata": {},
   "source": [
    "Skill : 1.D <p>\n",
    "Unit 2.2 Daily Video 1"
   ]
  },
  {
   "attachments": {},
   "cell_type": "markdown",
   "metadata": {},
   "source": [
    "**Which of the following is an advantage of a lossless compression algorithm over a lossy compression algorithm?**\n",
    "\n",
    "**(A)** A lossless compression algorithm can guarantee that compressed information is kept secure, while a lossy compression algorithm cannot.\n",
    "\n",
    "**(B)** A lossless compression algorithm can guarantee reconstruction of original data, while a lossy compression algorithm cannot.\n",
    "\n",
    "**(C)** A lossless compression algorithm typically allows for faster transmission speeds than does a lossy compression algorithm.\n",
    "\n",
    "**(D)** A lossless compression algorithm typically provides a greater reduction in the number of bits stored or transmitted than does a lossy compression algorithm."
   ]
  },
  {
   "attachments": {},
   "cell_type": "markdown",
   "metadata": {},
   "source": [
    "**(A) Wrong -** Incorrect. The ability to keep data secure is not a primary function of a compression algorithm."
   ]
  },
  {
   "attachments": {},
   "cell_type": "markdown",
   "metadata": {},
   "source": [
    "**(B) Correct -** Correct. Lossless compression algorithms are guaranteed to be able to reconstruct the original data, while lossy compression algorithms are not."
   ]
  },
  {
   "attachments": {},
   "cell_type": "markdown",
   "metadata": {},
   "source": [
    "**(C) Wrong -** Incorrect. In situations where transmission time is maximally important, lossy compression algorithms are typically chosen, as lossy compression typically provides a greater reduction in file size. "
   ]
  },
  {
   "attachments": {},
   "cell_type": "markdown",
   "metadata": {},
   "source": [
    "**(D) Wrong -** Incorrect. Lossless compression algorithms usually achieve less reduction in the number of bits stored or transmitted than do lossy compression algorithms."
   ]
  },
  {
   "attachments": {},
   "cell_type": "markdown",
   "metadata": {},
   "source": [
    "---"
   ]
  },
  {
   "attachments": {},
   "cell_type": "markdown",
   "metadata": {},
   "source": [
    "**Q2 Compression algorithm for storing a data file**"
   ]
  },
  {
   "attachments": {},
   "cell_type": "markdown",
   "metadata": {},
   "source": [
    "Skill : 1.D <p>\n",
    "Unit 2.2 Daily Video 1"
   ]
  },
  {
   "attachments": {},
   "cell_type": "markdown",
   "metadata": {},
   "source": [
    "**A user wants to save a data file on an online storage site. The user wants to reduce the size of the file, if possible, and wants to be able to completely restore the file to its original version. Which of the following actions best supports the user’s needs?**\n",
    "\n",
    "**(A)** Compressing the file using a lossless compression algorithm before uploading it\n",
    "\n",
    "**(B)** Compressing the file using a lossy compression algorithm before uploading it\n",
    "\n",
    "**(C)** Compressing the file using both lossy and lossless compression algorithms before uploading it\n",
    "\n",
    "**(D)** Uploading the original file without using any compression algorithm"
   ]
  },
  {
   "attachments": {},
   "cell_type": "markdown",
   "metadata": {},
   "source": [
    "**(A) Correct -** \n",
    "Correct. Lossless compression algorithms allow for complete reconstruction of the original data and typically reduce the size of the data."
   ]
  },
  {
   "attachments": {},
   "cell_type": "markdown",
   "metadata": {},
   "source": [
    "**(B) Wrong -** Incorrect. While a lossy compression algorithm will reduce the size of the data, it does not allow for complete reconstruction of the original data."
   ]
  },
  {
   "attachments": {},
   "cell_type": "markdown",
   "metadata": {},
   "source": [
    "**(C) Wrong -** Incorrect. Applying lossy compression the to file will prevent the user from restoring it to its original version."
   ]
  },
  {
   "attachments": {},
   "cell_type": "markdown",
   "metadata": {},
   "source": [
    "**(D) Wrong -** Incorrect. Uploading the original file allows complete reconstruction of the original data but does not reduce the size of the file."
   ]
  },
  {
   "attachments": {},
   "cell_type": "markdown",
   "metadata": {},
   "source": [
    "---"
   ]
  },
  {
   "attachments": {},
   "cell_type": "markdown",
   "metadata": {},
   "source": [
    "**Q3 True statement about compression**"
   ]
  },
  {
   "attachments": {},
   "cell_type": "markdown",
   "metadata": {},
   "source": [
    "Skill : 1.D <p>\n",
    "Unit 2.2 Daily Video 1"
   ]
  },
  {
   "attachments": {},
   "cell_type": "markdown",
   "metadata": {},
   "source": [
    "**A programmer is developing software for a social media platform. The programmer is planning to use compression when users send attachments to other users. Which of the following is a true statement about the use of compression?**\n",
    "\n",
    "**(A)** Lossless compression of video files will generally save more space than lossy compression of video files.\n",
    "\n",
    "**(B)** Lossless compression of an image file will generally result in a file that is equal in size to the original file.\n",
    "\n",
    "**(C)** Lossy compression of an image file generally provides a greater reduction in transmission time than lossless compression does.\n",
    "\n",
    "**(D)** Sound clips compressed with lossy compression for storage on the platform can be restored to their original quality when they are played."
   ]
  },
  {
   "attachments": {},
   "cell_type": "markdown",
   "metadata": {},
   "source": [
    "**(A) Wrong -** Incorrect. Lossy data compression algorithms can usually provide a greater reduction in the space required than lossless compression algorithms can."
   ]
  },
  {
   "attachments": {},
   "cell_type": "markdown",
   "metadata": {},
   "source": [
    "**(B) Wrong -** Incorrect. Lossless compression usually results in a file that is smaller in size than the original file."
   ]
  },
  {
   "attachments": {},
   "cell_type": "markdown",
   "metadata": {},
   "source": [
    "**(C) Correct -** Correct. Although fewer bits may be stored, information is not necessarily lost when lossy compression is applied to an image."
   ]
  },
  {
   "attachments": {},
   "cell_type": "markdown",
   "metadata": {},
   "source": [
    "**(D) Wrong -** Incorrect. Lossy compression algorithms allow only an approximation of the original data to be reconstructed."
   ]
  },
  {
   "attachments": {},
   "cell_type": "markdown",
   "metadata": {},
   "source": [
    "---"
   ]
  },
  {
   "attachments": {},
   "cell_type": "markdown",
   "metadata": {},
   "source": [
    "---"
   ]
  },
  {
   "attachments": {},
   "cell_type": "markdown",
   "metadata": {},
   "source": [
    "# Extracting Information from Data Quiz 1-6"
   ]
  },
  {
   "attachments": {},
   "cell_type": "markdown",
   "metadata": {},
   "source": [
    "---"
   ]
  },
  {
   "attachments": {},
   "cell_type": "markdown",
   "metadata": {},
   "source": [
    "**Q1 Challenge due to lack of unique ID**"
   ]
  },
  {
   "attachments": {},
   "cell_type": "markdown",
   "metadata": {},
   "source": [
    "Skill : 5.D <p>\n",
    "Unit 2.3 Daily Video 1-2"
   ]
  },
  {
   "attachments": {},
   "cell_type": "markdown",
   "metadata": {},
   "source": [
    "**A researcher is analyzing data about students in a school district to determine whether there is a relationship between grade point average and number of absences. The researcher plans on compiling data from several sources to create a record for each student.**\n",
    "\n",
    "**The researcher has access to a database with the following information about each student.**\n",
    "\n",
    "- Last name\n",
    "- First name\n",
    "- Grade level (9, 10, 11, or 12)\n",
    "- Grade point average (on a 0.0 to 4.0 scale)\n",
    "\n",
    "**The researcher also has access to another database with the following information about each student.**\n",
    "\n",
    "- First name\n",
    "- Last name\n",
    "- Number of absences from school\n",
    "- Number of late arrivals to school\n",
    "\n",
    "**Upon compiling the data, the researcher identifies a problem due to the fact that neither data source uses a unique ID number for each student. Which of the following best describes the problem caused by the lack of unique ID numbers?**\n",
    "\n",
    "**(A)** Students who have the same name may be confused with each other.\n",
    "\n",
    "**(B)** Students who have the same grade point average may be confused with each other.\n",
    "\n",
    "**(C)** Students who have the same grade level may be confused with each other.\n",
    "\n",
    "**(D)** Students who have the same number of absences may be confused with each other."
   ]
  },
  {
   "attachments": {},
   "cell_type": "markdown",
   "metadata": {},
   "source": [
    "**(A) Correct -** Correct. A unique identifier would be required in order to distinguish between two students with the same first and last names."
   ]
  },
  {
   "attachments": {},
   "cell_type": "markdown",
   "metadata": {},
   "source": [
    "**(B) Wrong -** Incorrect. It is expected that many students in the school district have the same grade point average as each other. These students can be distinguished from each other using their first and last name, except in cases where two students have the same first and last name."
   ]
  },
  {
   "attachments": {},
   "cell_type": "markdown",
   "metadata": {},
   "source": [
    "**(C) Wrong -** Incorrect. It is expected that many students in the school district have the grade level as each other. These students can be distinguished from each other using their first and last names, except in cases where two students have the same first and last name."
   ]
  },
  {
   "attachments": {},
   "cell_type": "markdown",
   "metadata": {},
   "source": [
    "**(D) Wrong -** Incorrect. It is expected that many students in the school district have the same number of absences as each other. These students can be distinguished from each other using their first and last name, except in cases where two students have the same first and last name."
   ]
  },
  {
   "attachments": {},
   "cell_type": "markdown",
   "metadata": {},
   "source": [
    "---"
   ]
  },
  {
   "attachments": {},
   "cell_type": "markdown",
   "metadata": {},
   "source": [
    "**Q2 Challenge in analyzing data from many counties**"
   ]
  },
  {
   "attachments": {},
   "cell_type": "markdown",
   "metadata": {},
   "source": [
    "Skill : 5.D <p>\n",
    "Unit 2.3 Daily Video 1-2"
   ]
  },
  {
   "attachments": {},
   "cell_type": "markdown",
   "metadata": {},
   "source": [
    "**A team of researchers wants to create a program to analyze the amount of pollution reported in roughly 3,000 counties across the United States. The program is intended to combine county data sets and then process the data. Which of the following is most likely to be a challenge in creating the program?**\n",
    "\n",
    "**(A)** A computer program cannot combine data from different files.\n",
    "\n",
    "**(B)** Different counties may organize data in different ways.\n",
    "\n",
    "**(C)** The number of counties is too large for the program to process.\n",
    "\n",
    "**(D)** The total number of rows of data is too large for the program to process."
   ]
  },
  {
   "attachments": {},
   "cell_type": "markdown",
   "metadata": {},
   "source": [
    "**(A) Wrong -** Incorrect. Computer programs can accept and process multiple data files as input."
   ]
  },
  {
   "attachments": {},
   "cell_type": "markdown",
   "metadata": {},
   "source": [
    "**(B) Correct -** Correct. It will be a challenge to clean the data from the different counties to make the data uniform. The way pollution data is captured and organized may vary significantly from county to county."
   ]
  },
  {
   "attachments": {},
   "cell_type": "markdown",
   "metadata": {},
   "source": [
    "**(C) Wrong -** Incorrect. Even if the number of data sets is large, they can all be processed with a computer program."
   ]
  },
  {
   "attachments": {},
   "cell_type": "markdown",
   "metadata": {},
   "source": [
    "**(D) Wrong -** Incorrect. Even if the data sets are large, they can be processed with a computer program."
   ]
  },
  {
   "attachments": {},
   "cell_type": "markdown",
   "metadata": {},
   "source": [
    "---"
   ]
  },
  {
   "attachments": {},
   "cell_type": "markdown",
   "metadata": {},
   "source": [
    "**Q3 Challenges with city data entered by users**"
   ]
  },
  {
   "attachments": {},
   "cell_type": "markdown",
   "metadata": {},
   "source": [
    "Skill : 5.D <p>\n",
    "Unit 2.3 Daily Video 1-2"
   ]
  },
  {
   "attachments": {},
   "cell_type": "markdown",
   "metadata": {},
   "source": [
    "**A student is creating a Web site that is intended to display information about a city based on a city name that a user enters in a text field. Which of the following are likely to be challenges associated with processing city names that users might provide as input?**\n",
    "\n",
    "**Select two answers.**\n",
    "\n",
    "**(A)** Users might attempt to use the Web site to search for multiple cities.\n",
    "\n",
    "**(B)** Users might enter abbreviations for the names of cities.\n",
    "\n",
    "**(C)** Users might misspell the name of the city.\n",
    "\n",
    "**(D)** Users might be slow at typing a city name in the text field."
   ]
  },
  {
   "attachments": {},
   "cell_type": "markdown",
   "metadata": {},
   "source": [
    "**(A) Wrong -** Incorrect. A user entering data into the Web site to search for multiple cities does not directly affect the quality of the data. If the Web site is working as intended, users should be able to use it as many times as they want."
   ]
  },
  {
   "attachments": {},
   "cell_type": "markdown",
   "metadata": {},
   "source": [
    "**(B) Correct -** Correct. Different users may abbreviate city names differently. This may require the student to clean the data to make it uniform before it can be processed."
   ]
  },
  {
   "attachments": {},
   "cell_type": "markdown",
   "metadata": {},
   "source": [
    "**(C) Correct -** Correct. Misspelled city names will not be an exact match to information stored by the Web site. This may require the student to clean the data to make it uniform before it can be processed."
   ]
  },
  {
   "attachments": {},
   "cell_type": "markdown",
   "metadata": {},
   "source": [
    "**(D) Wrong -** Incorrect. A user’s typing speed does not directly affect the quality of the data. Until a city name is entered, the Web site cannot search for information."
   ]
  },
  {
   "attachments": {},
   "cell_type": "markdown",
   "metadata": {},
   "source": [
    "---"
   ]
  },
  {
   "attachments": {},
   "cell_type": "markdown",
   "metadata": {},
   "source": [
    "**Q4 Determine artist with the most concert attendees**"
   ]
  },
  {
   "attachments": {},
   "cell_type": "markdown",
   "metadata": {},
   "source": [
    "Skill : 5.B <p>\n",
    "Unit 2.3 Daily Video 1-2"
   ]
  },
  {
   "attachments": {},
   "cell_type": "markdown",
   "metadata": {},
   "source": [
    "**A database of information about shows at a concert venue contains the following information.**\n",
    "\n",
    "- Name of artist performing at the show\n",
    "- Date of show\n",
    "- Total dollar amount of all tickets sold\n",
    "\n",
    "**Which of the following additional pieces of information would be most useful in determining the artist with the greatest attendance during a particular month?**\n",
    "\n",
    "**(A)** Average ticket price\n",
    "\n",
    "**(B)** Length of the show in minutes\n",
    "\n",
    "**(C)** Start time of the show\n",
    "\n",
    "**(D)** Total dollar amount of food and drinks sold during the show"
   ]
  },
  {
   "attachments": {},
   "cell_type": "markdown",
   "metadata": {},
   "source": [
    "**(A) Correct -** Correct. The attendance for a particular show can be calculated dividing the total dollar amount of all tickets sold by the average ticket price."
   ]
  },
  {
   "attachments": {},
   "cell_type": "markdown",
   "metadata": {},
   "source": [
    "**(B) Wrong -** Incorrect. The length of the show is not useful for determining attendance at a show."
   ]
  },
  {
   "attachments": {},
   "cell_type": "markdown",
   "metadata": {},
   "source": [
    "**(C) Wrong -** Incorrect. The start time of the show is not useful for determining attendance at a show."
   ]
  },
  {
   "attachments": {},
   "cell_type": "markdown",
   "metadata": {},
   "source": [
    "**(D) Wrong -** Incorrect. The total dollar amount of food and drinks sold during a show may be correlated with the attendance at the show, but cannot be used to determine the exact number of attendees."
   ]
  },
  {
   "attachments": {},
   "cell_type": "markdown",
   "metadata": {},
   "source": [
    "---"
   ]
  },
  {
   "attachments": {},
   "cell_type": "markdown",
   "metadata": {},
   "source": [
    "**Q5 Information determined using dashboard metadata**"
   ]
  },
  {
   "attachments": {},
   "cell_type": "markdown",
   "metadata": {},
   "source": [
    "Skill : 5.B <p>\n",
    "Unit 2.3 Daily Video 1-2"
   ]
  },
  {
   "attachments": {},
   "cell_type": "markdown",
   "metadata": {},
   "source": [
    "**A camera mounted on the dashboard of a car captures an image of the view from the driver’s seat every second. Each image is stored as data. Along with each image, the camera also captures and stores the car’s speed, the date and time, and the car’s GPS location as metadata. Which of the following can best be determined using only the data and none of the metadata?**\n",
    "\n",
    "**(A)** The average number of hours per day that the car is in use\n",
    "\n",
    "**(B)** The car’s average speed on a particular day\n",
    "\n",
    "**(C)** The distance the car traveled on a particular day\n",
    "\n",
    "**(D)** The number of bicycles the car passed on a particular day\n"
   ]
  },
  {
   "attachments": {},
   "cell_type": "markdown",
   "metadata": {},
   "source": [
    "**(A) Wrong -** Incorrect. The average number of hours per day of use would be based on speed, date, and time, which are part of the metadata."
   ]
  },
  {
   "attachments": {},
   "cell_type": "markdown",
   "metadata": {},
   "source": [
    "**(B) Wrong -** Incorrect. The calculation of average speed would be based on speed and time, which are part of the metadata."
   ]
  },
  {
   "attachments": {},
   "cell_type": "markdown",
   "metadata": {},
   "source": [
    "**(C) Wrong -** Incorrect. The calculation of distance traveled on a particular day would be based on GPS location, date, and time, which are part of the metadata."
   ]
  },
  {
   "attachments": {},
   "cell_type": "markdown",
   "metadata": {},
   "source": [
    "**(D) Correct -** Correct. Determining the number of bicycles the car encountered would require the use of image recognition software to examine the images collected by the camera. The images are the data collected and no metadata would be required."
   ]
  },
  {
   "attachments": {},
   "cell_type": "markdown",
   "metadata": {},
   "source": [
    "---"
   ]
  },
  {
   "attachments": {},
   "cell_type": "markdown",
   "metadata": {},
   "source": [
    "**Q6 Information from student work habit survey**"
   ]
  },
  {
   "attachments": {},
   "cell_type": "markdown",
   "metadata": {},
   "source": [
    "Skill : 5.B <p>\n",
    "Unit 2.3 Daily Video 1-2"
   ]
  },
  {
   "attachments": {},
   "cell_type": "markdown",
   "metadata": {},
   "source": [
    "**A teacher sends students an anonymous survey in order to learn more about the students’ work habits. The survey contains the following questions.**\n",
    "\n",
    "- On average, how long does homework take you each night (in minutes) ?\n",
    "- On average, how long do you study for each test (in minutes) ?\n",
    "- Do you enjoy the subject material of this class (yes or no) ?\n",
    "\n",
    "**Which of the following questions about the students who responded to the survey can the teacher answer by analyzing the survey results?**\n",
    "\n",
    "I. Do students who enjoy the subject material tend to spend more time on homework each night than the other students do?\n",
    "II. Do students who spend more time on homework each night tend to spend less time studying for tests than the other students do?\n",
    "III. Do students who spend more time studying for tests tend to earn higher grades in the class than the other students do?\n",
    "\n",
    "**(A)** I only\n",
    "\n",
    "**(B)** III only\n",
    "\n",
    "**(C)** I and II\n",
    "\n",
    "**(D)** I and III"
   ]
  },
  {
   "attachments": {},
   "cell_type": "markdown",
   "metadata": {},
   "source": [
    "**(A) Wrong -** Incorrect. Question II can be answered because the teacher can detect a correlation between responses to questions 1 and 2 on the survey."
   ]
  },
  {
   "attachments": {},
   "cell_type": "markdown",
   "metadata": {},
   "source": [
    "**(B) Wrong -** Incorrect. Question I can be answered because the teacher can detect a correlation between responses to questions 1 and 3 on the survey. Question II can be answered because the teacher can detect a correlation between responses to questions 1 and 2 on the survey. Question III cannot be answered because the survey is anonymous and the teacher cannot compare student grades with the responses to the survey questions."
   ]
  },
  {
   "attachments": {},
   "cell_type": "markdown",
   "metadata": {},
   "source": [
    "**(C) Correct -** Correct. Question I can be answered because the teacher can detect a correlation between responses to questions 1 and 3 on the survey. Question II can be answered because the teacher can detect a correlation between responses to questions 1 and 2 on the survey. Question III cannot be answered because the survey is anonymous and the teacher cannot compare student grades with the responses to the survey questions."
   ]
  },
  {
   "attachments": {},
   "cell_type": "markdown",
   "metadata": {},
   "source": [
    "**(D) Wrong -** Incorrect. Question II can be answered because the teacher can detect a correlation between responses to questions 1 and 2 on the survey. Question III cannot be answered because the survey is anonymous and the teacher cannot compare student grades with the responses to the survey questions."
   ]
  },
  {
   "attachments": {},
   "cell_type": "markdown",
   "metadata": {},
   "source": [
    "---"
   ]
  },
  {
   "attachments": {},
   "cell_type": "markdown",
   "metadata": {},
   "source": [
    "---"
   ]
  }
 ],
 "metadata": {
  "language_info": {
   "name": "python"
  },
  "orig_nbformat": 4
 },
 "nbformat": 4,
 "nbformat_minor": 2
}
