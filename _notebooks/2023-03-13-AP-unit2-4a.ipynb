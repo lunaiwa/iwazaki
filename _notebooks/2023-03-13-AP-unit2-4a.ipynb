{
 "cells": [
  {
   "attachments": {},
   "cell_type": "markdown",
   "metadata": {},
   "source": [
    "#  Unit 2.4a Using Programs with Data, SQLAlchemy\n",
    "> Using Programs with Data is focused on SQL and database actions.  Part A focuses on SQLAlchemy and an OOP programming style,\n",
    "- toc: true\n",
    "- image: /images/python.png\n",
    "- categories: []\n",
    "- type: ap\n",
    "- week: 26"
   ]
  },
  {
   "attachments": {},
   "cell_type": "markdown",
   "metadata": {},
   "source": [
    "# Database and SQLAlchemy\n",
    "> In this blog we will explore using programs with data, focused on Databases.  We will use SQLite Database to learn more about using Programs with Data.\n",
    "\n",
    "**Focus on objects and objects as being data**\n",
    "\n",
    "- College Board talks about ideas like \n",
    "    - Program Usage. \"iterative and interactive way when processing information\"\n",
    "    - Managing Data.  \"classifying data are part of the process in using programs\", \"data files in a Table\"\n",
    "    - Insight \"insight and knowledge can be obtained from ...  digitally represented information\"\n",
    "    - Filter systems. 'tools for finding information and recognizing patterns\"\n",
    "    - Application. \"the preserve has two databases\", \"an employee wants to count the number of book\"\n",
    "\n",
    "- PBL, Databases, Iterative/OOP\n",
    "    - Iterative. Refers to a sequence of instructions or code being repeated until a specific end result is achieved\n",
    "    - OOP. A computer programming model that organizes software design around data, or objects, rather than functions and logic\n",
    "    - SQL. Structured Query Language, abbreviated as SQL, is a language used in programming, managing, and structuring data \n"
   ]
  },
  {
   "attachments": {},
   "cell_type": "markdown",
   "metadata": {},
   "source": [
    "## Imports and Flask Objects\n",
    "> Defines and key object creations\n",
    "\n",
    "- Comment on where you have observed these working?\n",
    "1. Flask app object\n",
    "2. SQLAlchemy object\n"
   ]
  },
  {
   "cell_type": "code",
   "execution_count": 13,
   "metadata": {},
   "outputs": [],
   "source": [
    "# debug : the app configs\n",
    "# see the info on the configs because the data is translated, app is assigned the attributes... called setters\n",
    "\"\"\"\n",
    "These imports define the key objects\n",
    "\"\"\"\n",
    "\n",
    "from flask import Flask\n",
    "from flask_sqlalchemy import SQLAlchemy\n",
    "\n",
    "\"\"\"\n",
    "These object and definitions are used throughout the Jupyter Notebook.\n",
    "\"\"\"\n",
    "# app and db were used throughout the year\n",
    "# Setup of key Flask object (app)\n",
    "app = Flask(__name__)\n",
    "# Setup SQLAlchemy object and properties for the database (db)\n",
    "database = 'sqlite:///sqlite.db'  # path and filename of database\n",
    "app.config['SQLALCHEMY_TRACK_MODIFICATIONS'] = False\n",
    "app.config['SQLALCHEMY_DATABASE_URI'] = database\n",
    "app.config['SECRET_KEY'] = 'SECRET_KEY'\n",
    "# made a db and got it started\n",
    "db = SQLAlchemy() \n",
    "\n",
    "# break point mean wan to examine the things above which have already happened\n",
    "# This belongs in place where it runs once per project\n",
    "db.init_app(app)\n"
   ]
  },
  {
   "attachments": {},
   "cell_type": "markdown",
   "metadata": {},
   "source": [
    "## Model Definition\n",
    "> Define columns, initialization, and CRUD methods for users table in sqlite.db\n",
    "\n",
    "- Comment on these items in the class\n",
    "- class User purpose\n",
    "- db.Model inheritance\n",
    "- _init_ method\n",
    "- @property, @<column>.setter\n",
    "- additional methods"
   ]
  },
  {
   "cell_type": "code",
   "execution_count": 21,
   "metadata": {},
   "outputs": [
    {
     "ename": "InvalidRequestError",
     "evalue": "Table 'cars' is already defined for this MetaData instance.  Specify 'extend_existing=True' to redefine options and columns on an existing Table object.",
     "output_type": "error",
     "traceback": [
      "\u001b[0;31m---------------------------------------------------------------------------\u001b[0m",
      "\u001b[0;31mInvalidRequestError\u001b[0m                       Traceback (most recent call last)",
      "Cell \u001b[0;32mIn[21], line 9\u001b[0m\n\u001b[1;32m      6\u001b[0m \u001b[39mfrom\u001b[39;00m \u001b[39msqlalchemy\u001b[39;00m\u001b[39m.\u001b[39;00m\u001b[39mexc\u001b[39;00m \u001b[39mimport\u001b[39;00m IntegrityError\n\u001b[1;32m      7\u001b[0m \u001b[39mfrom\u001b[39;00m \u001b[39mwerkzeug\u001b[39;00m\u001b[39m.\u001b[39;00m\u001b[39msecurity\u001b[39;00m \u001b[39mimport\u001b[39;00m generate_password_hash, check_password_hash\n\u001b[0;32m----> 9\u001b[0m \u001b[39mclass\u001b[39;00m \u001b[39mCar\u001b[39;00m(db\u001b[39m.\u001b[39mModel):\n\u001b[1;32m     10\u001b[0m     __tablename__ \u001b[39m=\u001b[39m \u001b[39m'\u001b[39m\u001b[39mcars\u001b[39m\u001b[39m'\u001b[39m  \n\u001b[1;32m     12\u001b[0m     \u001b[39mid\u001b[39m \u001b[39m=\u001b[39m db\u001b[39m.\u001b[39mColumn(db\u001b[39m.\u001b[39mInteger, primary_key\u001b[39m=\u001b[39m\u001b[39mTrue\u001b[39;00m) \n",
      "File \u001b[0;32m~/opt/anaconda3/envs/test/lib/python3.9/site-packages/flask_sqlalchemy/model.py:100\u001b[0m, in \u001b[0;36mBindMetaMixin.__init__\u001b[0;34m(cls, name, bases, d, **kwargs)\u001b[0m\n\u001b[1;32m     97\u001b[0m     \u001b[39mif\u001b[39;00m metadata \u001b[39mis\u001b[39;00m \u001b[39mnot\u001b[39;00m parent_metadata:\n\u001b[1;32m     98\u001b[0m         \u001b[39mcls\u001b[39m\u001b[39m.\u001b[39mmetadata \u001b[39m=\u001b[39m metadata\n\u001b[0;32m--> 100\u001b[0m \u001b[39msuper\u001b[39;49m()\u001b[39m.\u001b[39;49m\u001b[39m__init__\u001b[39;49m(name, bases, d, \u001b[39m*\u001b[39;49m\u001b[39m*\u001b[39;49mkwargs)\n",
      "File \u001b[0;32m~/opt/anaconda3/envs/test/lib/python3.9/site-packages/flask_sqlalchemy/model.py:120\u001b[0m, in \u001b[0;36mNameMetaMixin.__init__\u001b[0;34m(cls, name, bases, d, **kwargs)\u001b[0m\n\u001b[1;32m    117\u001b[0m \u001b[39mif\u001b[39;00m should_set_tablename(\u001b[39mcls\u001b[39m):\n\u001b[1;32m    118\u001b[0m     \u001b[39mcls\u001b[39m\u001b[39m.\u001b[39m__tablename__ \u001b[39m=\u001b[39m camel_to_snake_case(\u001b[39mcls\u001b[39m\u001b[39m.\u001b[39m\u001b[39m__name__\u001b[39m)\n\u001b[0;32m--> 120\u001b[0m \u001b[39msuper\u001b[39;49m()\u001b[39m.\u001b[39;49m\u001b[39m__init__\u001b[39;49m(name, bases, d, \u001b[39m*\u001b[39;49m\u001b[39m*\u001b[39;49mkwargs)\n\u001b[1;32m    122\u001b[0m \u001b[39m# __table_cls__ has run. If no table was created, use the parent table.\u001b[39;00m\n\u001b[1;32m    123\u001b[0m \u001b[39mif\u001b[39;00m (\n\u001b[1;32m    124\u001b[0m     \u001b[39m\"\u001b[39m\u001b[39m__tablename__\u001b[39m\u001b[39m\"\u001b[39m \u001b[39mnot\u001b[39;00m \u001b[39min\u001b[39;00m \u001b[39mcls\u001b[39m\u001b[39m.\u001b[39m\u001b[39m__dict__\u001b[39m\n\u001b[1;32m    125\u001b[0m     \u001b[39mand\u001b[39;00m \u001b[39m\"\u001b[39m\u001b[39m__table__\u001b[39m\u001b[39m\"\u001b[39m \u001b[39min\u001b[39;00m \u001b[39mcls\u001b[39m\u001b[39m.\u001b[39m\u001b[39m__dict__\u001b[39m\n\u001b[1;32m    126\u001b[0m     \u001b[39mand\u001b[39;00m \u001b[39mcls\u001b[39m\u001b[39m.\u001b[39m\u001b[39m__dict__\u001b[39m[\u001b[39m\"\u001b[39m\u001b[39m__table__\u001b[39m\u001b[39m\"\u001b[39m] \u001b[39mis\u001b[39;00m \u001b[39mNone\u001b[39;00m\n\u001b[1;32m    127\u001b[0m ):\n",
      "File \u001b[0;32m~/opt/anaconda3/envs/test/lib/python3.9/site-packages/sqlalchemy/orm/decl_api.py:199\u001b[0m, in \u001b[0;36mDeclarativeMeta.__init__\u001b[0;34m(cls, classname, bases, dict_, **kw)\u001b[0m\n\u001b[1;32m    196\u001b[0m         \u001b[39mcls\u001b[39m\u001b[39m.\u001b[39m_sa_registry \u001b[39m=\u001b[39m reg\n\u001b[1;32m    198\u001b[0m \u001b[39mif\u001b[39;00m \u001b[39mnot\u001b[39;00m \u001b[39mcls\u001b[39m\u001b[39m.\u001b[39m\u001b[39m__dict__\u001b[39m\u001b[39m.\u001b[39mget(\u001b[39m\"\u001b[39m\u001b[39m__abstract__\u001b[39m\u001b[39m\"\u001b[39m, \u001b[39mFalse\u001b[39;00m):\n\u001b[0;32m--> 199\u001b[0m     _as_declarative(reg, \u001b[39mcls\u001b[39;49m, dict_)\n\u001b[1;32m    200\u001b[0m \u001b[39mtype\u001b[39m\u001b[39m.\u001b[39m\u001b[39m__init__\u001b[39m(\u001b[39mcls\u001b[39m, classname, bases, dict_)\n",
      "File \u001b[0;32m~/opt/anaconda3/envs/test/lib/python3.9/site-packages/sqlalchemy/orm/decl_base.py:248\u001b[0m, in \u001b[0;36m_as_declarative\u001b[0;34m(registry, cls, dict_)\u001b[0m\n\u001b[1;32m    242\u001b[0m \u001b[39mdef\u001b[39;00m \u001b[39m_as_declarative\u001b[39m(\n\u001b[1;32m    243\u001b[0m     registry: _RegistryType, \u001b[39mcls\u001b[39m: Type[Any], dict_: _ClassDict\n\u001b[1;32m    244\u001b[0m ) \u001b[39m-\u001b[39m\u001b[39m>\u001b[39m Optional[_MapperConfig]:\n\u001b[1;32m    245\u001b[0m \n\u001b[1;32m    246\u001b[0m     \u001b[39m# declarative scans the class for attributes.  no table or mapper\u001b[39;00m\n\u001b[1;32m    247\u001b[0m     \u001b[39m# args passed separately.\u001b[39;00m\n\u001b[0;32m--> 248\u001b[0m     \u001b[39mreturn\u001b[39;00m _MapperConfig\u001b[39m.\u001b[39;49msetup_mapping(registry, \u001b[39mcls\u001b[39;49m, dict_, \u001b[39mNone\u001b[39;49;00m, {})\n",
      "File \u001b[0;32m~/opt/anaconda3/envs/test/lib/python3.9/site-packages/sqlalchemy/orm/decl_base.py:329\u001b[0m, in \u001b[0;36m_MapperConfig.setup_mapping\u001b[0;34m(cls, registry, cls_, dict_, table, mapper_kw)\u001b[0m\n\u001b[1;32m    325\u001b[0m     \u001b[39mreturn\u001b[39;00m _DeferredMapperConfig(\n\u001b[1;32m    326\u001b[0m         registry, cls_, dict_, table, mapper_kw\n\u001b[1;32m    327\u001b[0m     )\n\u001b[1;32m    328\u001b[0m \u001b[39melse\u001b[39;00m:\n\u001b[0;32m--> 329\u001b[0m     \u001b[39mreturn\u001b[39;00m _ClassScanMapperConfig(\n\u001b[1;32m    330\u001b[0m         registry, cls_, dict_, table, mapper_kw\n\u001b[1;32m    331\u001b[0m     )\n",
      "File \u001b[0;32m~/opt/anaconda3/envs/test/lib/python3.9/site-packages/sqlalchemy/orm/decl_base.py:578\u001b[0m, in \u001b[0;36m_ClassScanMapperConfig.__init__\u001b[0;34m(self, registry, cls_, dict_, table, mapper_kw)\u001b[0m\n\u001b[1;32m    574\u001b[0m \u001b[39mself\u001b[39m\u001b[39m.\u001b[39m_extract_mappable_attributes()\n\u001b[1;32m    576\u001b[0m \u001b[39mself\u001b[39m\u001b[39m.\u001b[39m_extract_declared_columns()\n\u001b[0;32m--> 578\u001b[0m \u001b[39mself\u001b[39;49m\u001b[39m.\u001b[39;49m_setup_table(table)\n\u001b[1;32m    580\u001b[0m \u001b[39mself\u001b[39m\u001b[39m.\u001b[39m_setup_inheriting_columns(mapper_kw)\n\u001b[1;32m    582\u001b[0m \u001b[39mself\u001b[39m\u001b[39m.\u001b[39m_early_mapping(mapper_kw)\n",
      "File \u001b[0;32m~/opt/anaconda3/envs/test/lib/python3.9/site-packages/sqlalchemy/orm/decl_base.py:1663\u001b[0m, in \u001b[0;36m_ClassScanMapperConfig._setup_table\u001b[0;34m(self, table)\u001b[0m\n\u001b[1;32m   1655\u001b[0m             table_kw[\u001b[39m\"\u001b[39m\u001b[39mautoload\u001b[39m\u001b[39m\"\u001b[39m] \u001b[39m=\u001b[39m \u001b[39mTrue\u001b[39;00m\n\u001b[1;32m   1657\u001b[0m         sorted_columns \u001b[39m=\u001b[39m \u001b[39msorted\u001b[39m(\n\u001b[1;32m   1658\u001b[0m             declared_columns,\n\u001b[1;32m   1659\u001b[0m             key\u001b[39m=\u001b[39m\u001b[39mlambda\u001b[39;00m c: column_ordering\u001b[39m.\u001b[39mget(c, \u001b[39m0\u001b[39m),\n\u001b[1;32m   1660\u001b[0m         )\n\u001b[1;32m   1661\u001b[0m         table \u001b[39m=\u001b[39m \u001b[39mself\u001b[39m\u001b[39m.\u001b[39mset_cls_attribute(\n\u001b[1;32m   1662\u001b[0m             \u001b[39m\"\u001b[39m\u001b[39m__table__\u001b[39m\u001b[39m\"\u001b[39m,\n\u001b[0;32m-> 1663\u001b[0m             table_cls(\n\u001b[1;32m   1664\u001b[0m                 tablename,\n\u001b[1;32m   1665\u001b[0m                 \u001b[39mself\u001b[39;49m\u001b[39m.\u001b[39;49m_metadata_for_cls(manager),\n\u001b[1;32m   1666\u001b[0m                 \u001b[39m*\u001b[39;49msorted_columns,\n\u001b[1;32m   1667\u001b[0m                 \u001b[39m*\u001b[39;49margs,\n\u001b[1;32m   1668\u001b[0m                 \u001b[39m*\u001b[39;49m\u001b[39m*\u001b[39;49mtable_kw,\n\u001b[1;32m   1669\u001b[0m             ),\n\u001b[1;32m   1670\u001b[0m         )\n\u001b[1;32m   1671\u001b[0m \u001b[39melse\u001b[39;00m:\n\u001b[1;32m   1672\u001b[0m     \u001b[39mif\u001b[39;00m table \u001b[39mis\u001b[39;00m \u001b[39mNone\u001b[39;00m:\n",
      "File \u001b[0;32m~/opt/anaconda3/envs/test/lib/python3.9/site-packages/flask_sqlalchemy/model.py:147\u001b[0m, in \u001b[0;36mNameMetaMixin.__table_cls__\u001b[0;34m(cls, *args, **kwargs)\u001b[0m\n\u001b[1;32m    144\u001b[0m \u001b[39m# Check if a table with this name already exists. Allows reflected tables to be\u001b[39;00m\n\u001b[1;32m    145\u001b[0m \u001b[39m# applied to models by name.\u001b[39;00m\n\u001b[1;32m    146\u001b[0m \u001b[39mif\u001b[39;00m key \u001b[39min\u001b[39;00m \u001b[39mcls\u001b[39m\u001b[39m.\u001b[39mmetadata\u001b[39m.\u001b[39mtables:\n\u001b[0;32m--> 147\u001b[0m     \u001b[39mreturn\u001b[39;00m sa\u001b[39m.\u001b[39;49mTable(\u001b[39m*\u001b[39;49margs, \u001b[39m*\u001b[39;49m\u001b[39m*\u001b[39;49mkwargs)\n\u001b[1;32m    149\u001b[0m \u001b[39m# If a primary key is found, create a table for joined-table inheritance.\u001b[39;00m\n\u001b[1;32m    150\u001b[0m \u001b[39mfor\u001b[39;00m arg \u001b[39min\u001b[39;00m args:\n",
      "File \u001b[0;32m<string>:2\u001b[0m, in \u001b[0;36m__new__\u001b[0;34m(cls, *args, **kw)\u001b[0m\n",
      "File \u001b[0;32m~/opt/anaconda3/envs/test/lib/python3.9/site-packages/sqlalchemy/util/deprecations.py:277\u001b[0m, in \u001b[0;36mdeprecated_params.<locals>.decorate.<locals>.warned\u001b[0;34m(fn, *args, **kwargs)\u001b[0m\n\u001b[1;32m    270\u001b[0m     \u001b[39mif\u001b[39;00m m \u001b[39min\u001b[39;00m kwargs:\n\u001b[1;32m    271\u001b[0m         _warn_with_version(\n\u001b[1;32m    272\u001b[0m             messages[m],\n\u001b[1;32m    273\u001b[0m             versions[m],\n\u001b[1;32m    274\u001b[0m             version_warnings[m],\n\u001b[1;32m    275\u001b[0m             stacklevel\u001b[39m=\u001b[39m\u001b[39m3\u001b[39m,\n\u001b[1;32m    276\u001b[0m         )\n\u001b[0;32m--> 277\u001b[0m \u001b[39mreturn\u001b[39;00m fn(\u001b[39m*\u001b[39;49margs, \u001b[39m*\u001b[39;49m\u001b[39m*\u001b[39;49mkwargs)\n",
      "File \u001b[0;32m~/opt/anaconda3/envs/test/lib/python3.9/site-packages/sqlalchemy/sql/schema.py:428\u001b[0m, in \u001b[0;36mTable.__new__\u001b[0;34m(cls, *args, **kw)\u001b[0m\n\u001b[1;32m    421\u001b[0m \u001b[39m@util\u001b[39m\u001b[39m.\u001b[39mdeprecated_params(\n\u001b[1;32m    422\u001b[0m     mustexist\u001b[39m=\u001b[39m(\n\u001b[1;32m    423\u001b[0m         \u001b[39m\"\u001b[39m\u001b[39m1.4\u001b[39m\u001b[39m\"\u001b[39m,\n\u001b[0;32m   (...)\u001b[0m\n\u001b[1;32m    426\u001b[0m )\n\u001b[1;32m    427\u001b[0m \u001b[39mdef\u001b[39;00m \u001b[39m__new__\u001b[39m(\u001b[39mcls\u001b[39m, \u001b[39m*\u001b[39margs: Any, \u001b[39m*\u001b[39m\u001b[39m*\u001b[39mkw: Any) \u001b[39m-\u001b[39m\u001b[39m>\u001b[39m Any:\n\u001b[0;32m--> 428\u001b[0m     \u001b[39mreturn\u001b[39;00m \u001b[39mcls\u001b[39;49m\u001b[39m.\u001b[39;49m_new(\u001b[39m*\u001b[39;49margs, \u001b[39m*\u001b[39;49m\u001b[39m*\u001b[39;49mkw)\n",
      "File \u001b[0;32m~/opt/anaconda3/envs/test/lib/python3.9/site-packages/sqlalchemy/sql/schema.py:460\u001b[0m, in \u001b[0;36mTable._new\u001b[0;34m(cls, *args, **kw)\u001b[0m\n\u001b[1;32m    458\u001b[0m \u001b[39mif\u001b[39;00m key \u001b[39min\u001b[39;00m metadata\u001b[39m.\u001b[39mtables:\n\u001b[1;32m    459\u001b[0m     \u001b[39mif\u001b[39;00m \u001b[39mnot\u001b[39;00m keep_existing \u001b[39mand\u001b[39;00m \u001b[39mnot\u001b[39;00m extend_existing \u001b[39mand\u001b[39;00m \u001b[39mbool\u001b[39m(args):\n\u001b[0;32m--> 460\u001b[0m         \u001b[39mraise\u001b[39;00m exc\u001b[39m.\u001b[39mInvalidRequestError(\n\u001b[1;32m    461\u001b[0m             \u001b[39m\"\u001b[39m\u001b[39mTable \u001b[39m\u001b[39m'\u001b[39m\u001b[39m%s\u001b[39;00m\u001b[39m'\u001b[39m\u001b[39m is already defined for this MetaData \u001b[39m\u001b[39m\"\u001b[39m\n\u001b[1;32m    462\u001b[0m             \u001b[39m\"\u001b[39m\u001b[39minstance.  Specify \u001b[39m\u001b[39m'\u001b[39m\u001b[39mextend_existing=True\u001b[39m\u001b[39m'\u001b[39m\u001b[39m \u001b[39m\u001b[39m\"\u001b[39m\n\u001b[1;32m    463\u001b[0m             \u001b[39m\"\u001b[39m\u001b[39mto redefine \u001b[39m\u001b[39m\"\u001b[39m\n\u001b[1;32m    464\u001b[0m             \u001b[39m\"\u001b[39m\u001b[39moptions and columns on an \u001b[39m\u001b[39m\"\u001b[39m\n\u001b[1;32m    465\u001b[0m             \u001b[39m\"\u001b[39m\u001b[39mexisting Table object.\u001b[39m\u001b[39m\"\u001b[39m \u001b[39m%\u001b[39m key\n\u001b[1;32m    466\u001b[0m         )\n\u001b[1;32m    467\u001b[0m     table \u001b[39m=\u001b[39m metadata\u001b[39m.\u001b[39mtables[key]\n\u001b[1;32m    468\u001b[0m     \u001b[39mif\u001b[39;00m extend_existing:\n",
      "\u001b[0;31mInvalidRequestError\u001b[0m: Table 'cars' is already defined for this MetaData instance.  Specify 'extend_existing=True' to redefine options and columns on an existing Table object."
     ]
    }
   ],
   "source": [
    "\"\"\" database dependencies to support sqlite examples \"\"\"\n",
    "import datetime\n",
    "from datetime import datetime\n",
    "import json\n",
    "\n",
    "from sqlalchemy.exc import IntegrityError\n",
    "from werkzeug.security import generate_password_hash, check_password_hash\n",
    "\n",
    "class Car(db.Model):\n",
    "    __tablename__ = 'cars'  \n",
    "\n",
    "    id = db.Column(db.Integer, primary_key=True) \n",
    "    _firstname = db.Column(db.String(255), unique=False, nullable=False)\n",
    "    _lastname = db.Column(db.String(255), unique=False, nullable=False)\n",
    "    _type = db.Column(db.String(255), unique=False, nullable=False)\n",
    "    _license = db.Column(db.String(255), unique=True, nullable=False)\n",
    "    _phone = db.Column(db.String(255), unique=False, nullable=False)\n",
    "    _cpd = db.Column(db.Date)\n",
    "\n",
    "    # constructor of a User object, initializes the instance variables within object (self)\n",
    "    def __init__(self, firstname, lastname, type, license, phone=\"123qwerty\", cpd=datetime.today()):\n",
    "        self._firstname = firstname\n",
    "        self._lastname = lastname\n",
    "        self._type = type    # variables with self prefix become part of the object, \n",
    "        self._license = license\n",
    "        self.set_(phone)\n",
    "        if isinstance(cpd, str):  # not a date type     \n",
    "            cpd = date=datetime.today()\n",
    "        self._cpd = cpd \n",
    "        \n",
    "    # name of person\n",
    "    @property\n",
    "    def firstname(self):\n",
    "        return self._firstname\n",
    "\n",
    "    @firstname.setter\n",
    "    def firstname(self, firstname):\n",
    "        self._type = firstname\n",
    "    \n",
    "    @property\n",
    "    def lastname(self):\n",
    "        return self._lastname\n",
    "\n",
    "    @lastname.setter\n",
    "    def lastname(self, lastname):\n",
    "        self._type = lastname\n",
    "    \n",
    "    #type of car\n",
    "    @property\n",
    "    def type(self):\n",
    "        return self._type\n",
    "\n",
    "    @type.setter\n",
    "    def name(self, type):\n",
    "        self._type = type\n",
    "    \n",
    "    # license of car\n",
    "    @property\n",
    "    def license(self):\n",
    "        return self._license\n",
    "    \n",
    "    # a setter function (update)\n",
    "    @license.setter\n",
    "    def license(self, license):\n",
    "        self._license = license\n",
    "        \n",
    "    # return boolean\n",
    "    def is_uid(self, license):\n",
    "        return self._license == license\n",
    "    \n",
    "    # phone number\n",
    "    @property\n",
    "    def phone(self):\n",
    "        return self._phone[0:10] + \"...\" \n",
    "    # show only first 3\n",
    "\n",
    "    # update password\n",
    "    def set_phone(self, phone):\n",
    "        \"\"\"Create a hashed password.\"\"\"\n",
    "        self._phone = generate_password_hash(phone, method='sha256')\n",
    "    \n",
    "    # cpd car purchase date\n",
    "    @property\n",
    "    def cpd(self):\n",
    "        cpd_string = self._cpd.strftime('%m-%d-%Y')\n",
    "        return cpd_string\n",
    "    \n",
    "    # verify\n",
    "    @cpd.setter\n",
    "    def cpd(self, cpd):\n",
    "        if isinstance(cpd, str):  # not a date \n",
    "            cpd = date=datetime.today()\n",
    "        self._dob = cpd\n",
    "    \n",
    "    @property\n",
    "    def age(self):\n",
    "        today = datetime.today()\n",
    "        return today.year - self._cpd.year - ((today.month, today.day) < (self._cpd.month, self._cpd.day))\n",
    "    \n",
    "    # output content using str(object) in human readable form, uses getter\n",
    "    # output content using json dumps, this is ready for API response\n",
    "    def __str__(self):\n",
    "        return json.dumps(self.read())\n",
    "\n",
    "    # CRUD create/add a new record to the table\n",
    "    # returns self or None on error\n",
    "    def create(self):\n",
    "        try:\n",
    "            # creates a person object from User(db.Model) class, passes initializers\n",
    "            db.session.add(self)  # add prepares to persist person object to Users table\n",
    "            db.session.commit()  # SqlAlchemy \"unit of work pattern\" requires a manual commit\n",
    "            return self\n",
    "        except IntegrityError:\n",
    "            db.session.remove()\n",
    "            return None\n",
    "\n",
    "# in class not only is there attributes there are also methods\n",
    "    # CRUD read converts self to dictionary\n",
    "    # returns dictionary\n",
    "    def read(self):\n",
    "        return {\n",
    "            \"id\": self.id,\n",
    "            \"first name\": self.firstname,\n",
    "            \"last name\": self.lastname,\n",
    "            \"phone number\": self.phone,\n",
    "            \"type of car\": self.type,\n",
    "            \"license\": self.license,\n",
    "            \"age of car\": self.cpd\n",
    "        }\n",
    "\n",
    "    # CRUD update: updates user name, password, phone\n",
    "    # returns self\n",
    "    def update(self, type=\"\", lastname=\"\", firstname=\"\", license=\"\", phone=\"\"):\n",
    "        \"\"\"only updates values with length\"\"\"\n",
    "        if len(lastname) > 0:\n",
    "            self.lastname = lastname\n",
    "        if len(firstname) > 0:\n",
    "            self.firstname = firstname\n",
    "        if len(license) > 0:\n",
    "            self.license = license\n",
    "        #if len(type) > 0:\n",
    "            #self.type = type\n",
    "        if len(phone) > 0:\n",
    "            self.set_phone(phone)\n",
    "        db.session.commit()\n",
    "        return self\n",
    "\n",
    "    # CRUD delete: remove self\n",
    "    # None\n",
    "    def delete(self):\n",
    "        db.session.delete(self)\n",
    "        db.session.commit()\n",
    "        return None"
   ]
  },
  {
   "attachments": {},
   "cell_type": "markdown",
   "metadata": {},
   "source": [
    "## Initial Data\n",
    "> Uses SQLALchemy db.create_all() to initialize rows into sqlite.db\n",
    "\n",
    "- Comment on how these work?\n",
    "1. Create All Tables from db Object\n",
    "2. User Object Constructors\n",
    "3. Try / Except \n"
   ]
  },
  {
   "cell_type": "code",
   "execution_count": 15,
   "metadata": {},
   "outputs": [
    {
     "ename": "AttributeError",
     "evalue": "'Car' object has no attribute 'set_'",
     "output_type": "error",
     "traceback": [
      "\u001b[0;31m---------------------------------------------------------------------------\u001b[0m",
      "\u001b[0;31mAttributeError\u001b[0m                            Traceback (most recent call last)",
      "Cell \u001b[0;32mIn[15], line 25\u001b[0m\n\u001b[1;32m     22\u001b[0m                 \u001b[39m'''fails with bad or duplicate data'''\u001b[39;00m\n\u001b[1;32m     23\u001b[0m                 \u001b[39mprint\u001b[39m(\u001b[39mf\u001b[39m\u001b[39m\"\u001b[39m\u001b[39mRecords exist phone number \u001b[39m\u001b[39m{\u001b[39;00mcar\u001b[39m.\u001b[39mphone\u001b[39m}\u001b[39;00m\u001b[39m, or error.\u001b[39m\u001b[39m\"\u001b[39m)\n\u001b[0;32m---> 25\u001b[0m initUsers()\n",
      "Cell \u001b[0;32mIn[15], line 7\u001b[0m, in \u001b[0;36minitUsers\u001b[0;34m()\u001b[0m\n\u001b[1;32m      5\u001b[0m db\u001b[39m.\u001b[39mcreate_all()\n\u001b[1;32m      6\u001b[0m \u001b[39m\"\"\"Tester data for table\"\"\"\u001b[39;00m\n\u001b[0;32m----> 7\u001b[0m u1 \u001b[39m=\u001b[39m Car(firstname\u001b[39m=\u001b[39;49m\u001b[39m'\u001b[39;49m\u001b[39mBob\u001b[39;49m\u001b[39m'\u001b[39;49m, lastname\u001b[39m=\u001b[39;49m\u001b[39m'\u001b[39;49m\u001b[39mEdison\u001b[39;49m\u001b[39m'\u001b[39;49m, phone\u001b[39m=\u001b[39;49m\u001b[39m'\u001b[39;49m\u001b[39m1232133724\u001b[39;49m\u001b[39m'\u001b[39;49m, \u001b[39mtype\u001b[39;49m\u001b[39m=\u001b[39;49m\u001b[39m'\u001b[39;49m\u001b[39mminivan\u001b[39;49m\u001b[39m'\u001b[39;49m, license\u001b[39m=\u001b[39;49m\u001b[39m'\u001b[39;49m\u001b[39m123456\u001b[39;49m\u001b[39m'\u001b[39;49m, cpd\u001b[39m=\u001b[39;49mdatetime(\u001b[39m1847\u001b[39;49m, \u001b[39m1\u001b[39;49m, \u001b[39m18\u001b[39;49m))\n\u001b[1;32m      8\u001b[0m u2 \u001b[39m=\u001b[39m Car(firstname\u001b[39m=\u001b[39m\u001b[39m'\u001b[39m\u001b[39mAdam\u001b[39m\u001b[39m'\u001b[39m, lastname\u001b[39m=\u001b[39m\u001b[39m'\u001b[39m\u001b[39mAdams\u001b[39m\u001b[39m'\u001b[39m, phone\u001b[39m=\u001b[39m\u001b[39m'\u001b[39m\u001b[39m1232342345\u001b[39m\u001b[39m'\u001b[39m, \u001b[39mtype\u001b[39m\u001b[39m=\u001b[39m\u001b[39m'\u001b[39m\u001b[39msubaru\u001b[39m\u001b[39m'\u001b[39m, license\u001b[39m=\u001b[39m\u001b[39m'\u001b[39m\u001b[39m039278\u001b[39m\u001b[39m'\u001b[39m, cpd\u001b[39m=\u001b[39mdatetime(\u001b[39m2000\u001b[39m, \u001b[39m10\u001b[39m, \u001b[39m21\u001b[39m))\n\u001b[1;32m      9\u001b[0m u3 \u001b[39m=\u001b[39m Car(firstname\u001b[39m=\u001b[39m\u001b[39m'\u001b[39m\u001b[39mEmily\u001b[39m\u001b[39m'\u001b[39m, lastname\u001b[39m=\u001b[39m\u001b[39m'\u001b[39m\u001b[39mRusso\u001b[39m\u001b[39m'\u001b[39m, phone\u001b[39m=\u001b[39m\u001b[39m'\u001b[39m\u001b[39m8582343456\u001b[39m\u001b[39m'\u001b[39m, \u001b[39mtype\u001b[39m\u001b[39m=\u001b[39m\u001b[39m'\u001b[39m\u001b[39mcooper\u001b[39m\u001b[39m'\u001b[39m, license\u001b[39m=\u001b[39m\u001b[39m'\u001b[39m\u001b[39m394028\u001b[39m\u001b[39m'\u001b[39m, cpd\u001b[39m=\u001b[39mdatetime(\u001b[39m2005\u001b[39m, \u001b[39m9\u001b[39m, \u001b[39m30\u001b[39m))\n",
      "File \u001b[0;32m<string>:4\u001b[0m, in \u001b[0;36m__init__\u001b[0;34m(self, firstname, lastname, type, license, phone, cpd)\u001b[0m\n",
      "File \u001b[0;32m~/opt/anaconda3/envs/test/lib/python3.9/site-packages/sqlalchemy/orm/state.py:576\u001b[0m, in \u001b[0;36mInstanceState._initialize_instance\u001b[0;34m(*mixed, **kwargs)\u001b[0m\n\u001b[1;32m    574\u001b[0m \u001b[39mexcept\u001b[39;00m:\n\u001b[1;32m    575\u001b[0m     \u001b[39mwith\u001b[39;00m util\u001b[39m.\u001b[39msafe_reraise():\n\u001b[0;32m--> 576\u001b[0m         manager\u001b[39m.\u001b[39mdispatch\u001b[39m.\u001b[39minit_failure(\u001b[39mself\u001b[39m, args, kwargs)\n",
      "File \u001b[0;32m~/opt/anaconda3/envs/test/lib/python3.9/site-packages/sqlalchemy/util/langhelpers.py:147\u001b[0m, in \u001b[0;36msafe_reraise.__exit__\u001b[0;34m(self, type_, value, traceback)\u001b[0m\n\u001b[1;32m    145\u001b[0m     \u001b[39massert\u001b[39;00m exc_value \u001b[39mis\u001b[39;00m \u001b[39mnot\u001b[39;00m \u001b[39mNone\u001b[39;00m\n\u001b[1;32m    146\u001b[0m     \u001b[39mself\u001b[39m\u001b[39m.\u001b[39m_exc_info \u001b[39m=\u001b[39m \u001b[39mNone\u001b[39;00m  \u001b[39m# remove potential circular references\u001b[39;00m\n\u001b[0;32m--> 147\u001b[0m     \u001b[39mraise\u001b[39;00m exc_value\u001b[39m.\u001b[39mwith_traceback(exc_tb)\n\u001b[1;32m    148\u001b[0m \u001b[39melse\u001b[39;00m:\n\u001b[1;32m    149\u001b[0m     \u001b[39mself\u001b[39m\u001b[39m.\u001b[39m_exc_info \u001b[39m=\u001b[39m \u001b[39mNone\u001b[39;00m  \u001b[39m# remove potential circular references\u001b[39;00m\n",
      "File \u001b[0;32m~/opt/anaconda3/envs/test/lib/python3.9/site-packages/sqlalchemy/orm/state.py:573\u001b[0m, in \u001b[0;36mInstanceState._initialize_instance\u001b[0;34m(*mixed, **kwargs)\u001b[0m\n\u001b[1;32m    570\u001b[0m manager\u001b[39m.\u001b[39mdispatch\u001b[39m.\u001b[39minit(\u001b[39mself\u001b[39m, args, kwargs)\n\u001b[1;32m    572\u001b[0m \u001b[39mtry\u001b[39;00m:\n\u001b[0;32m--> 573\u001b[0m     manager\u001b[39m.\u001b[39;49moriginal_init(\u001b[39m*\u001b[39;49mmixed[\u001b[39m1\u001b[39;49m:], \u001b[39m*\u001b[39;49m\u001b[39m*\u001b[39;49mkwargs)\n\u001b[1;32m    574\u001b[0m \u001b[39mexcept\u001b[39;00m:\n\u001b[1;32m    575\u001b[0m     \u001b[39mwith\u001b[39;00m util\u001b[39m.\u001b[39msafe_reraise():\n",
      "Cell \u001b[0;32mIn[14], line 26\u001b[0m, in \u001b[0;36mCar.__init__\u001b[0;34m(self, firstname, lastname, type, license, phone, cpd)\u001b[0m\n\u001b[1;32m     24\u001b[0m \u001b[39mself\u001b[39m\u001b[39m.\u001b[39m_type \u001b[39m=\u001b[39m \u001b[39mtype\u001b[39m    \u001b[39m# variables with self prefix become part of the object, \u001b[39;00m\n\u001b[1;32m     25\u001b[0m \u001b[39mself\u001b[39m\u001b[39m.\u001b[39m_license \u001b[39m=\u001b[39m license\n\u001b[0;32m---> 26\u001b[0m \u001b[39mself\u001b[39;49m\u001b[39m.\u001b[39;49mset_(phone)\n\u001b[1;32m     27\u001b[0m \u001b[39mif\u001b[39;00m \u001b[39misinstance\u001b[39m(cpd, \u001b[39mstr\u001b[39m):  \u001b[39m# not a date type     \u001b[39;00m\n\u001b[1;32m     28\u001b[0m     cpd \u001b[39m=\u001b[39m date\u001b[39m=\u001b[39mdatetime\u001b[39m.\u001b[39mtoday()\n",
      "\u001b[0;31mAttributeError\u001b[0m: 'Car' object has no attribute 'set_'"
     ]
    }
   ],
   "source": [
    "# Builds working data for testing\n",
    "def initUsers():\n",
    "    with app.app_context():\n",
    "        \"\"\"Create database and tables\"\"\"\n",
    "        db.create_all()\n",
    "        \"\"\"Tester data for table\"\"\"\n",
    "        u1 = Car(firstname='Bob', lastname='Edison', phone='1232133724', type='minivan', license='123456', cpd=datetime(1847, 1, 18))\n",
    "        u2 = Car(firstname='Adam', lastname='Adams', phone='1232342345', type='subaru', license='039278', cpd=datetime(2000, 10, 21))\n",
    "        u3 = Car(firstname='Emily', lastname='Russo', phone='8582343456', type='cooper', license='394028', cpd=datetime(2005, 9, 30))\n",
    "        u4 = Car(firstname='Jillian', lastname='Esa', phone='7603452904', type='van', license='473829', cpd=datetime(2020, 7, 11))\n",
    "        u5 = Car(firstname='Billy', lastname='Richards', phone='8583742049', type='sports', license='583920', cpd=datetime(2010, 6, 26))\n",
    "        u6 = Car(firstname='John', lastname='Adams', phone='7602947389', type='minivan', license='738290', cpd=datetime(2015, 5, 10))\n",
    "        cars = [u1, u2, u3, u4, u5, u6]\n",
    "\n",
    "        \"\"\"Builds sample user/note(s) data\"\"\"\n",
    "        for car in cars:\n",
    "            try:\n",
    "                '''add user to table'''\n",
    "                object = car.create()\n",
    "                print(f\"Created new phone {object.phone}\")\n",
    "            except:  # error raised if object nit created\n",
    "                '''fails with bad or duplicate data'''\n",
    "                print(f\"Records exist phone number {car.phone}, or error.\")\n",
    "                \n",
    "initUsers()"
   ]
  },
  {
   "attachments": {},
   "cell_type": "markdown",
   "metadata": {},
   "source": [
    "## Check for given Credentials in users table in sqlite.db\n",
    "> Use of ORM Query object and custom methods to identify user to credentials uid and password\n",
    "\n",
    "- Comment on purpose of following\n",
    "1. User.query.filter_by\n",
    "2. user.password"
   ]
  },
  {
   "cell_type": "code",
   "execution_count": 27,
   "metadata": {},
   "outputs": [
    {
     "data": {
      "text/plain": [
       "False"
      ]
     },
     "execution_count": 27,
     "metadata": {},
     "output_type": "execute_result"
    }
   ],
   "source": [
    "# SQLAlchemy extracts single user from database matching User ID\n",
    "def find_by_firstname(firstname):\n",
    "    with app.app_context():\n",
    "        car = Car.query.filter_by(_firstname=firstname).first()\n",
    "    return car # returns user object\n",
    "\n",
    "# Check credentials by finding user and verify password\n",
    "def check_credentials(firstname, phone):\n",
    "    # query email and return user record\n",
    "    car = find_by_firstname(firstname)\n",
    "    if car == None:\n",
    "        return False\n",
    "    if (car.is_phone(phone)):\n",
    "        return True\n",
    "    return False\n",
    "        \n",
    "check_credentials(\"Billy\", \"8583742049\")"
   ]
  },
  {
   "attachments": {},
   "cell_type": "markdown",
   "metadata": {},
   "source": [
    "## Create a new User in table in Sqlite.db\n",
    "> Uses SQLALchemy and custom user.create() method to add row.\n",
    "\n",
    "- Comment on purpose of following\n",
    "1. user.find_by_uid() and try/except\n",
    "2. user = User(...)\n",
    "3. user.dob and try/except\n",
    "4. user.create() and try/except"
   ]
  },
  {
   "cell_type": "code",
   "execution_count": 26,
   "metadata": {},
   "outputs": [
    {
     "ename": "NameError",
     "evalue": "name 'car' is not defined",
     "output_type": "error",
     "traceback": [
      "\u001b[0;31m---------------------------------------------------------------------------\u001b[0m",
      "\u001b[0;31mNameError\u001b[0m                                 Traceback (most recent call last)",
      "Cell \u001b[0;32mIn[26], line 34\u001b[0m\n\u001b[1;32m     31\u001b[0m         \u001b[39mexcept\u001b[39;00m:  \u001b[39m# error raised if object not created\u001b[39;00m\n\u001b[1;32m     32\u001b[0m             \u001b[39mprint\u001b[39m(\u001b[39m\"\u001b[39m\u001b[39mUnknown error license \u001b[39m\u001b[39m{license}\u001b[39;00m\u001b[39m\"\u001b[39m)\n\u001b[0;32m---> 34\u001b[0m create()\n",
      "Cell \u001b[0;32mIn[26], line 11\u001b[0m, in \u001b[0;36mcreate\u001b[0;34m()\u001b[0m\n\u001b[1;32m      8\u001b[0m phone \u001b[39m=\u001b[39m \u001b[39minput\u001b[39m(\u001b[39m\"\u001b[39m\u001b[39mEnter your phone number\u001b[39m\u001b[39m\"\u001b[39m)\n\u001b[1;32m     10\u001b[0m \u001b[39m# Initialize User object before date\u001b[39;00m\n\u001b[0;32m---> 11\u001b[0m Car \u001b[39m=\u001b[39m car(license\u001b[39m==\u001b[39mlicense, \n\u001b[1;32m     12\u001b[0m             firstname\u001b[39m=\u001b[39mfirstname, \n\u001b[1;32m     13\u001b[0m             lastname\u001b[39m=\u001b[39mlastname,\n\u001b[1;32m     14\u001b[0m             phone\u001b[39m=\u001b[39mphone,\n\u001b[1;32m     15\u001b[0m             \u001b[39mtype\u001b[39m\u001b[39m=\u001b[39m\u001b[39mtype\u001b[39m\n\u001b[1;32m     16\u001b[0m             )\n\u001b[1;32m     18\u001b[0m \u001b[39m# create user.dob, fail with today as dob\u001b[39;00m\n\u001b[1;32m     19\u001b[0m cpd \u001b[39m=\u001b[39m \u001b[39minput\u001b[39m(\u001b[39m\"\u001b[39m\u001b[39mEnter your date of birth \u001b[39m\u001b[39m'\u001b[39m\u001b[39mYYYY-MM-DD\u001b[39m\u001b[39m'\u001b[39m\u001b[39m\"\u001b[39m)\n",
      "\u001b[0;31mNameError\u001b[0m: name 'car' is not defined"
     ]
    }
   ],
   "source": [
    "# Inputs, Try/Except, and SQLAlchemy work together to build a valid database object\n",
    "def create():\n",
    "    \n",
    "    # request value that ensure creating valid object\n",
    "    firstname = input(\"Enter your first name:\")\n",
    "    lastname = input(\"Enter your last name:\")\n",
    "    type = input(\"Enter the type of your car\")\n",
    "    phone = input(\"Enter your phone number\")\n",
    "    license = input(\"Enter your car license number\")\n",
    "    \n",
    "    # Initialize User object before date\n",
    "    Car = car(license==license, \n",
    "                firstname=firstname, \n",
    "                lastname=lastname,\n",
    "                phone=phone,\n",
    "                type=type\n",
    "                )\n",
    "    \n",
    "    # create user.dob, fail with today as dob\n",
    "    cpd = input(\"Enter your date of birth 'YYYY-MM-DD'\")\n",
    "    try:\n",
    "        car.cpd = datetime.strptime(cpd, '%Y-%m-%d').date()\n",
    "    except ValueError:\n",
    "        car.cpd = datetime.today()\n",
    "        print(f\"Invalid date {cpd} require YYYY-mm-dd, date defaulted to {car.cpd}\")\n",
    "\n",
    "    # write object to database\n",
    "    with app.app_context():\n",
    "        try:\n",
    "            object = car.create()\n",
    "            print(\"Created\\n\", object.read())\n",
    "        except:  # error raised if object not created\n",
    "            print(\"Unknown error license {license}\")\n",
    "        \n",
    "create()"
   ]
  },
  {
   "attachments": {},
   "cell_type": "markdown",
   "metadata": {},
   "source": [
    "## Reading users table in sqlite.db\n",
    "> Uses SQLALchemy query.all method to read data\n",
    "\n",
    "- Comment on purpose of following\n",
    "1. User.query.all\n",
    "2. json_ready assignment"
   ]
  },
  {
   "cell_type": "code",
   "execution_count": 23,
   "metadata": {},
   "outputs": [
    {
     "data": {
      "text/plain": [
       "[]"
      ]
     },
     "execution_count": 23,
     "metadata": {},
     "output_type": "execute_result"
    }
   ],
   "source": [
    "\n",
    "# SQLAlchemy extracts all users from database, turns each user into JSON\n",
    "def read():\n",
    "    with app.app_context():\n",
    "        table = Car.query.all()\n",
    "    json_ready = [car.read() for car in table] # each user adds user.read() to list\n",
    "    return json_ready\n",
    "\n",
    "read()"
   ]
  },
  {
   "attachments": {},
   "cell_type": "markdown",
   "metadata": {},
   "source": [
    "# Hacks\n",
    "- Add this Blog to you own Blogging site.  In the Blog add notes and observations on each code cell.\n",
    "- Add Update functionality to this blog.\n",
    "- Add Delete functionality to this blog."
   ]
  }
 ],
 "metadata": {
  "kernelspec": {
   "display_name": "base",
   "language": "python",
   "name": "python3"
  },
  "language_info": {
   "codemirror_mode": {
    "name": "ipython",
    "version": 3
   },
   "file_extension": ".py",
   "mimetype": "text/x-python",
   "name": "python",
   "nbconvert_exporter": "python",
   "pygments_lexer": "ipython3",
   "version": "3.9.16"
  },
  "orig_nbformat": 4,
  "vscode": {
   "interpreter": {
    "hash": "8b82d5009c68ba5675978267e2b13a671f2a7143d61273c5a3813c97e0b2493d"
   }
  }
 },
 "nbformat": 4,
 "nbformat_minor": 2
}
