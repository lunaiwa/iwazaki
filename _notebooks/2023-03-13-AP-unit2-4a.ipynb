{
 "cells": [
  {
   "attachments": {},
   "cell_type": "markdown",
   "metadata": {},
   "source": [
    "#  Unit 2.4a Using Programs with Data, SQLAlchemy\n",
    "> Using Programs with Data is focused on SQL and database actions.  Part A focuses on SQLAlchemy and an OOP programming style,\n",
    "- toc: true\n",
    "- image: /images/python.png\n",
    "- categories: []\n",
    "- type: ap\n",
    "- week: 26"
   ]
  },
  {
   "attachments": {},
   "cell_type": "markdown",
   "metadata": {},
   "source": [
    "# Database and SQLAlchemy\n",
    "> In this blog we will explore using programs with data, focused on Databases.  We will use SQLite Database to learn more about using Programs with Data.\n",
    "\n",
    "**Focus on objects and objects as being data**\n",
    "\n",
    "- College Board talks about ideas like \n",
    "    - Program Usage. \"iterative and interactive way when processing information\"\n",
    "    - Managing Data.  \"classifying data are part of the process in using programs\", \"data files in a Table\"\n",
    "    - Insight \"insight and knowledge can be obtained from ...  digitally represented information\"\n",
    "    - Filter systems. 'tools for finding information and recognizing patterns\"\n",
    "    - Application. \"the preserve has two databases\", \"an employee wants to count the number of book\"\n",
    "\n",
    "- PBL, Databases, Iterative/OOP\n",
    "    - Iterative. Refers to a sequence of instructions or code being repeated until a specific end result is achieved\n",
    "    - OOP. A computer programming model that organizes software design around data, or objects, rather than functions and logic\n",
    "    - SQL. Structured Query Language, abbreviated as SQL, is a language used in programming, managing, and structuring data \n"
   ]
  },
  {
   "attachments": {},
   "cell_type": "markdown",
   "metadata": {},
   "source": [
    "## Imports and Flask Objects\n",
    "> Defines and key object creations\n",
    "\n",
    "- Comment on where you have observed these working?\n",
    "1. Flask app object\n",
    "2. SQLAlchemy object\n"
   ]
  },
  {
   "cell_type": "code",
   "execution_count": 8,
   "metadata": {},
   "outputs": [
    {
     "ename": "TypeError",
     "evalue": "dataclass_transform() got an unexpected keyword argument 'field_specifiers'",
     "output_type": "error",
     "traceback": [
      "\u001b[0;31m---------------------------------------------------------------------------\u001b[0m",
      "\u001b[0;31mTypeError\u001b[0m                                 Traceback (most recent call last)",
      "\u001b[1;32m/Users/lunaiwazaki/iwazaki/_notebooks/2023-03-13-AP-unit2-4a.ipynb Cell 4\u001b[0m in \u001b[0;36m<cell line: 8>\u001b[0;34m()\u001b[0m\n\u001b[1;32m      <a href='vscode-notebook-cell:/Users/lunaiwazaki/iwazaki/_notebooks/2023-03-13-AP-unit2-4a.ipynb#W3sZmlsZQ%3D%3D?line=2'>3</a>\u001b[0m \u001b[39m\"\"\"\u001b[39;00m\n\u001b[1;32m      <a href='vscode-notebook-cell:/Users/lunaiwazaki/iwazaki/_notebooks/2023-03-13-AP-unit2-4a.ipynb#W3sZmlsZQ%3D%3D?line=3'>4</a>\u001b[0m \u001b[39mThese imports define the key objects\u001b[39;00m\n\u001b[1;32m      <a href='vscode-notebook-cell:/Users/lunaiwazaki/iwazaki/_notebooks/2023-03-13-AP-unit2-4a.ipynb#W3sZmlsZQ%3D%3D?line=4'>5</a>\u001b[0m \u001b[39m\"\"\"\u001b[39;00m\n\u001b[1;32m      <a href='vscode-notebook-cell:/Users/lunaiwazaki/iwazaki/_notebooks/2023-03-13-AP-unit2-4a.ipynb#W3sZmlsZQ%3D%3D?line=6'>7</a>\u001b[0m \u001b[39mfrom\u001b[39;00m \u001b[39mflask\u001b[39;00m \u001b[39mimport\u001b[39;00m Flask\n\u001b[0;32m----> <a href='vscode-notebook-cell:/Users/lunaiwazaki/iwazaki/_notebooks/2023-03-13-AP-unit2-4a.ipynb#W3sZmlsZQ%3D%3D?line=7'>8</a>\u001b[0m \u001b[39mfrom\u001b[39;00m \u001b[39mflask_sqlalchemy\u001b[39;00m \u001b[39mimport\u001b[39;00m SQLAlchemy\n\u001b[1;32m     <a href='vscode-notebook-cell:/Users/lunaiwazaki/iwazaki/_notebooks/2023-03-13-AP-unit2-4a.ipynb#W3sZmlsZQ%3D%3D?line=9'>10</a>\u001b[0m \u001b[39m\"\"\"\u001b[39;00m\n\u001b[1;32m     <a href='vscode-notebook-cell:/Users/lunaiwazaki/iwazaki/_notebooks/2023-03-13-AP-unit2-4a.ipynb#W3sZmlsZQ%3D%3D?line=10'>11</a>\u001b[0m \u001b[39mThese object and definitions are used throughout the Jupyter Notebook.\u001b[39;00m\n\u001b[1;32m     <a href='vscode-notebook-cell:/Users/lunaiwazaki/iwazaki/_notebooks/2023-03-13-AP-unit2-4a.ipynb#W3sZmlsZQ%3D%3D?line=11'>12</a>\u001b[0m \u001b[39m\"\"\"\u001b[39;00m\n\u001b[1;32m     <a href='vscode-notebook-cell:/Users/lunaiwazaki/iwazaki/_notebooks/2023-03-13-AP-unit2-4a.ipynb#W3sZmlsZQ%3D%3D?line=12'>13</a>\u001b[0m \u001b[39m# app and db were used throughout the year\u001b[39;00m\n\u001b[1;32m     <a href='vscode-notebook-cell:/Users/lunaiwazaki/iwazaki/_notebooks/2023-03-13-AP-unit2-4a.ipynb#W3sZmlsZQ%3D%3D?line=13'>14</a>\u001b[0m \u001b[39m# Setup of key Flask object (app)\u001b[39;00m\n",
      "File \u001b[0;32m~/opt/anaconda3/lib/python3.9/site-packages/flask_sqlalchemy/__init__.py:5\u001b[0m, in \u001b[0;36m<module>\u001b[0;34m\u001b[0m\n\u001b[1;32m      1\u001b[0m \u001b[39mfrom\u001b[39;00m \u001b[39m__future__\u001b[39;00m \u001b[39mimport\u001b[39;00m annotations\n\u001b[1;32m      3\u001b[0m \u001b[39mimport\u001b[39;00m \u001b[39mtyping\u001b[39;00m \u001b[39mas\u001b[39;00m \u001b[39mt\u001b[39;00m\n\u001b[0;32m----> 5\u001b[0m \u001b[39mfrom\u001b[39;00m \u001b[39m.\u001b[39;00m\u001b[39mextension\u001b[39;00m \u001b[39mimport\u001b[39;00m SQLAlchemy\n\u001b[1;32m      7\u001b[0m __version__ \u001b[39m=\u001b[39m \u001b[39m\"\u001b[39m\u001b[39m3.0.3\u001b[39m\u001b[39m\"\u001b[39m\n\u001b[1;32m      9\u001b[0m __all__ \u001b[39m=\u001b[39m [\n\u001b[1;32m     10\u001b[0m     \u001b[39m\"\u001b[39m\u001b[39mSQLAlchemy\u001b[39m\u001b[39m\"\u001b[39m,\n\u001b[1;32m     11\u001b[0m ]\n",
      "File \u001b[0;32m~/opt/anaconda3/lib/python3.9/site-packages/flask_sqlalchemy/extension.py:10\u001b[0m, in \u001b[0;36m<module>\u001b[0;34m\u001b[0m\n\u001b[1;32m      8\u001b[0m \u001b[39mimport\u001b[39;00m \u001b[39msqlalchemy\u001b[39;00m\u001b[39m.\u001b[39;00m\u001b[39mevent\u001b[39;00m\n\u001b[1;32m      9\u001b[0m \u001b[39mimport\u001b[39;00m \u001b[39msqlalchemy\u001b[39;00m\u001b[39m.\u001b[39;00m\u001b[39mexc\u001b[39;00m\n\u001b[0;32m---> 10\u001b[0m \u001b[39mimport\u001b[39;00m \u001b[39msqlalchemy\u001b[39;00m\u001b[39m.\u001b[39;00m\u001b[39morm\u001b[39;00m\n\u001b[1;32m     11\u001b[0m \u001b[39mfrom\u001b[39;00m \u001b[39mflask\u001b[39;00m \u001b[39mimport\u001b[39;00m abort\n\u001b[1;32m     12\u001b[0m \u001b[39mfrom\u001b[39;00m \u001b[39mflask\u001b[39;00m \u001b[39mimport\u001b[39;00m current_app\n",
      "File \u001b[0;32m~/opt/anaconda3/lib/python3.9/site-packages/sqlalchemy/orm/__init__.py:56\u001b[0m, in \u001b[0;36m<module>\u001b[0;34m\u001b[0m\n\u001b[1;32m     54\u001b[0m \u001b[39mfrom\u001b[39;00m \u001b[39m.\u001b[39;00m\u001b[39mcontext\u001b[39;00m \u001b[39mimport\u001b[39;00m FromStatement \u001b[39mas\u001b[39;00m FromStatement\n\u001b[1;32m     55\u001b[0m \u001b[39mfrom\u001b[39;00m \u001b[39m.\u001b[39;00m\u001b[39mcontext\u001b[39;00m \u001b[39mimport\u001b[39;00m QueryContext \u001b[39mas\u001b[39;00m QueryContext\n\u001b[0;32m---> 56\u001b[0m \u001b[39mfrom\u001b[39;00m \u001b[39m.\u001b[39;00m\u001b[39mdecl_api\u001b[39;00m \u001b[39mimport\u001b[39;00m add_mapped_attribute \u001b[39mas\u001b[39;00m add_mapped_attribute\n\u001b[1;32m     57\u001b[0m \u001b[39mfrom\u001b[39;00m \u001b[39m.\u001b[39;00m\u001b[39mdecl_api\u001b[39;00m \u001b[39mimport\u001b[39;00m as_declarative \u001b[39mas\u001b[39;00m as_declarative\n\u001b[1;32m     58\u001b[0m \u001b[39mfrom\u001b[39;00m \u001b[39m.\u001b[39;00m\u001b[39mdecl_api\u001b[39;00m \u001b[39mimport\u001b[39;00m declarative_base \u001b[39mas\u001b[39;00m declarative_base\n",
      "File \u001b[0;32m~/opt/anaconda3/lib/python3.9/site-packages/sqlalchemy/orm/decl_api.py:151\u001b[0m, in \u001b[0;36m<module>\u001b[0;34m\u001b[0m\n\u001b[1;32m    141\u001b[0m \u001b[39mclass\u001b[39;00m \u001b[39mDeclarativeAttributeIntercept\u001b[39;00m(\n\u001b[1;32m    142\u001b[0m     _DynamicAttributesType, inspection\u001b[39m.\u001b[39mInspectable[Mapper[Any]]\n\u001b[1;32m    143\u001b[0m ):\n\u001b[1;32m    144\u001b[0m     \u001b[39m\"\"\"Metaclass that may be used in conjunction with the\u001b[39;00m\n\u001b[1;32m    145\u001b[0m \u001b[39m    :class:`_orm.DeclarativeBase` class to support addition of class\u001b[39;00m\n\u001b[1;32m    146\u001b[0m \u001b[39m    attributes dynamically.\u001b[39;00m\n\u001b[1;32m    147\u001b[0m \n\u001b[1;32m    148\u001b[0m \u001b[39m    \"\"\"\u001b[39;00m\n\u001b[0;32m--> 151\u001b[0m \u001b[39m@compat_typing\u001b[39m\u001b[39m.\u001b[39;49mdataclass_transform(\n\u001b[1;32m    152\u001b[0m     field_specifiers\u001b[39m=\u001b[39;49m(\n\u001b[1;32m    153\u001b[0m         MappedColumn,\n\u001b[1;32m    154\u001b[0m         RelationshipProperty,\n\u001b[1;32m    155\u001b[0m         Composite,\n\u001b[1;32m    156\u001b[0m         ColumnProperty,\n\u001b[1;32m    157\u001b[0m         Synonym,\n\u001b[1;32m    158\u001b[0m         mapped_column,\n\u001b[1;32m    159\u001b[0m         relationship,\n\u001b[1;32m    160\u001b[0m         composite,\n\u001b[1;32m    161\u001b[0m         column_property,\n\u001b[1;32m    162\u001b[0m         synonym,\n\u001b[1;32m    163\u001b[0m         deferred,\n\u001b[1;32m    164\u001b[0m         query_expression,\n\u001b[1;32m    165\u001b[0m     ),\n\u001b[1;32m    166\u001b[0m )\n\u001b[1;32m    167\u001b[0m \u001b[39mclass\u001b[39;00m \u001b[39mDCTransformDeclarative\u001b[39;00m(DeclarativeAttributeIntercept):\n\u001b[1;32m    168\u001b[0m     \u001b[39m\"\"\"metaclass that includes @dataclass_transforms\"\"\"\u001b[39;00m\n\u001b[1;32m    171\u001b[0m \u001b[39mclass\u001b[39;00m \u001b[39mDeclarativeMeta\u001b[39;00m(\n\u001b[1;32m    172\u001b[0m     _DynamicAttributesType, inspection\u001b[39m.\u001b[39mInspectable[Mapper[Any]]\n\u001b[1;32m    173\u001b[0m ):\n",
      "\u001b[0;31mTypeError\u001b[0m: dataclass_transform() got an unexpected keyword argument 'field_specifiers'"
     ]
    }
   ],
   "source": [
    "# debug : the app configs\n",
    "# see the info on the configs because the data is translated, app is assigned the attributes... called setters\n",
    "\"\"\"\n",
    "These imports define the key objects\n",
    "\"\"\"\n",
    "\n",
    "from flask import Flask\n",
    "from flask_sqlalchemy import SQLAlchemy\n",
    "\n",
    "\"\"\"\n",
    "These object and definitions are used throughout the Jupyter Notebook.\n",
    "\"\"\"\n",
    "# app and db were used throughout the year\n",
    "# Setup of key Flask object (app)\n",
    "app = Flask(__name__)\n",
    "# Setup SQLAlchemy object and properties for the database (db)\n",
    "database = 'sqlite:///files/sqlite.db'  # path and filename of database\n",
    "app.config['SQLALCHEMY_TRACK_MODIFICATIONS'] = False\n",
    "app.config['SQLALCHEMY_DATABASE_URI'] = database\n",
    "app.config['SECRET_KEY'] = 'SECRET_KEY'\n",
    "# made a db and got it started\n",
    "db = SQLAlchemy() \n",
    "\n",
    "# break point mean wan to examine the things above which have already happened\n",
    "# This belongs in place where it runs once per project\n",
    "db.init_app(app)\n"
   ]
  },
  {
   "attachments": {},
   "cell_type": "markdown",
   "metadata": {},
   "source": [
    "## Model Definition\n",
    "> Define columns, initialization, and CRUD methods for users table in sqlite.db\n",
    "\n",
    "- Comment on these items in the class\n",
    "- class User purpose\n",
    "- db.Model inheritance\n",
    "- _init_ method\n",
    "- @property, @<column>.setter\n",
    "- additional methods"
   ]
  },
  {
   "cell_type": "code",
   "execution_count": null,
   "metadata": {},
   "outputs": [
    {
     "ename": "ModuleNotFoundError",
     "evalue": "No module named 'sqlalchemy'",
     "output_type": "error",
     "traceback": [
      "\u001b[0;31m---------------------------------------------------------------------------\u001b[0m",
      "\u001b[0;31mModuleNotFoundError\u001b[0m                       Traceback (most recent call last)",
      "Cell \u001b[0;32mIn[1], line 6\u001b[0m\n\u001b[1;32m      3\u001b[0m \u001b[39mfrom\u001b[39;00m \u001b[39mdatetime\u001b[39;00m \u001b[39mimport\u001b[39;00m datetime\n\u001b[1;32m      4\u001b[0m \u001b[39mimport\u001b[39;00m \u001b[39mjson\u001b[39;00m\n\u001b[0;32m----> 6\u001b[0m \u001b[39mfrom\u001b[39;00m \u001b[39msqlalchemy\u001b[39;00m\u001b[39m.\u001b[39;00m\u001b[39mexc\u001b[39;00m \u001b[39mimport\u001b[39;00m IntegrityError\n\u001b[1;32m      7\u001b[0m \u001b[39mfrom\u001b[39;00m \u001b[39mwerkzeug\u001b[39;00m\u001b[39m.\u001b[39;00m\u001b[39msecurity\u001b[39;00m \u001b[39mimport\u001b[39;00m generate_password_hash, check_password_hash\n\u001b[1;32m     10\u001b[0m \u001b[39m''' Tutorial: https://www.sqlalchemy.org/library.html#tutorials, try to get into a Python shell and follow along '''\u001b[39;00m\n",
      "\u001b[0;31mModuleNotFoundError\u001b[0m: No module named 'sqlalchemy'"
     ]
    }
   ],
   "source": [
    "\"\"\" database dependencies to support sqlite examples \"\"\"\n",
    "import datetime\n",
    "from datetime import datetime\n",
    "import json\n",
    "\n",
    "from sqlalchemy.exc import IntegrityError\n",
    "from werkzeug.security import generate_password_hash, check_password_hash\n",
    "\n",
    "\n",
    "''' Tutorial: https://www.sqlalchemy.org/library.html#tutorials, try to get into a Python shell and follow along '''\n",
    "\n",
    "# Define the User class to manage actions in the 'users' table\n",
    "# -- Object Relational Mapping (ORM) is the key concept of SQLAlchemy\n",
    "# -- a.) db.Model is like an inner layer of the onion in ORM\n",
    "# -- b.) User represents data we want to store, something that is built on db.Model\n",
    "# -- c.) SQLAlchemy ORM is layer on top of SQLAlchemy Core, then SQLAlchemy engine, SQL\n",
    "\n",
    "\n",
    "\n",
    "class User(db.Model):\n",
    "    #class user - defining the template for users, is a class definition template, use this temp to create objects of type user. When see this code it doesn't do anything right away. Use it later to create objects.\n",
    "    #need user template because we have different users, class is a template for a future object\n",
    "    # the User() is called inheritence, inherit the cabability for the class to use database properties attributs and methods. Making the user class do that and inherit all properties\n",
    "    __tablename__ = 'users'  # table name is plural, class name is singular\n",
    "\n",
    "#init method is used to help extensiate(make, create, derive an object from out class) an object from our user class\n",
    "    # Define the User schema with \"vars\" from object\n",
    "    id = db.Column(db.Integer, primary_key=True) \n",
    "    _name = db.Column(db.String(255), unique=False, nullable=False)\n",
    "    _uid = db.Column(db.String(255), unique=True, nullable=False)\n",
    "    _password = db.Column(db.String(255), unique=False, nullable=False)\n",
    "    _dob = db.Column(db.Date)\n",
    "\n",
    "    # constructor of a User object, initializes the instance variables within object (self)\n",
    "    def __init__(self, name, uid, password=\"123qwerty\", dob=datetime.today()):\n",
    "        self._name = name    # variables with self prefix become part of the object, \n",
    "        self._uid = uid\n",
    "        self.set_password(password)\n",
    "        if isinstance(dob, str):  # not a date type     \n",
    "            dob = date=datetime.today()\n",
    "        self._dob = dob\n",
    "\n",
    "    # a name getter method, extracts name from object\n",
    "    @property\n",
    "    def name(self):\n",
    "        return self._name\n",
    "    \n",
    "    # a setter function, allows name to be updated after initial object creation\n",
    "    # - setters enable us to change the dTA OR INFORMATION\n",
    "    # getters - enable to retreive data out of the inoformation\n",
    "    @name.setter\n",
    "    def name(self, name):\n",
    "        self._name = name\n",
    "    \n",
    "    # a getter method, extracts email from object\n",
    "    @property\n",
    "    def uid(self):\n",
    "        return self._uid\n",
    "    \n",
    "    # a setter function, allows name to be updated after initial object creation\n",
    "    @uid.setter\n",
    "    def uid(self, uid):\n",
    "        self._uid = uid\n",
    "        \n",
    "    # check if uid parameter matches user id in object, return boolean\n",
    "    def is_uid(self, uid):\n",
    "        return self._uid == uid\n",
    "    \n",
    "    @property\n",
    "    def password(self):\n",
    "        return self._password[0:10] + \"...\" # because of security only show 1st characters\n",
    "\n",
    "    # update password, this is conventional setter\n",
    "    def set_password(self, password):\n",
    "        \"\"\"Create a hashed password.\"\"\"\n",
    "        self._password = generate_password_hash(password, method='sha256')\n",
    "\n",
    "    # check password parameter versus stored/encrypted password\n",
    "    def is_password(self, password):\n",
    "        \"\"\"Check against hashed password.\"\"\"\n",
    "        result = check_password_hash(self._password, password)\n",
    "        return result\n",
    "    \n",
    "    # dob property is returned as string, to avoid unfriendly outcomes\n",
    "    @property\n",
    "    def dob(self):\n",
    "        dob_string = self._dob.strftime('%m-%d-%Y')\n",
    "        return dob_string\n",
    "    \n",
    "    # dob should be have verification for type date\n",
    "    @dob.setter\n",
    "    def dob(self, dob):\n",
    "        if isinstance(dob, str):  # not a date type     \n",
    "            dob = date=datetime.today()\n",
    "        self._dob = dob\n",
    "    \n",
    "    @property\n",
    "    def age(self):\n",
    "        today = datetime.today()\n",
    "        return today.year - self._dob.year - ((today.month, today.day) < (self._dob.month, self._dob.day))\n",
    "    \n",
    "    # output content using str(object) in human readable form, uses getter\n",
    "    # output content using json dumps, this is ready for API response\n",
    "    def __str__(self):\n",
    "        return json.dumps(self.read())\n",
    "\n",
    "    # CRUD create/add a new record to the table\n",
    "    # returns self or None on error\n",
    "    def create(self):\n",
    "        try:\n",
    "            # creates a person object from User(db.Model) class, passes initializers\n",
    "            db.session.add(self)  # add prepares to persist person object to Users table\n",
    "            db.session.commit()  # SqlAlchemy \"unit of work pattern\" requires a manual commit\n",
    "            return self\n",
    "        except IntegrityError:\n",
    "            db.session.remove()\n",
    "            return None\n",
    "\n",
    "# in class not only is there attributes there are also methods\n",
    "    # CRUD read converts self to dictionary\n",
    "    # returns dictionary\n",
    "    def read(self):\n",
    "        return {\n",
    "            \"id\": self.id,\n",
    "            \"name\": self.name,\n",
    "            \"uid\": self.uid,\n",
    "            \"dob\": self.dob,\n",
    "            \"age\": self.age,\n",
    "        }\n",
    "\n",
    "    # CRUD update: updates user name, password, phone\n",
    "    # returns self\n",
    "    def update(self, name=\"\", uid=\"\", password=\"\"):\n",
    "        \"\"\"only updates values with length\"\"\"\n",
    "        if len(name) > 0:\n",
    "            self.name = name\n",
    "        if len(uid) > 0:\n",
    "            self.uid = uid\n",
    "        if len(password) > 0:\n",
    "            self.set_password(password)\n",
    "        db.session.commit()\n",
    "        return self\n",
    "\n",
    "    # CRUD delete: remove self\n",
    "    # None\n",
    "    def delete(self):\n",
    "        db.session.delete(self)\n",
    "        db.session.commit()\n",
    "        return None\n",
    "    "
   ]
  },
  {
   "attachments": {},
   "cell_type": "markdown",
   "metadata": {},
   "source": [
    "## Initial Data\n",
    "> Uses SQLALchemy db.create_all() to initialize rows into sqlite.db\n",
    "\n",
    "- Comment on how these work?\n",
    "1. Create All Tables from db Object\n",
    "2. User Object Constructors\n",
    "3. Try / Except \n"
   ]
  },
  {
   "cell_type": "code",
   "execution_count": null,
   "metadata": {},
   "outputs": [
    {
     "ename": "NameError",
     "evalue": "name 'app' is not defined",
     "output_type": "error",
     "traceback": [
      "\u001b[0;31m---------------------------------------------------------------------------\u001b[0m",
      "\u001b[0;31mNameError\u001b[0m                                 Traceback (most recent call last)",
      "Cell \u001b[0;32mIn[3], line 30\u001b[0m\n\u001b[1;32m     27\u001b[0m \u001b[39m                \u001b[39m\u001b[39m'''fails with bad or duplicate data'''\u001b[39;00m\n\u001b[1;32m     28\u001b[0m                 \u001b[39mprint\u001b[39m(\u001b[39mf\u001b[39m\u001b[39m\"\u001b[39m\u001b[39mRecords exist uid \u001b[39m\u001b[39m{\u001b[39;00muser\u001b[39m.\u001b[39muid\u001b[39m}\u001b[39;00m\u001b[39m, or error.\u001b[39m\u001b[39m\"\u001b[39m)\n\u001b[0;32m---> 30\u001b[0m initUsers()\n",
      "Cell \u001b[0;32mIn[3], line 6\u001b[0m, in \u001b[0;36minitUsers\u001b[0;34m()\u001b[0m\n\u001b[1;32m      5\u001b[0m \u001b[39mdef\u001b[39;00m \u001b[39minitUsers\u001b[39m():\n\u001b[0;32m----> 6\u001b[0m     \u001b[39mwith\u001b[39;00m app\u001b[39m.\u001b[39mapp_context():\n\u001b[1;32m      7\u001b[0m \u001b[39m        \u001b[39m\u001b[39m\"\"\"Create database and tables\"\"\"\u001b[39;00m\n\u001b[1;32m      8\u001b[0m         db\u001b[39m.\u001b[39mcreate_all()\n",
      "\u001b[0;31mNameError\u001b[0m: name 'app' is not defined"
     ]
    }
   ],
   "source": [
    "\"\"\"Database Creation and Testing \"\"\"\n",
    "\n",
    "\n",
    "# Builds working data for testing\n",
    "def initUsers():\n",
    "    with app.app_context():\n",
    "        \"\"\"Create database and tables\"\"\"\n",
    "        db.create_all()\n",
    "        \"\"\"Tester data for table\"\"\"\n",
    "        u1 = User(name='Thomas Edison', uid='toby', password='123toby', dob=date(1847, 2, 11))\n",
    "        u2 = User(name='Nikola Tesla', uid='niko', password='123niko')\n",
    "        u3 = User(name='Alexander Graham Bell', uid='lex', password='123lex')\n",
    "        u4 = User(name='Eli Whitney', uid='whit', password='123whit')\n",
    "        u5 = User(name='Indiana Jones', uid='indi', dob=datetime(1920, 10, 21))\n",
    "        u6 = User(name='Marion Ravenwood', uid='raven', dob=datetime(1921, 10, 21))\n",
    "\n",
    "\n",
    "        users = [u1, u2, u3, u4, u5, u6]\n",
    "\n",
    "        \"\"\"Builds sample user/note(s) data\"\"\"\n",
    "        for user in users:\n",
    "            try:\n",
    "                '''add user to table'''\n",
    "                object = user.create()\n",
    "                print(f\"Created new uid {object.uid}\")\n",
    "            except:  # error raised if object nit created\n",
    "                '''fails with bad or duplicate data'''\n",
    "                print(f\"Records exist uid {user.uid}, or error.\")\n",
    "                \n",
    "initUsers()"
   ]
  },
  {
   "attachments": {},
   "cell_type": "markdown",
   "metadata": {},
   "source": [
    "## Check for given Credentials in users table in sqlite.db\n",
    "> Use of ORM Query object and custom methods to identify user to credentials uid and password\n",
    "\n",
    "- Comment on purpose of following\n",
    "1. User.query.filter_by\n",
    "2. user.password"
   ]
  },
  {
   "cell_type": "code",
   "execution_count": null,
   "metadata": {},
   "outputs": [
    {
     "ename": "NameError",
     "evalue": "name 'app' is not defined",
     "output_type": "error",
     "traceback": [
      "\u001b[0;31m---------------------------------------------------------------------------\u001b[0m",
      "\u001b[0;31mNameError\u001b[0m                                 Traceback (most recent call last)",
      "Cell \u001b[0;32mIn[4], line 17\u001b[0m\n\u001b[1;32m     14\u001b[0m         \u001b[39mreturn\u001b[39;00m \u001b[39mTrue\u001b[39;00m\n\u001b[1;32m     15\u001b[0m     \u001b[39mreturn\u001b[39;00m \u001b[39mFalse\u001b[39;00m\n\u001b[0;32m---> 17\u001b[0m check_credentials(\u001b[39m\"\u001b[39;49m\u001b[39mindi\u001b[39;49m\u001b[39m\"\u001b[39;49m, \u001b[39m\"\u001b[39;49m\u001b[39m123qwerty\u001b[39;49m\u001b[39m\"\u001b[39;49m)\n",
      "Cell \u001b[0;32mIn[4], line 10\u001b[0m, in \u001b[0;36mcheck_credentials\u001b[0;34m(uid, password)\u001b[0m\n\u001b[1;32m      8\u001b[0m \u001b[39mdef\u001b[39;00m \u001b[39mcheck_credentials\u001b[39m(uid, password):\n\u001b[1;32m      9\u001b[0m     \u001b[39m# query email and return user record\u001b[39;00m\n\u001b[0;32m---> 10\u001b[0m     user \u001b[39m=\u001b[39m find_by_uid(uid)\n\u001b[1;32m     11\u001b[0m     \u001b[39mif\u001b[39;00m user \u001b[39m==\u001b[39m \u001b[39mNone\u001b[39;00m:\n\u001b[1;32m     12\u001b[0m         \u001b[39mreturn\u001b[39;00m \u001b[39mFalse\u001b[39;00m\n",
      "Cell \u001b[0;32mIn[4], line 3\u001b[0m, in \u001b[0;36mfind_by_uid\u001b[0;34m(uid)\u001b[0m\n\u001b[1;32m      2\u001b[0m \u001b[39mdef\u001b[39;00m \u001b[39mfind_by_uid\u001b[39m(uid):\n\u001b[0;32m----> 3\u001b[0m     \u001b[39mwith\u001b[39;00m app\u001b[39m.\u001b[39mapp_context():\n\u001b[1;32m      4\u001b[0m         user \u001b[39m=\u001b[39m User\u001b[39m.\u001b[39mquery\u001b[39m.\u001b[39mfilter_by(_uid\u001b[39m=\u001b[39muid)\u001b[39m.\u001b[39mfirst()\n\u001b[1;32m      5\u001b[0m     \u001b[39mreturn\u001b[39;00m user\n",
      "\u001b[0;31mNameError\u001b[0m: name 'app' is not defined"
     ]
    }
   ],
   "source": [
    "# SQLAlchemy extracts single user from database matching User ID\n",
    "def find_by_uid(uid):\n",
    "    with app.app_context():\n",
    "        user = User.query.filter_by(_uid=uid).first()\n",
    "    return user # returns user object\n",
    "\n",
    "# Check credentials by finding user and verify password\n",
    "def check_credentials(uid, password):\n",
    "    # query email and return user record\n",
    "    user = find_by_uid(uid)\n",
    "    if user == None:\n",
    "        return False\n",
    "    if (user.is_password(password)):\n",
    "        return True\n",
    "    return False\n",
    "        \n",
    "check_credentials(\"indi\", \"123qwerty\")"
   ]
  },
  {
   "attachments": {},
   "cell_type": "markdown",
   "metadata": {},
   "source": [
    "## Create a new User in table in Sqlite.db\n",
    "> Uses SQLALchemy and custom user.create() method to add row.\n",
    "\n",
    "- Comment on purpose of following\n",
    "1. user.find_by_uid() and try/except\n",
    "2. user = User(...)\n",
    "3. user.dob and try/except\n",
    "4. user.create() and try/except"
   ]
  },
  {
   "cell_type": "code",
   "execution_count": null,
   "metadata": {},
   "outputs": [
    {
     "ename": "NameError",
     "evalue": "name 'app' is not defined",
     "output_type": "error",
     "traceback": [
      "\u001b[0;31m---------------------------------------------------------------------------\u001b[0m",
      "\u001b[0;31mNameError\u001b[0m                                 Traceback (most recent call last)",
      "Cell \u001b[0;32mIn[11], line 38\u001b[0m\n\u001b[1;32m     35\u001b[0m         \u001b[39mexcept\u001b[39;00m:  \u001b[39m# error raised if object not created\u001b[39;00m\n\u001b[1;32m     36\u001b[0m             \u001b[39mprint\u001b[39m(\u001b[39m\"\u001b[39m\u001b[39mUnknown error uid \u001b[39m\u001b[39m{uid}\u001b[39;00m\u001b[39m\"\u001b[39m)\n\u001b[0;32m---> 38\u001b[0m create()\n",
      "Cell \u001b[0;32mIn[11], line 5\u001b[0m, in \u001b[0;36mcreate\u001b[0;34m()\u001b[0m\n\u001b[1;32m      2\u001b[0m \u001b[39mdef\u001b[39;00m \u001b[39mcreate\u001b[39m():\n\u001b[1;32m      3\u001b[0m     \u001b[39m# optimize user time to see if uid exists\u001b[39;00m\n\u001b[1;32m      4\u001b[0m     uid \u001b[39m=\u001b[39m \u001b[39minput\u001b[39m(\u001b[39m\"\u001b[39m\u001b[39mEnter your user id:\u001b[39m\u001b[39m\"\u001b[39m)\n\u001b[0;32m----> 5\u001b[0m     user \u001b[39m=\u001b[39m find_by_uid(uid)\n\u001b[1;32m      6\u001b[0m     \u001b[39mtry\u001b[39;00m:\n\u001b[1;32m      7\u001b[0m         \u001b[39mprint\u001b[39m(\u001b[39m\"\u001b[39m\u001b[39mFound\u001b[39m\u001b[39m\\n\u001b[39;00m\u001b[39m\"\u001b[39m, user\u001b[39m.\u001b[39mread())\n",
      "Cell \u001b[0;32mIn[10], line 3\u001b[0m, in \u001b[0;36mfind_by_uid\u001b[0;34m(uid)\u001b[0m\n\u001b[1;32m      2\u001b[0m \u001b[39mdef\u001b[39;00m \u001b[39mfind_by_uid\u001b[39m(uid):\n\u001b[0;32m----> 3\u001b[0m     \u001b[39mwith\u001b[39;00m app\u001b[39m.\u001b[39mapp_context():\n\u001b[1;32m      4\u001b[0m         user \u001b[39m=\u001b[39m User\u001b[39m.\u001b[39mquery\u001b[39m.\u001b[39mfilter_by(_uid\u001b[39m=\u001b[39muid)\u001b[39m.\u001b[39mfirst()\n\u001b[1;32m      5\u001b[0m     \u001b[39mreturn\u001b[39;00m user\n",
      "\u001b[0;31mNameError\u001b[0m: name 'app' is not defined"
     ]
    }
   ],
   "source": [
    "# Inputs, Try/Except, and SQLAlchemy work together to build a valid database object\n",
    "def create():\n",
    "    # optimize user time to see if uid exists\n",
    "    uid = input(\"Enter your user id:\")\n",
    "    user = find_by_uid(uid)\n",
    "    try:\n",
    "        print(\"Found\\n\", user.read())\n",
    "        return\n",
    "    except:\n",
    "        pass # keep going\n",
    "    \n",
    "    # request value that ensure creating valid object\n",
    "    name = input(\"Enter your name:\")\n",
    "    password = input(\"Enter your password\")\n",
    "    \n",
    "    # Initialize User object before date\n",
    "    user = User(name=name, \n",
    "                uid=uid, \n",
    "                password=password\n",
    "                )\n",
    "    \n",
    "    # create user.dob, fail with today as dob\n",
    "    dob = input(\"Enter your date of birth 'YYYY-MM-DD'\")\n",
    "    try:\n",
    "        user.dob = datetime.strptime(dob, '%Y-%m-%d').date()\n",
    "    except ValueError:\n",
    "        user.dob = datetime.today()\n",
    "        print(f\"Invalid date {dob} require YYYY-mm-dd, date defaulted to {user.dbo}\")\n",
    "           \n",
    "    # write object to database\n",
    "    with app.app_context():\n",
    "        try:\n",
    "            object = user.create()\n",
    "            print(\"Created\\n\", object.read())\n",
    "        except:  # error raised if object not created\n",
    "            print(\"Unknown error uid {uid}\")\n",
    "        \n",
    "create()"
   ]
  },
  {
   "attachments": {},
   "cell_type": "markdown",
   "metadata": {},
   "source": [
    "## Reading users table in sqlite.db\n",
    "> Uses SQLALchemy query.all method to read data\n",
    "\n",
    "- Comment on purpose of following\n",
    "1. User.query.all\n",
    "2. json_ready assignment"
   ]
  },
  {
   "cell_type": "code",
   "execution_count": null,
   "metadata": {},
   "outputs": [
    {
     "ename": "NameError",
     "evalue": "name 'app' is not defined",
     "output_type": "error",
     "traceback": [
      "\u001b[0;31m---------------------------------------------------------------------------\u001b[0m",
      "\u001b[0;31mNameError\u001b[0m                                 Traceback (most recent call last)",
      "Cell \u001b[0;32mIn[12], line 8\u001b[0m\n\u001b[1;32m      5\u001b[0m     json_ready \u001b[39m=\u001b[39m [user\u001b[39m.\u001b[39mread() \u001b[39mfor\u001b[39;00m user \u001b[39min\u001b[39;00m table] \u001b[39m# each user adds user.read() to list\u001b[39;00m\n\u001b[1;32m      6\u001b[0m     \u001b[39mreturn\u001b[39;00m json_ready\n\u001b[0;32m----> 8\u001b[0m read()\n",
      "Cell \u001b[0;32mIn[12], line 3\u001b[0m, in \u001b[0;36mread\u001b[0;34m()\u001b[0m\n\u001b[1;32m      2\u001b[0m \u001b[39mdef\u001b[39;00m \u001b[39mread\u001b[39m():\n\u001b[0;32m----> 3\u001b[0m     \u001b[39mwith\u001b[39;00m app\u001b[39m.\u001b[39mapp_context():\n\u001b[1;32m      4\u001b[0m         table \u001b[39m=\u001b[39m User\u001b[39m.\u001b[39mquery\u001b[39m.\u001b[39mall()\n\u001b[1;32m      5\u001b[0m     json_ready \u001b[39m=\u001b[39m [user\u001b[39m.\u001b[39mread() \u001b[39mfor\u001b[39;00m user \u001b[39min\u001b[39;00m table] \u001b[39m# each user adds user.read() to list\u001b[39;00m\n",
      "\u001b[0;31mNameError\u001b[0m: name 'app' is not defined"
     ]
    }
   ],
   "source": [
    "\n",
    "# SQLAlchemy extracts all users from database, turns each user into JSON\n",
    "def read():\n",
    "    with app.app_context():\n",
    "        table = User.query.all()\n",
    "    json_ready = [user.read() for user in table] # each user adds user.read() to list\n",
    "    return json_ready\n",
    "\n",
    "read()"
   ]
  },
  {
   "attachments": {},
   "cell_type": "markdown",
   "metadata": {},
   "source": [
    "# Hacks\n",
    "- Add this Blog to you own Blogging site.  In the Blog add notes and observations on each code cell.\n",
    "- Add Update functionality to this blog.\n",
    "- Add Delete functionality to this blog."
   ]
  }
 ],
 "metadata": {
  "kernelspec": {
   "display_name": "base",
   "language": "python",
   "name": "python3"
  },
  "language_info": {
   "codemirror_mode": {
    "name": "ipython",
    "version": 3
   },
   "file_extension": ".py",
   "mimetype": "text/x-python",
   "name": "python",
   "nbconvert_exporter": "python",
   "pygments_lexer": "ipython3",
   "version": "3.9.12"
  },
  "orig_nbformat": 4,
  "vscode": {
   "interpreter": {
    "hash": "8b82d5009c68ba5675978267e2b13a671f2a7143d61273c5a3813c97e0b2493d"
   }
  }
 },
 "nbformat": 4,
 "nbformat_minor": 2
}
