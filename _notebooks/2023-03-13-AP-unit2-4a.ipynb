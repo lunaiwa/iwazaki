{
 "cells": [
  {
   "attachments": {},
   "cell_type": "markdown",
   "metadata": {},
   "source": [
    "#  Unit 2.4a Using Programs with Data, SQLAlchemy\n",
    "> Using Programs with Data is focused on SQL and database actions.  Part A focuses on SQLAlchemy and an OOP programming style,\n",
    "- toc: true\n",
    "- image: /images/python.png\n",
    "- categories: []\n",
    "- type: ap\n",
    "- week: 26"
   ]
  },
  {
   "attachments": {},
   "cell_type": "markdown",
   "metadata": {},
   "source": [
    "# Database and SQLAlchemy\n",
    "> In this blog we will explore using programs with data, focused on Databases.  We will use SQLite Database to learn more about using Programs with Data.\n",
    "\n",
    "**Focus on objects and objects as being data**\n",
    "\n",
    "- College Board talks about ideas like \n",
    "    - Program Usage. \"iterative and interactive way when processing information\"\n",
    "    - Managing Data.  \"classifying data are part of the process in using programs\", \"data files in a Table\"\n",
    "    - Insight \"insight and knowledge can be obtained from ...  digitally represented information\"\n",
    "    - Filter systems. 'tools for finding information and recognizing patterns\"\n",
    "    - Application. \"the preserve has two databases\", \"an employee wants to count the number of book\"\n",
    "\n",
    "- PBL, Databases, Iterative/OOP\n",
    "    - Iterative. Refers to a sequence of instructions or code being repeated until a specific end result is achieved\n",
    "    - OOP. A computer programming model that organizes software design around data, or objects, rather than functions and logic\n",
    "    - SQL. Structured Query Language, abbreviated as SQL, is a language used in programming, managing, and structuring data \n"
   ]
  },
  {
   "attachments": {},
   "cell_type": "markdown",
   "metadata": {},
   "source": [
    "## Imports and Flask Objects\n",
    "> Defines and key object creations\n",
    "\n",
    "- Comment on where you have observed these working?\n",
    "1. Flask app object\n",
    "2. SQLAlchemy object\n"
   ]
  },
  {
   "cell_type": "code",
   "execution_count": 83,
   "metadata": {},
   "outputs": [],
   "source": [
    "# debug : the app configs\n",
    "# see the info on the configs because the data is translated, app is assigned the attributes... called setters\n",
    "\"\"\"\n",
    "These imports define the key objects\n",
    "\"\"\"\n",
    "\n",
    "from flask import Flask\n",
    "from flask_sqlalchemy import SQLAlchemy\n",
    "\n",
    "\"\"\"\n",
    "These object and definitions are used throughout the Jupyter Notebook.\n",
    "\"\"\"\n",
    "# app and db were used throughout the year\n",
    "# Setup of key Flask object (app)\n",
    "app = Flask(__name__)\n",
    "# Setup SQLAlchemy object and properties for the database (db)\n",
    "database = 'sqlite:///sqlite.db'  # path and filename of database\n",
    "app.config['SQLALCHEMY_TRACK_MODIFICATIONS'] = False\n",
    "app.config['SQLALCHEMY_DATABASE_URI'] = database\n",
    "app.config['SECRET_KEY'] = 'SECRET_KEY'\n",
    "# made a db and got it started\n",
    "db = SQLAlchemy() \n",
    "\n",
    "# break point mean wan to examine the things above which have already happened\n",
    "# This belongs in place where it runs once per project\n",
    "db.init_app(app)\n"
   ]
  },
  {
   "attachments": {},
   "cell_type": "markdown",
   "metadata": {},
   "source": [
    "## Model Definition\n",
    "> Define columns, initialization, and CRUD methods for users table in sqlite.db\n",
    "\n",
    "- Comment on these items in the class\n",
    "- class User purpose\n",
    "- db.Model inheritance\n",
    "- _init_ method\n",
    "- @property, @<column>.setter\n",
    "- additional methods"
   ]
  },
  {
   "cell_type": "code",
   "execution_count": 84,
   "metadata": {},
   "outputs": [],
   "source": [
    "\"\"\" database dependencies to support sqlite examples \"\"\"\n",
    "import datetime\n",
    "from datetime import datetime\n",
    "import json\n",
    "\n",
    "from sqlalchemy.exc import IntegrityError\n",
    "from werkzeug.security import generate_password_hash, check_password_hash\n",
    "\n",
    "class UCar(db.Model):\n",
    "    __tablename__ = 'CarUser'  \n",
    "\n",
    "    id = db.Column(db.Integer, primary_key=True) \n",
    "    _firstname = db.Column(db.String(255), unique=False, nullable=False)\n",
    "    _lastname = db.Column(db.String(255), unique=False, nullable=False)\n",
    "    _type = db.Column(db.String(255), unique=False, nullable=False)\n",
    "    _license = db.Column(db.String(255), unique=True, nullable=False)\n",
    "    _phone = db.Column(db.String(255), unique=False, nullable=False)\n",
    "    _cpd = db.Column(db.Date)\n",
    "\n",
    "    # constructor of a User object, initializes the instance variables within object (self)\n",
    "    def __init__(self, firstname, lastname, type, license, phone=\"123qwerty\", cpd=datetime.today()):\n",
    "        self._firstname = firstname\n",
    "        self._lastname = lastname\n",
    "        self._type = type    # variables with self prefix become part of the object, \n",
    "        self._license = license\n",
    "        self.set_(phone)\n",
    "        if isinstance(cpd, str):  # not a date type     \n",
    "            cpd = date=datetime.today()\n",
    "        \n",
    "    # name of person\n",
    "    @property\n",
    "    def firstname(self):\n",
    "        return self._firstname\n",
    "\n",
    "    @firstname.setter\n",
    "    def firstname(self, firstname):\n",
    "        self._firstname = firstname\n",
    "    \n",
    "    @property\n",
    "    def lastname(self):\n",
    "        return self._lastname\n",
    "\n",
    "    @lastname.setter\n",
    "    def lastname(self, lastname):\n",
    "        self._lastname = lastname\n",
    "    \n",
    "    #type of car\n",
    "    @property\n",
    "    def type(self):\n",
    "        return self._type\n",
    "\n",
    "    @type.setter\n",
    "    def name(self, type):\n",
    "        self._type = type\n",
    "    \n",
    "    # license of car\n",
    "    @property\n",
    "    def license(self):\n",
    "        return self._license\n",
    "    \n",
    "    # a setter function (update)\n",
    "    @license.setter\n",
    "    def license(self, license):\n",
    "        self._license = license\n",
    "        \n",
    "    # return boolean\n",
    "    def is_license(self, license):\n",
    "        return self._license == license\n",
    "    \n",
    "    # phone number\n",
    "    @property\n",
    "    def phone(self):\n",
    "        return self._phone[0:10] + \"...\" \n",
    "    # show only first 3\n",
    "\n",
    "    # update password\n",
    "    def set_phone(self, phone):\n",
    "        \"\"\"Create a hashed password.\"\"\"\n",
    "        self._phone = generate_password_hash(phone, method='sha256')\n",
    "    \n",
    "    # output content using str(object) in human readable form, uses getter\n",
    "    # output content using json dumps, this is ready for API response\n",
    "    def __str__(self):\n",
    "        return json.dumps(self.read())\n",
    "\n",
    "    # CRUD create/add a new record to the table\n",
    "    # returns self or None on error\n",
    "    def create(self):\n",
    "        try:\n",
    "            # creates a person object from User(db.Model) class, passes initializers\n",
    "            db.session.add(self)  # add prepares to persist person object to Users table\n",
    "            db.session.commit()  # SqlAlchemy \"unit of work pattern\" requires a manual commit\n",
    "            return self\n",
    "        except IntegrityError:\n",
    "            db.session.remove()\n",
    "            return None\n",
    "\n",
    "# in class not only is there attributes there are also methods\n",
    "    # CRUD read converts self to dictionary\n",
    "    # returns dictionary\n",
    "    def read(self):\n",
    "        return {\n",
    "            \"id\": self.id,\n",
    "            \"first name\": self.firstname,\n",
    "            \"last name\": self.lastname,\n",
    "            \"phone number\": self.phone,\n",
    "            \"type of car\": self.type,\n",
    "            \"license\": self.license\n",
    "        }\n",
    "\n",
    "    # CRUD update: updates user name, password, phone\n",
    "    # returns self\n",
    "    def update(self, type=\"\", lastname=\"\", firstname=\"\", license=\"\", phone=\"\"):\n",
    "        \"\"\"only updates values with length\"\"\"\n",
    "        if len(lastname) > 0:\n",
    "            self.lastname = lastname\n",
    "        if len(firstname) > 0:\n",
    "            self.firstname = firstname\n",
    "        if len(license) > 0:\n",
    "            self.license = license\n",
    "        #if len(type) > 0:\n",
    "            #self.type = type\n",
    "        if len(phone) > 0:\n",
    "            self.set_phone(phone)\n",
    "        db.session.commit()\n",
    "        return self\n",
    "\n",
    "    # CRUD delete: remove self\n",
    "    # None\n",
    "    def delete(self):\n",
    "        db.session.delete(self)\n",
    "        db.session.commit()\n",
    "        return None"
   ]
  },
  {
   "attachments": {},
   "cell_type": "markdown",
   "metadata": {},
   "source": [
    "## Initial Data\n",
    "> Uses SQLALchemy db.create_all() to initialize rows into sqlite.db\n",
    "\n",
    "- Comment on how these work?\n",
    "1. Create All Tables from db Object\n",
    "2. User Object Constructors\n",
    "3. Try / Except \n"
   ]
  },
  {
   "cell_type": "code",
   "execution_count": 86,
   "metadata": {},
   "outputs": [
    {
     "ename": "AttributeError",
     "evalue": "'UCar' object has no attribute 'set_'",
     "output_type": "error",
     "traceback": [
      "\u001b[0;31m---------------------------------------------------------------------------\u001b[0m",
      "\u001b[0;31mAttributeError\u001b[0m                            Traceback (most recent call last)",
      "Cell \u001b[0;32mIn[86], line 22\u001b[0m\n\u001b[1;32m     19\u001b[0m                 \u001b[39m'''fails with bad or duplicate data'''\u001b[39;00m\n\u001b[1;32m     20\u001b[0m                 \u001b[39mprint\u001b[39m(\u001b[39mf\u001b[39m\u001b[39m\"\u001b[39m\u001b[39mRecords exist duplicate \u001b[39m\u001b[39m{\u001b[39;00mC\u001b[39m.\u001b[39mCar\u001b[39m}\u001b[39;00m\u001b[39m.\u001b[39m\u001b[39m\"\u001b[39m)\n\u001b[0;32m---> 22\u001b[0m initCarUser()\n",
      "Cell \u001b[0;32mIn[86], line 7\u001b[0m, in \u001b[0;36minitCarUser\u001b[0;34m()\u001b[0m\n\u001b[1;32m      5\u001b[0m db\u001b[39m.\u001b[39mcreate_all()\n\u001b[1;32m      6\u001b[0m \u001b[39m\"\"\"Tester data for table\"\"\"\u001b[39;00m\n\u001b[0;32m----> 7\u001b[0m C1 \u001b[39m=\u001b[39m UCar(firstname\u001b[39m=\u001b[39;49m\u001b[39m'\u001b[39;49m\u001b[39mBob\u001b[39;49m\u001b[39m'\u001b[39;49m, lastname\u001b[39m=\u001b[39;49m\u001b[39m'\u001b[39;49m\u001b[39mEdison\u001b[39;49m\u001b[39m'\u001b[39;49m, phone\u001b[39m=\u001b[39;49m\u001b[39m'\u001b[39;49m\u001b[39m1232133724\u001b[39;49m\u001b[39m'\u001b[39;49m, \u001b[39mtype\u001b[39;49m\u001b[39m=\u001b[39;49m\u001b[39m'\u001b[39;49m\u001b[39mminivan\u001b[39;49m\u001b[39m'\u001b[39;49m, license\u001b[39m=\u001b[39;49m\u001b[39m'\u001b[39;49m\u001b[39m123456\u001b[39;49m\u001b[39m'\u001b[39;49m)\n\u001b[1;32m      8\u001b[0m C2 \u001b[39m=\u001b[39m UCar(firstname\u001b[39m=\u001b[39m\u001b[39m'\u001b[39m\u001b[39mAdam\u001b[39m\u001b[39m'\u001b[39m, lastname\u001b[39m=\u001b[39m\u001b[39m'\u001b[39m\u001b[39mAdams\u001b[39m\u001b[39m'\u001b[39m, phone\u001b[39m=\u001b[39m\u001b[39m'\u001b[39m\u001b[39m1232342345\u001b[39m\u001b[39m'\u001b[39m, \u001b[39mtype\u001b[39m\u001b[39m=\u001b[39m\u001b[39m'\u001b[39m\u001b[39msubaru\u001b[39m\u001b[39m'\u001b[39m, license\u001b[39m=\u001b[39m\u001b[39m'\u001b[39m\u001b[39m039278\u001b[39m\u001b[39m'\u001b[39m)\n\u001b[1;32m      9\u001b[0m C3 \u001b[39m=\u001b[39m UCar(firstname\u001b[39m=\u001b[39m\u001b[39m'\u001b[39m\u001b[39mEmily\u001b[39m\u001b[39m'\u001b[39m, lastname\u001b[39m=\u001b[39m\u001b[39m'\u001b[39m\u001b[39mRusso\u001b[39m\u001b[39m'\u001b[39m, phone\u001b[39m=\u001b[39m\u001b[39m'\u001b[39m\u001b[39m8582343456\u001b[39m\u001b[39m'\u001b[39m, \u001b[39mtype\u001b[39m\u001b[39m=\u001b[39m\u001b[39m'\u001b[39m\u001b[39mcooper\u001b[39m\u001b[39m'\u001b[39m, license\u001b[39m=\u001b[39m\u001b[39m'\u001b[39m\u001b[39m394028\u001b[39m\u001b[39m'\u001b[39m)\n",
      "File \u001b[0;32m<string>:4\u001b[0m, in \u001b[0;36m__init__\u001b[0;34m(self, firstname, lastname, type, license, phone, cpd)\u001b[0m\n",
      "File \u001b[0;32m~/opt/anaconda3/envs/test/lib/python3.9/site-packages/sqlalchemy/orm/state.py:576\u001b[0m, in \u001b[0;36mInstanceState._initialize_instance\u001b[0;34m(*mixed, **kwargs)\u001b[0m\n\u001b[1;32m    574\u001b[0m \u001b[39mexcept\u001b[39;00m:\n\u001b[1;32m    575\u001b[0m     \u001b[39mwith\u001b[39;00m util\u001b[39m.\u001b[39msafe_reraise():\n\u001b[0;32m--> 576\u001b[0m         manager\u001b[39m.\u001b[39mdispatch\u001b[39m.\u001b[39minit_failure(\u001b[39mself\u001b[39m, args, kwargs)\n",
      "File \u001b[0;32m~/opt/anaconda3/envs/test/lib/python3.9/site-packages/sqlalchemy/util/langhelpers.py:147\u001b[0m, in \u001b[0;36msafe_reraise.__exit__\u001b[0;34m(self, type_, value, traceback)\u001b[0m\n\u001b[1;32m    145\u001b[0m     \u001b[39massert\u001b[39;00m exc_value \u001b[39mis\u001b[39;00m \u001b[39mnot\u001b[39;00m \u001b[39mNone\u001b[39;00m\n\u001b[1;32m    146\u001b[0m     \u001b[39mself\u001b[39m\u001b[39m.\u001b[39m_exc_info \u001b[39m=\u001b[39m \u001b[39mNone\u001b[39;00m  \u001b[39m# remove potential circular references\u001b[39;00m\n\u001b[0;32m--> 147\u001b[0m     \u001b[39mraise\u001b[39;00m exc_value\u001b[39m.\u001b[39mwith_traceback(exc_tb)\n\u001b[1;32m    148\u001b[0m \u001b[39melse\u001b[39;00m:\n\u001b[1;32m    149\u001b[0m     \u001b[39mself\u001b[39m\u001b[39m.\u001b[39m_exc_info \u001b[39m=\u001b[39m \u001b[39mNone\u001b[39;00m  \u001b[39m# remove potential circular references\u001b[39;00m\n",
      "File \u001b[0;32m~/opt/anaconda3/envs/test/lib/python3.9/site-packages/sqlalchemy/orm/state.py:573\u001b[0m, in \u001b[0;36mInstanceState._initialize_instance\u001b[0;34m(*mixed, **kwargs)\u001b[0m\n\u001b[1;32m    570\u001b[0m manager\u001b[39m.\u001b[39mdispatch\u001b[39m.\u001b[39minit(\u001b[39mself\u001b[39m, args, kwargs)\n\u001b[1;32m    572\u001b[0m \u001b[39mtry\u001b[39;00m:\n\u001b[0;32m--> 573\u001b[0m     manager\u001b[39m.\u001b[39;49moriginal_init(\u001b[39m*\u001b[39;49mmixed[\u001b[39m1\u001b[39;49m:], \u001b[39m*\u001b[39;49m\u001b[39m*\u001b[39;49mkwargs)\n\u001b[1;32m    574\u001b[0m \u001b[39mexcept\u001b[39;00m:\n\u001b[1;32m    575\u001b[0m     \u001b[39mwith\u001b[39;00m util\u001b[39m.\u001b[39msafe_reraise():\n",
      "Cell \u001b[0;32mIn[84], line 26\u001b[0m, in \u001b[0;36mUCar.__init__\u001b[0;34m(self, firstname, lastname, type, license, phone, cpd)\u001b[0m\n\u001b[1;32m     24\u001b[0m \u001b[39mself\u001b[39m\u001b[39m.\u001b[39m_type \u001b[39m=\u001b[39m \u001b[39mtype\u001b[39m    \u001b[39m# variables with self prefix become part of the object, \u001b[39;00m\n\u001b[1;32m     25\u001b[0m \u001b[39mself\u001b[39m\u001b[39m.\u001b[39m_license \u001b[39m=\u001b[39m license\n\u001b[0;32m---> 26\u001b[0m \u001b[39mself\u001b[39;49m\u001b[39m.\u001b[39;49mset_(phone)\n\u001b[1;32m     27\u001b[0m \u001b[39mif\u001b[39;00m \u001b[39misinstance\u001b[39m(cpd, \u001b[39mstr\u001b[39m):  \u001b[39m# not a date type     \u001b[39;00m\n\u001b[1;32m     28\u001b[0m     cpd \u001b[39m=\u001b[39m date\u001b[39m=\u001b[39mdatetime\u001b[39m.\u001b[39mtoday()\n",
      "\u001b[0;31mAttributeError\u001b[0m: 'UCar' object has no attribute 'set_'"
     ]
    }
   ],
   "source": [
    "# Builds working data for testing\n",
    "def initCarUser():\n",
    "    with app.app_context():\n",
    "        \"\"\"Create database and tables\"\"\"\n",
    "        db.create_all()\n",
    "        \"\"\"Tester data for table\"\"\"\n",
    "        C1 = UCar(firstname='Bob', lastname='Edison', phone='1232133724', type='minivan', license='123456')\n",
    "        C2 = UCar(firstname='Adam', lastname='Adams', phone='1232342345', type='subaru', license='039278')\n",
    "        C3 = UCar(firstname='Emily', lastname='Russo', phone='8582343456', type='cooper', license='394028')\n",
    "        C4 = UCar(firstname='Jillian', lastname='Esa', phone='7603452904', type='van', license='473829')\n",
    "        C5 = UCar(firstname='Billy', lastname='Richards', phone='8583742049', type='sports', license='583920')\n",
    "        C6 = UCar(firstname='John', lastname='Adams', phone='7602947389', type='minivan', license='738290')\n",
    "        CUser = [C1, C2, C3, C4, C5, C6]\n",
    "        for C in CUser:\n",
    "            try:\n",
    "                object = C.create()\n",
    "                print(f\"New Data For {object.firstname}\")\n",
    "            except IntegrityError:  # error raised if object nit created\n",
    "                '''fails with bad or duplicate data'''\n",
    "                print(f\"Records exist duplicate {C.Car}.\")\n",
    "                \n",
    "initCarUser()"
   ]
  },
  {
   "attachments": {},
   "cell_type": "markdown",
   "metadata": {},
   "source": [
    "## Check for given Credentials in users table in sqlite.db\n",
    "> Use of ORM Query object and custom methods to identify user to credentials uid and password\n",
    "\n",
    "- Comment on purpose of following\n",
    "1. User.query.filter_by\n",
    "2. user.password"
   ]
  },
  {
   "cell_type": "code",
   "execution_count": 27,
   "metadata": {},
   "outputs": [
    {
     "data": {
      "text/plain": [
       "False"
      ]
     },
     "execution_count": 27,
     "metadata": {},
     "output_type": "execute_result"
    }
   ],
   "source": [
    "# SQLAlchemy extracts single user from database matching User ID\n",
    "def find_by_firstname(firstname):\n",
    "    with app.app_context():\n",
    "        car = Car.query.filter_by(_firstname=firstname).first()\n",
    "    return car # returns user object\n",
    "\n",
    "# Check credentials by finding user and verify password\n",
    "def check_credentials(firstname, phone):\n",
    "    # query email and return user record\n",
    "    car = find_by_firstname(firstname)\n",
    "    if car == None:\n",
    "        return False\n",
    "    if (car.is_phone(phone)):\n",
    "        return True\n",
    "    return False\n",
    "        \n",
    "check_credentials(\"Billy\", \"8583742049\")"
   ]
  },
  {
   "attachments": {},
   "cell_type": "markdown",
   "metadata": {},
   "source": [
    "## Create a new User in table in Sqlite.db\n",
    "> Uses SQLALchemy and custom user.create() method to add row.\n",
    "\n",
    "- Comment on purpose of following\n",
    "1. user.find_by_uid() and try/except\n",
    "2. user = User(...)\n",
    "3. user.dob and try/except\n",
    "4. user.create() and try/except"
   ]
  },
  {
   "cell_type": "code",
   "execution_count": 26,
   "metadata": {},
   "outputs": [
    {
     "ename": "NameError",
     "evalue": "name 'car' is not defined",
     "output_type": "error",
     "traceback": [
      "\u001b[0;31m---------------------------------------------------------------------------\u001b[0m",
      "\u001b[0;31mNameError\u001b[0m                                 Traceback (most recent call last)",
      "Cell \u001b[0;32mIn[26], line 34\u001b[0m\n\u001b[1;32m     31\u001b[0m         \u001b[39mexcept\u001b[39;00m:  \u001b[39m# error raised if object not created\u001b[39;00m\n\u001b[1;32m     32\u001b[0m             \u001b[39mprint\u001b[39m(\u001b[39m\"\u001b[39m\u001b[39mUnknown error license \u001b[39m\u001b[39m{license}\u001b[39;00m\u001b[39m\"\u001b[39m)\n\u001b[0;32m---> 34\u001b[0m create()\n",
      "Cell \u001b[0;32mIn[26], line 11\u001b[0m, in \u001b[0;36mcreate\u001b[0;34m()\u001b[0m\n\u001b[1;32m      8\u001b[0m phone \u001b[39m=\u001b[39m \u001b[39minput\u001b[39m(\u001b[39m\"\u001b[39m\u001b[39mEnter your phone number\u001b[39m\u001b[39m\"\u001b[39m)\n\u001b[1;32m     10\u001b[0m \u001b[39m# Initialize User object before date\u001b[39;00m\n\u001b[0;32m---> 11\u001b[0m Car \u001b[39m=\u001b[39m car(license\u001b[39m==\u001b[39mlicense, \n\u001b[1;32m     12\u001b[0m             firstname\u001b[39m=\u001b[39mfirstname, \n\u001b[1;32m     13\u001b[0m             lastname\u001b[39m=\u001b[39mlastname,\n\u001b[1;32m     14\u001b[0m             phone\u001b[39m=\u001b[39mphone,\n\u001b[1;32m     15\u001b[0m             \u001b[39mtype\u001b[39m\u001b[39m=\u001b[39m\u001b[39mtype\u001b[39m\n\u001b[1;32m     16\u001b[0m             )\n\u001b[1;32m     18\u001b[0m \u001b[39m# create user.dob, fail with today as dob\u001b[39;00m\n\u001b[1;32m     19\u001b[0m cpd \u001b[39m=\u001b[39m \u001b[39minput\u001b[39m(\u001b[39m\"\u001b[39m\u001b[39mEnter your date of birth \u001b[39m\u001b[39m'\u001b[39m\u001b[39mYYYY-MM-DD\u001b[39m\u001b[39m'\u001b[39m\u001b[39m\"\u001b[39m)\n",
      "\u001b[0;31mNameError\u001b[0m: name 'car' is not defined"
     ]
    }
   ],
   "source": [
    "# Inputs, Try/Except, and SQLAlchemy work together to build a valid database object\n",
    "def create():\n",
    "    \n",
    "    # request value that ensure creating valid object\n",
    "    firstname = input(\"Enter your first name:\")\n",
    "    lastname = input(\"Enter your last name:\")\n",
    "    type = input(\"Enter the type of your car\")\n",
    "    phone = input(\"Enter your phone number\")\n",
    "    license = input(\"Enter your car license number\")\n",
    "    \n",
    "    # Initialize User object before date\n",
    "    Car = car(license==license, \n",
    "                firstname=firstname, \n",
    "                lastname=lastname,\n",
    "                phone=phone,\n",
    "                type=type\n",
    "                )\n",
    "\n",
    "    # write object to database\n",
    "    with app.app_context():\n",
    "        try:\n",
    "            object = car.create()\n",
    "            print(\"Created\\n\", object.read())\n",
    "        except:  # error raised if object not created\n",
    "            print(\"Unknown error license {firstname}\")\n",
    "        \n",
    "create()"
   ]
  },
  {
   "attachments": {},
   "cell_type": "markdown",
   "metadata": {},
   "source": [
    "## Reading users table in sqlite.db\n",
    "> Uses SQLALchemy query.all method to read data\n",
    "\n",
    "- Comment on purpose of following\n",
    "1. User.query.all\n",
    "2. json_ready assignment"
   ]
  },
  {
   "cell_type": "code",
   "execution_count": 23,
   "metadata": {},
   "outputs": [
    {
     "data": {
      "text/plain": [
       "[]"
      ]
     },
     "execution_count": 23,
     "metadata": {},
     "output_type": "execute_result"
    }
   ],
   "source": [
    "\n",
    "# SQLAlchemy extracts all users from database, turns each user into JSON\n",
    "def read():\n",
    "    with app.app_context():\n",
    "        table = Car.query.all()\n",
    "    json_ready = [car.read() for car in table] # each user adds user.read() to list\n",
    "    return json_ready\n",
    "\n",
    "read()"
   ]
  },
  {
   "attachments": {},
   "cell_type": "markdown",
   "metadata": {},
   "source": [
    "# Hacks\n",
    "- Add this Blog to you own Blogging site.  In the Blog add notes and observations on each code cell.\n",
    "- Add Update functionality to this blog.\n",
    "- Add Delete functionality to this blog."
   ]
  },
  {
   "attachments": {},
   "cell_type": "markdown",
   "metadata": {},
   "source": [
    "### Update"
   ]
  }
 ],
 "metadata": {
  "kernelspec": {
   "display_name": "base",
   "language": "python",
   "name": "python3"
  },
  "language_info": {
   "codemirror_mode": {
    "name": "ipython",
    "version": 3
   },
   "file_extension": ".py",
   "mimetype": "text/x-python",
   "name": "python",
   "nbconvert_exporter": "python",
   "pygments_lexer": "ipython3",
   "version": "3.9.16"
  },
  "orig_nbformat": 4,
  "vscode": {
   "interpreter": {
    "hash": "8b82d5009c68ba5675978267e2b13a671f2a7143d61273c5a3813c97e0b2493d"
   }
  }
 },
 "nbformat": 4,
 "nbformat_minor": 2
}
