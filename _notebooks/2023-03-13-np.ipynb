{
 "cells": [
  {
   "attachments": {},
   "cell_type": "markdown",
   "metadata": {},
   "source": [
    "#  2.3 College Board\n",
    "> Covering the topics discussed in the quizzes and what the answers can be.\n",
    "- toc: true\n",
    "- categories: [APCSP]\n",
    "- comments: true"
   ]
  },
  {
   "cell_type": "code",
   "execution_count": 1,
   "metadata": {},
   "outputs": [],
   "source": [
    "import pandas as pd\n",
    "# always use when .json or using data"
   ]
  },
  {
   "cell_type": "code",
   "execution_count": 4,
   "metadata": {},
   "outputs": [
    {
     "name": "stdout",
     "output_type": "stream",
     "text": [
      "   Number  License Plate  Phone Number\n",
      "0       1        1234567    858.234234\n",
      "1       2        8901234    858.238346\n",
      "2       3        1234567    908.234234\n",
      "3       4        2345678    909.465728\n",
      "4       5        4567890    490.234758\n",
      "5       6        1357924    294.868329\n"
     ]
    }
   ],
   "source": [
    "df = pd.read_json('files/init.json')\n",
    "# reading\n",
    "print(df)"
   ]
  },
  {
   "cell_type": "code",
   "execution_count": 5,
   "metadata": {},
   "outputs": [
    {
     "name": "stdout",
     "output_type": "stream",
     "text": [
      "   Number\n",
      "0       1\n",
      "1       2\n",
      "2       3\n",
      "3       4\n",
      "4       5\n",
      "5       6\n",
      "\n",
      " License Plate  Phone Number\n",
      "       1234567    858.234234\n",
      "       8901234    858.238346\n",
      "       1234567    908.234234\n",
      "       2345678    909.465728\n",
      "       4567890    490.234758\n",
      "       1357924    294.868329\n"
     ]
    }
   ],
   "source": [
    "print(df[['Number']])\n",
    "\n",
    "print()\n",
    "\n",
    "#try two columns and remove the index from print statement\n",
    "print(df[['License Plate','Phone Number']].to_string(index=False))"
   ]
  },
  {
   "cell_type": "code",
   "execution_count": 6,
   "metadata": {},
   "outputs": [
    {
     "name": "stdout",
     "output_type": "stream",
     "text": [
      "   Number  License Plate  Phone Number\n",
      "0       1        1234567    858.234234\n",
      "2       3        1234567    908.234234\n",
      "5       6        1357924    294.868329\n",
      "3       4        2345678    909.465728\n",
      "4       5        4567890    490.234758\n",
      "1       2        8901234    858.238346\n",
      "\n",
      "   Number  License Plate  Phone Number\n",
      "3       4        2345678    909.465728\n",
      "2       3        1234567    908.234234\n",
      "1       2        8901234    858.238346\n",
      "0       1        1234567    858.234234\n",
      "4       5        4567890    490.234758\n",
      "5       6        1357924    294.868329\n"
     ]
    }
   ],
   "source": [
    "#sort values\n",
    "print(df.sort_values(by=['License Plate']))\n",
    "\n",
    "print()\n",
    "\n",
    "#sort the values in reverse order\n",
    "print(df.sort_values(by=['Phone Number'], ascending=False))"
   ]
  },
  {
   "cell_type": "code",
   "execution_count": 7,
   "metadata": {},
   "outputs": [
    {
     "name": "stdout",
     "output_type": "stream",
     "text": [
      "   Number  License Plate  Phone Number\n",
      "3       4        2345678    909.465728\n",
      "4       5        4567890    490.234758\n",
      "5       6        1357924    294.868329\n"
     ]
    }
   ],
   "source": [
    "#print only values with a specific criteria \n",
    "print(df[df.Number > 3.00])"
   ]
  },
  {
   "cell_type": "code",
   "execution_count": 10,
   "metadata": {},
   "outputs": [
    {
     "name": "stdout",
     "output_type": "stream",
     "text": [
      "   Number  License Plate  Phone Number\n",
      "5       6        1357924    294.868329\n",
      "\n",
      "   Number  License Plate  Phone Number\n",
      "0       1        1234567    858.234234\n"
     ]
    }
   ],
   "source": [
    "print(df[df.Number == df.Number.max()])\n",
    "print()\n",
    "print(df[df.Number == df.Number.min()])"
   ]
  }
 ],
 "metadata": {
  "kernelspec": {
   "display_name": "base",
   "language": "python",
   "name": "python3"
  },
  "language_info": {
   "codemirror_mode": {
    "name": "ipython",
    "version": 3
   },
   "file_extension": ".py",
   "mimetype": "text/x-python",
   "name": "python",
   "nbconvert_exporter": "python",
   "pygments_lexer": "ipython3",
   "version": "3.9.12"
  },
  "orig_nbformat": 4
 },
 "nbformat": 4,
 "nbformat_minor": 2
}
