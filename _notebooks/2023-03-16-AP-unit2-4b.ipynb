{
 "cells": [
  {
   "attachments": {},
   "cell_type": "markdown",
   "metadata": {},
   "source": [
    "#  Unit 2.4b Using Programs with Data, SQL\n",
    "> Using Programs with Data is focused on SQL and database actions.  Part B focuses on learning SQL commands, connections, and curses using an Imperative programming style,\n",
    "- toc: true\n",
    "- image: /images/python.png\n",
    "- categories: []\n",
    "- type: ap\n",
    "- week: 26"
   ]
  },
  {
   "attachments": {},
   "cell_type": "markdown",
   "metadata": {},
   "source": [
    "# Database Programming is Program with Data\n",
    "> The Tri 2 Final Project is an example of a Program with Data. \n",
    "\n",
    ">  Prepare to use SQLite in common Imperative Technique\n",
    "- Explore [SQLite Connect object](https://www.tutorialspoint.com/python_data_access/python_sqlite_establishing_connection.htm) to establish database connection\n",
    "- Explore [SQLite Cursor Object](https://www.tutorialspoint.com/python_data_access/python_sqlite_cursor_object.htm) to fetch data from a table within a database\n"
   ]
  },
  {
   "attachments": {},
   "cell_type": "markdown",
   "metadata": {},
   "source": [
    "## Schema of Users table in Sqlite.db\n",
    "> Uses PRAGMA statement to read schema.\n",
    "\n",
    "Describe Schema, here is resource [Resource](https://www.sqlite.org/index.html)\n",
    "- **What is a database schema?**\n",
    "- **What is the purpose of identity Column in SQL database?**\n",
    "describes the different rows and records of the data\n",
    "- **What is the purpose of a primary key in SQL database?**\n",
    "The uid is treated as the key because that is what we use as the key in coding but the primary key is id (cen be achieved by making it unique). The data base primary key is the row or record number like 012345. \n",
    "- **What are the Data Types in SQL table?**"
   ]
  },
  {
   "attachments": {},
   "cell_type": "markdown",
   "metadata": {},
   "source": [
    "1. A database schema is a blueprint or plan that outlines the structure of a database. It defines how data is organized, stored, and accessed within a database system. The schema includes a description of the tables, columns, relationships, and constraints that are used to store and manipulate data.\n",
    "\n",
    "2. An identity column is a column in a SQL database that automatically generates a unique numeric value for each new row that is inserted into the table. It is commonly used as a primary key for the table and ensures that each row has a unique identifier.\n",
    "\n",
    "3. A primary key in a SQL database is a column or set of columns that uniquely identifies each row in a table. It is used to enforce data integrity by ensuring that each row is uniquely identifiable and cannot be duplicated. The primary key is often used as a foreign key in other tables to establish relationships between data.\n",
    "\n",
    "4. SQL table data types define the type of data that can be stored in a particular column of a table. Common data types in SQL include:\n",
    "\n",
    "Integer: stores whole numbers <p>\n",
    "Float/Double: stores floating-point numbers with decimal values<p>\n",
    "Char/Varchar: stores strings of characters with a fixed or variable length<p>\n",
    "Date/Time: stores date and time values<p>\n",
    "Boolean: stores true/false values<p>\n",
    "Binary: stores binary data such as images or files."
   ]
  },
  {
   "cell_type": "code",
   "execution_count": 9,
   "metadata": {},
   "outputs": [
    {
     "name": "stdout",
     "output_type": "stream",
     "text": [
      "(0, 'id', 'INTEGER', 1, None, 1)\n",
      "(1, '_name', 'VARCHAR(255)', 1, None, 0)\n",
      "(2, '_uid', 'VARCHAR(255)', 1, None, 0)\n",
      "(3, '_password', 'VARCHAR(255)', 1, None, 0)\n",
      "(4, '_dob', 'DATE', 0, None, 0)\n"
     ]
    }
   ],
   "source": [
    "import sqlite3\n",
    "#change to database='instance/sqlite.db'\n",
    "database = 'instance/sqlite.db' # this is location of database\n",
    "\n",
    "def schema():\n",
    "    \n",
    "    # Connect to the database file\n",
    "    conn = sqlite3.connect(database)\n",
    "\n",
    "    # Create a cursor object to execute SQL queries\n",
    "    cursor = conn.cursor()\n",
    "    \n",
    "    # Fetch results of Schema\n",
    "    results = cursor.execute(\"PRAGMA table_info('users')\").fetchall()\n",
    "\n",
    "    # Print the results\n",
    "    for row in results:\n",
    "        print(row)\n",
    "# a schema is a different data base property\n",
    "    # Close the database connection\n",
    "    \n",
    "#meta data is a data that describes data\n",
    "    conn.close()\n",
    "    \n",
    "schema()"
   ]
  },
  {
   "attachments": {},
   "cell_type": "markdown",
   "metadata": {},
   "source": [
    "## Reading Users table in Sqlite.db\n",
    "> Uses SQL SELECT statement to read data\n",
    "\n",
    "- **What is a connection object?  After you google it, what do you think it does?**\n",
    "Connection object is the sqlite3.db and it makes a conn which is a variable data type. The conn extanciates the object which connects to the database. And connects to it in order for it to interact with the database.\n",
    "\n",
    "- **Same for cursor object?**\n",
    "\n",
    "- **Look at conn object and cursor object in VSCode debugger.  What attributes are in the object?**\n",
    "\n",
    "- **Is \"results\" an object?  How do you know?**"
   ]
  },
  {
   "attachments": {},
   "cell_type": "markdown",
   "metadata": {},
   "source": [
    "1. A connection object is an object used in programming to connect to a database. After researching, I believe that a connection object is responsible for establishing a connection to a database and provides methods for executing SQL statements and managing transactions.\n",
    "\n",
    "2. Similarly, a cursor object is an object used in programming to interact with the results of a SQL query. It allows you to iterate over the rows returned by a query and perform operations such as updating or deleting data.\n",
    "\n",
    "3. The attributes of a connection object and a cursor object can vary depending on the specific programming language and database being used. However, common attributes of a connection object in Python's sqlite3 module include database, row_factory, and isolation_level. Common attributes of a cursor object include description, rowcount, and lastrowid.\n",
    "\n",
    "4. \"Results\" alone is not enough information to determine whether it is an object or not. It could be a variable or a function, for example. However, if \"results\" refers to the output of a SQL query, then it is likely an object, such as a list of tuples or a pandas DataFrame."
   ]
  },
  {
   "cell_type": "code",
   "execution_count": 2,
   "metadata": {},
   "outputs": [
    {
     "name": "stdout",
     "output_type": "stream",
     "text": [
      "(1, 'Thomas Edison', 'toby', 'sha256$boIVvdoSvc6tg0uh$53e904704255f02ab8307433e3be94f18669cb1b16dd5dd4976cda07ac66a6c9', '1847-02-11')\n",
      "(2, 'Nikola Tesla', 'niko', 'sha256$u0QDLONPZ0Pqk9Yi$017c31b3e655723a770e3349b4ffc16d7e624d3f6d610ec74e2aa09ae2f139e8', '2023-03-20')\n",
      "(3, 'Alexander Graham Bell', 'lex', 'sha256$f63iH6i95z3o424T$6485145091f80e02fd0b374104c55278dbbb17d3e25ccc2eb05b82b51113c5a0', '2023-03-20')\n",
      "(4, 'Eli Whitney', 'whit', 'sha256$HS4mIzGwwWG5iqYd$6226d31c4b087edbb527bbcf493a4d3e4b0a01fde4404de487ff6a528b6f0c67', '2023-03-20')\n",
      "(5, 'Indiana Jones', 'indi', 'sha256$Cykg6Q6thFR1W6z3$d306e012e5275dd0e2548d866aa0e01b266f3fdcbcaf22fa195000ebfd287f4f', '1920-10-21')\n",
      "(6, 'Marion Ravenwood', 'raven', 'sha256$c260AkbWzbenCOu5$82cb56a17c047946b72b63a86137bbf58a065861cdec7eec20ee9e60c171606d', '1921-10-21')\n",
      "(7, 'Luna', '1234', 'sha256$ErNcJpNN8itI98eT$ca7dd057c41fa67ef995bb43efa3384140303956fd1dad6ced908196a8e453ab', '2006-11-19')\n"
     ]
    }
   ],
   "source": [
    "import sqlite3\n",
    "\n",
    "def read():\n",
    "    # Connect to the database file\n",
    "    conn = sqlite3.connect(database)\n",
    "\n",
    "    # Create a cursor object to execute SQL queries\n",
    "    cursor = conn.cursor()\n",
    "    \n",
    "    # Execute a SELECT statement to retrieve data from a table\n",
    "    results = cursor.execute('SELECT * FROM users').fetchall()\n",
    "\n",
    "    # Print the results\n",
    "    if len(results) == 0:\n",
    "        print(\"Table is empty\")\n",
    "    else:\n",
    "        for row in results:\n",
    "            print(row)\n",
    "\n",
    "    # Close the cursor and connection objects\n",
    "    cursor.close()\n",
    "    conn.close()\n",
    "    \n",
    "read()\n"
   ]
  },
  {
   "attachments": {},
   "cell_type": "markdown",
   "metadata": {},
   "source": [
    "## Create a new User in table in Sqlite.db\n",
    "> Uses SQL INSERT to add row\n",
    "-  Compore create() in both SQL lessons.  What is better or worse in the two implementations?\n",
    "-  Explain purpose of SQL INSERT.   Is this the same as User __init__?"
   ]
  },
  {
   "attachments": {},
   "cell_type": "markdown",
   "metadata": {},
   "source": [
    "1. The create() function in SQL can vary depending on the specific database management system being used. However, generally speaking, the CREATE TABLE statement is used to create a new table in a database. In the two SQL lessons, both implementations use the CREATE TABLE statement to create a new table. One difference between the two implementations is that in the first lesson, the data types for each column are specified explicitly, while in the second lesson, the data types are inferred based on the values in the first row of the table. This can be an advantage in the second implementation because it allows for more flexibility in the data types used in the table. On the other hand, explicitly specifying the data types can help ensure data integrity and prevent errors.\n",
    "\n",
    "2. The purpose of the SQL INSERT statement is to insert new rows of data into a table. It is used to add new data to an existing table or create a new table with initial data. The INSERT statement allows you to specify the values to be inserted for each column in the table. This is different from the __init__ method in object-oriented programming, which is used to initialize an object's attributes with specific values when the object is created. The INSERT statement is used to add data to a table, while __init__ is used to initialize an object's attributes with specific values."
   ]
  },
  {
   "cell_type": "code",
   "execution_count": 4,
   "metadata": {},
   "outputs": [
    {
     "name": "stdout",
     "output_type": "stream",
     "text": [
      "A new user record 2345 has been created\n"
     ]
    }
   ],
   "source": [
    "import sqlite3\n",
    "\n",
    "def create():\n",
    "    firstname = input(\"Enter your first name:\")\n",
    "    lastname = input(\"Enter your last name:\")\n",
    "    type = input(\"Enter the type of your car\")\n",
    "    phone = input(\"Enter your phone number\")\n",
    "    license = input(\"Enter your car license number\")\n",
    "    \n",
    "    # Connect to the database file\n",
    "    conn = sqlite3.connect(database)\n",
    "\n",
    "    # Create a cursor object to execute SQL commands\n",
    "    cursor = conn.cursor()\n",
    "\n",
    "    try:\n",
    "        # Execute an SQL command to insert data into a table\n",
    "        cursor.execute(\"INSERT INTO users (_firstname, _lastname, _type, _phone, _license) VALUES (?, ?, ?, ?)\", (firstname, lastname, type, phone, license))\n",
    "        \n",
    "        # Commit the changes to the database\n",
    "        conn.commit()\n",
    "        print(f\"A new user record {firstname} has been created\")\n",
    "                \n",
    "    except sqlite3.Error as error:\n",
    "        print(\"Error while executing the INSERT:\", error)\n",
    "\n",
    "\n",
    "    # Close the cursor and connection objects\n",
    "    cursor.close()\n",
    "    conn.close()\n",
    "    \n",
    "create()"
   ]
  },
  {
   "attachments": {},
   "cell_type": "markdown",
   "metadata": {},
   "source": [
    "## Updating a User in table in Sqlite.db\n",
    "> Uses SQL UPDATE to modify password\n",
    "- What does the hacked part do?\n",
    "- Explain try/except, when would except occur?\n",
    "- What code seems to be repeated in each of these examples to point, why is it repeated?"
   ]
  },
  {
   "cell_type": "markdown",
   "metadata": {},
   "source": []
  },
  {
   "cell_type": "code",
   "execution_count": 5,
   "metadata": {},
   "outputs": [
    {
     "name": "stdout",
     "output_type": "stream",
     "text": [
      "The row with user id 1234 the password has been successfully updated\n"
     ]
    }
   ],
   "source": [
    "import sqlite3\n",
    "\n",
    "def update():\n",
    "    firstname = input(\"Enter user id to update\")\n",
    "    phone = input(\"Enter updated phone number\")\n",
    "    if len(phone) < 2:\n",
    "        message = \"error\"\n",
    "        phone = '1231234123'\n",
    "    else:\n",
    "        message = \"successfully updated\"\n",
    "\n",
    "    # Connect to the database file\n",
    "    conn = sqlite3.connect(database)\n",
    "\n",
    "    # Create a cursor object to execute SQL commands\n",
    "    cursor = conn.cursor()\n",
    "\n",
    "    try:\n",
    "        # Execute an SQL command to update data in a table\n",
    "        cursor.execute(\"UPDATE users SET _password = ? WHERE _uid = ?\", (phone, firstname))\n",
    "        if cursor.rowcount == 0:\n",
    "            # The uid was not found in the table\n",
    "            print(f\"No uid {firstname} was not found in the table\")\n",
    "        else:\n",
    "            print(f\"The row with user id {firstname} the password has been {message}\")\n",
    "            conn.commit()\n",
    "    except sqlite3.Error as error:\n",
    "        print(\"Error while executing the UPDATE:\", error)\n",
    "        \n",
    "    \n",
    "    # Close the cursor and connection objects\n",
    "    cursor.close()\n",
    "    conn.close()\n",
    "    \n",
    "update()\n"
   ]
  },
  {
   "attachments": {},
   "cell_type": "markdown",
   "metadata": {},
   "source": [
    "## Delete a User in table in Sqlite.db\n",
    "> Uses a delete function to remove a user based on a user input of the id.\n",
    "- Is DELETE a dangerous operation?  Why?\n",
    "- What is the \"f\" and {uid} do?"
   ]
  },
  {
   "attachments": {},
   "cell_type": "markdown",
   "metadata": {},
   "source": [
    "1. The DELETE operation in SQL can be dangerous if not used carefully, as it permanently removes data from a table. If you accidentally delete data that is important or critical to your application, it can result in data loss and potential business disruption. It is important to always use caution when performing DELETE operations and to have proper backups in place in case of accidental data loss.\n",
    "\n",
    "2. In the context of a Python script, the \"f\" likely stands for \"format string,\" which is a way of dynamically creating strings that contain variable values. The {uid} is a placeholder for the value of the uid variable, which is a user input. By using an f-string and placing the variable inside curly braces, the value of the variable is automatically substituted into the string at runtime. In other words, the f-string allows you to create a dynamic SQL statement that includes the user input as a parameter. This can help prevent SQL injection attacks and improve the security of the application."
   ]
  },
  {
   "cell_type": "code",
   "execution_count": 6,
   "metadata": {},
   "outputs": [
    {
     "name": "stdout",
     "output_type": "stream",
     "text": [
      "The row with uid 1234 was successfully deleted\n"
     ]
    }
   ],
   "source": [
    "import sqlite3\n",
    "\n",
    "def delete():\n",
    "    firstname                                                                                                                                                     = input(\"Enter user id to delete\")\n",
    "\n",
    "    # Connect to the database file\n",
    "    conn = sqlite3.connect(database)\n",
    "\n",
    "    # Create a cursor object to execute SQL commands\n",
    "    cursor = conn.cursor()\n",
    "    \n",
    "    try:\n",
    "        cursor.execute(\"DELETE FROM users WHERE _uid = ?\", (firstname,))\n",
    "        if cursor.rowcount == 0:\n",
    "            # The uid was not found in the table\n",
    "            print(f\"No uid {firstname} was not found in the table\")\n",
    "        else:\n",
    "            # The uid was found in the table and the row was deleted\n",
    "            print(f\"The row with uid {firstname} was successfully deleted\")\n",
    "        conn.commit()\n",
    "    except sqlite3.Error as error:\n",
    "        print(\"Error while executing the DELETE:\", error)\n",
    "        \n",
    "    # Close the cursor and connection objects\n",
    "    cursor.close()\n",
    "    conn.close()\n",
    "    \n",
    "delete()"
   ]
  },
  {
   "attachments": {},
   "cell_type": "markdown",
   "metadata": {},
   "source": [
    "# Menu Interface to CRUD operations\n",
    "> CRUD and Schema interactions from one location by running menu. Observe input at the top of VSCode, observe output underneath code cell.\n",
    "- Why does the menu repeat?\n",
    "- Could you refactor this menu?  Make it work with a List?"
   ]
  },
  {
   "cell_type": "markdown",
   "metadata": {},
   "source": []
  },
  {
   "cell_type": "code",
   "execution_count": 7,
   "metadata": {},
   "outputs": [
    {
     "name": "stdout",
     "output_type": "stream",
     "text": [
      "Error while executing the INSERT: UNIQUE constraint failed: users._uid\n",
      "A new user record 3456 has been created\n"
     ]
    }
   ],
   "source": [
    "# Menu, to run other cells from one control point\n",
    "def menu():\n",
    "    operation = input(\"Enter: (C)reate (R)ead (U)pdate or (D)elete or (S)chema\")\n",
    "    if operation.lower() == 'c':\n",
    "        create()\n",
    "    elif operation.lower() == 'r':\n",
    "        read()\n",
    "    elif operation.lower() == 'u':\n",
    "        update()\n",
    "    elif operation.lower() == 'd':\n",
    "        delete()\n",
    "    elif operation.lower() == 's':\n",
    "        schema()\n",
    "    elif len(operation)==0: # Escape Key\n",
    "        return\n",
    "    else:\n",
    "        print(\"Please enter c, r, u, or d\") \n",
    "    menu() # recursion, repeat menu\n",
    "        \n",
    "try:\n",
    "    menu() # start menu\n",
    "except:\n",
    "    print(\"Perform Jupyter 'Run All' prior to starting menu\")\n"
   ]
  },
  {
   "attachments": {},
   "cell_type": "markdown",
   "metadata": {},
   "source": [
    "# Hacks\n",
    "- Add this Blog to you own Blogging site.  In the Blog add notes and observations on each code cell.\n",
    "- Create a new Table or do something new, [sqlite documentation](https://www.sqlitetutorial.net/sqlite-python/creating-tables/)\n",
    "- In implementation in previous bullet, do you see procedural abstraction?"
   ]
  }
 ],
 "metadata": {
  "kernelspec": {
   "display_name": "base",
   "language": "python",
   "name": "python3"
  },
  "language_info": {
   "codemirror_mode": {
    "name": "ipython",
    "version": 3
   },
   "file_extension": ".py",
   "mimetype": "text/x-python",
   "name": "python",
   "nbconvert_exporter": "python",
   "pygments_lexer": "ipython3",
   "version": "3.9.16"
  },
  "orig_nbformat": 4,
  "vscode": {
   "interpreter": {
    "hash": "8b82d5009c68ba5675978267e2b13a671f2a7143d61273c5a3813c97e0b2493d"
   }
  }
 },
 "nbformat": 4,
 "nbformat_minor": 2
}
