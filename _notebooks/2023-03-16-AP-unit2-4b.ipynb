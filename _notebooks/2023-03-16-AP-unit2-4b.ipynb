{
 "cells": [
  {
   "attachments": {},
   "cell_type": "markdown",
   "metadata": {},
   "source": [
    "#  Unit 2.4b Using Programs with Data, SQL\n",
    "> Using Programs with Data is focused on SQL and database actions.  Part B focuses on learning SQL commands, connections, and curses using an Imperative programming style,\n",
    "- toc: true\n",
    "- image: /images/python.png\n",
    "- categories: []\n",
    "- type: ap\n",
    "- week: 26"
   ]
  },
  {
   "attachments": {},
   "cell_type": "markdown",
   "metadata": {},
   "source": [
    "# Database Programming is Program with Data\n",
    "> The Tri 2 Final Project is an example of a Program with Data. \n",
    "\n",
    ">  Prepare to use SQLite in common Imperative Technique\n",
    "- Explore [SQLite Connect object](https://www.tutorialspoint.com/python_data_access/python_sqlite_establishing_connection.htm) to establish database connection\n",
    "- Explore [SQLite Cursor Object](https://www.tutorialspoint.com/python_data_access/python_sqlite_cursor_object.htm) to fetch data from a table within a database\n"
   ]
  },
  {
   "attachments": {},
   "cell_type": "markdown",
   "metadata": {},
   "source": [
    "## Schema of Users table in Sqlite.db\n",
    "> Uses PRAGMA statement to read schema.\n",
    "\n",
    "Describe Schema, here is resource [Resource](https://www.sqlite.org/index.html)\n",
    "- **What is a database schema?**\n",
    "- **What is the purpose of identity Column in SQL database?**\n",
    "describes the different rows and records of the data\n",
    "- **What is the purpose of a primary key in SQL database?**\n",
    "The uid is treated as the key because that is what we use as the key in coding but the primary key is id (cen be achieved by making it unique). The data base primary key is the row or record number like 012345. \n",
    "- **What are the Data Types in SQL table?**"
   ]
  },
  {
   "attachments": {},
   "cell_type": "markdown",
   "metadata": {},
   "source": [
    "1. A database schema is a blueprint or plan that outlines the structure of a database. It defines how data is organized, stored, and accessed within a database system. The schema includes a description of the tables, columns, relationships, and constraints that are used to store and manipulate data.\n",
    "\n",
    "2. An identity column is a column in a SQL database that automatically generates a unique numeric value for each new row that is inserted into the table. It is commonly used as a primary key for the table and ensures that each row has a unique identifier.\n",
    "\n",
    "3. A primary key in a SQL database is a column or set of columns that uniquely identifies each row in a table. It is used to enforce data integrity by ensuring that each row is uniquely identifiable and cannot be duplicated. The primary key is often used as a foreign key in other tables to establish relationships between data.\n",
    "\n",
    "4. SQL table data types define the type of data that can be stored in a particular column of a table. Common data types in SQL include:\n",
    "\n",
    "Integer: stores whole numbers <p>\n",
    "Float/Double: stores floating-point numbers with decimal values<p>\n",
    "Char/Varchar: stores strings of characters with a fixed or variable length<p>\n",
    "Date/Time: stores date and time values<p>\n",
    "Boolean: stores true/false values<p>\n",
    "Binary: stores binary data such as images or files."
   ]
  },
  {
   "cell_type": "code",
   "execution_count": 2,
   "metadata": {},
   "outputs": [],
   "source": [
    "import sqlite3\n",
    "#change to database='instance/sqlite.db'\n",
    "database = 'instance/sqlite.db' # this is location of database\n",
    "\n",
    "def schema():\n",
    "    \n",
    "    # Connect to the database file\n",
    "    conn = sqlite3.connect(database)\n",
    "\n",
    "    # Create a cursor object to execute SQL queries\n",
    "    cursor = conn.cursor()\n",
    "    \n",
    "    # Fetch results of Schema\n",
    "    results = cursor.execute(\"PRAGMA table_info('users')\").fetchall()\n",
    "\n",
    "    # Print the results\n",
    "    for row in results:\n",
    "        print(row)\n",
    "# a schema is a different data base property\n",
    "    # Close the database connection\n",
    "    \n",
    "#meta data is a data that describes data\n",
    "    conn.close()\n",
    "    \n",
    "schema()"
   ]
  },
  {
   "attachments": {},
   "cell_type": "markdown",
   "metadata": {},
   "source": [
    "## Reading Users table in Sqlite.db\n",
    "> Uses SQL SELECT statement to read data\n",
    "\n",
    "- **What is a connection object?  After you google it, what do you think it does?**\n",
    "Connection object is the sqlite3.db and it makes a conn which is a variable data type. The conn extanciates the object which connects to the database. And connects to it in order for it to interact with the database.\n",
    "\n",
    "- **Same for cursor object?**\n",
    "\n",
    "- **Look at conn object and cursor object in VSCode debugger.  What attributes are in the object?**\n",
    "\n",
    "- **Is \"results\" an object?  How do you know?**"
   ]
  },
  {
   "attachments": {},
   "cell_type": "markdown",
   "metadata": {},
   "source": [
    "1. A connection object is an object used in programming to connect to a database. After researching, I believe that a connection object is responsible for establishing a connection to a database and provides methods for executing SQL statements and managing transactions.\n",
    "\n",
    "2. Similarly, a cursor object is an object used in programming to interact with the results of a SQL query. It allows you to iterate over the rows returned by a query and perform operations such as updating or deleting data.\n",
    "\n",
    "3. The attributes of a connection object and a cursor object can vary depending on the specific programming language and database being used. However, common attributes of a connection object in Python's sqlite3 module include database, row_factory, and isolation_level. Common attributes of a cursor object include description, rowcount, and lastrowid.\n",
    "\n",
    "4. \"Results\" alone is not enough information to determine whether it is an object or not. It could be a variable or a function, for example. However, if \"results\" refers to the output of a SQL query, then it is likely an object, such as a list of tuples or a pandas DataFrame."
   ]
  },
  {
   "cell_type": "code",
   "execution_count": 3,
   "metadata": {},
   "outputs": [
    {
     "name": "stdout",
     "output_type": "stream",
     "text": [
      "(1, '274920', 'Tesla', 'SUV', '111000', 'red')\n",
      "(2, '285039', 'Tesla', 'Crossover', '334000', 'grey')\n",
      "(3, '682100', 'Subaru', 'Convertible', '450000', 'white')\n",
      "(4, '472940', 'Lexus', 'Sedan', '270000', 'blue')\n",
      "(5, '819408', 'Tesla', 'Minivan', '150000', 'orange')\n",
      "(6, '159502', 'Honda', 'Hatchback', '603000', 'black')\n",
      "(8, '120934', 'Lexus', 'Sedan', '234000', 'Blue')\n",
      "(9, '123456', 'xxx', 'SUV', '20', 'Purple')\n"
     ]
    }
   ],
   "source": [
    "import sqlite3\n",
    "\n",
    "def read():\n",
    "    # Connect to the database file\n",
    "    conn = sqlite3.connect(database)\n",
    "\n",
    "    # Create a cursor object to execute SQL queries\n",
    "    cursor = conn.cursor()\n",
    "    \n",
    "    # Execute a SELECT statement to retrieve data from a table\n",
    "    results = cursor.execute('SELECT * FROM cars').fetchall()\n",
    "\n",
    "    # Print the results\n",
    "    if len(results) == 0:\n",
    "        print(\"Table is empty\")\n",
    "    else:\n",
    "        for row in results:\n",
    "            print(row)\n",
    "\n",
    "    # Close the cursor and connection objects\n",
    "    cursor.close()\n",
    "    conn.close()\n",
    "    \n",
    "read()\n"
   ]
  },
  {
   "attachments": {},
   "cell_type": "markdown",
   "metadata": {},
   "source": [
    "## Create a new User in table in Sqlite.db\n",
    "> Uses SQL INSERT to add row\n",
    "-  Compore create() in both SQL lessons.  What is better or worse in the two implementations?\n",
    "-  Explain purpose of SQL INSERT.   Is this the same as User __init__?"
   ]
  },
  {
   "attachments": {},
   "cell_type": "markdown",
   "metadata": {},
   "source": [
    "1. The create() function in SQL can vary depending on the specific database management system being used. However, generally speaking, the CREATE TABLE statement is used to create a new table in a database. In the two SQL lessons, both implementations use the CREATE TABLE statement to create a new table. One difference between the two implementations is that in the first lesson, the data types for each column are specified explicitly, while in the second lesson, the data types are inferred based on the values in the first row of the table. This can be an advantage in the second implementation because it allows for more flexibility in the data types used in the table. On the other hand, explicitly specifying the data types can help ensure data integrity and prevent errors.\n",
    "\n",
    "2. The purpose of the SQL INSERT statement is to insert new rows of data into a table. It is used to add new data to an existing table or create a new table with initial data. The INSERT statement allows you to specify the values to be inserted for each column in the table. This is different from the __init__ method in object-oriented programming, which is used to initialize an object's attributes with specific values when the object is created. The INSERT statement is used to add data to a table, while __init__ is used to initialize an object's attributes with specific values."
   ]
  },
  {
   "cell_type": "code",
   "execution_count": 4,
   "metadata": {},
   "outputs": [
    {
     "name": "stdout",
     "output_type": "stream",
     "text": [
      "Error while executing the INSERT: UNIQUE constraint failed: cars._license\n"
     ]
    }
   ],
   "source": [
    "import sqlite3\n",
    "\n",
    "def create():\n",
    "    license = input(\"Enter your license plate:\")\n",
    "    maker = input(\"Enter your car maker:\")\n",
    "    model = input(\"Enter your car model:\")\n",
    "    price = input(\"Enter the price of your car:\")\n",
    "    color = input(\"Enter the color of your car:\")\n",
    "    \n",
    "    # Connect to the database file\n",
    "    conn = sqlite3.connect(database)\n",
    "\n",
    "    # Create a cursor object to execute SQL commands\n",
    "    cursor = conn.cursor()\n",
    "\n",
    "    try:\n",
    "        # Execute an SQL command to insert data into a table\n",
    "        cursor.execute(\"INSERT INTO cars (_license, _maker, _model, _price, _color) VALUES (?, ?, ?, ?, ?)\", (license, maker, model, price, color))\n",
    "        \n",
    "        # Commit the changes to the database\n",
    "        conn.commit()\n",
    "        print(f\"A new car record {license} has been created\")\n",
    "                \n",
    "    except sqlite3.Error as error:\n",
    "        print(\"Error while executing the INSERT:\", error)\n",
    "\n",
    "    # Close the cursor and connection objects\n",
    "    cursor.close()\n",
    "    conn.close()\n",
    "    \n",
    "create()"
   ]
  },
  {
   "attachments": {},
   "cell_type": "markdown",
   "metadata": {},
   "source": [
    "## Updating a User in table in Sqlite.db\n",
    "> Uses SQL UPDATE to modify password\n",
    "- What does the hacked part do?\n",
    "- Explain try/except, when would except occur?\n",
    "- What code seems to be repeated in each of these examples to point, why is it repeated?"
   ]
  },
  {
   "cell_type": "markdown",
   "metadata": {},
   "source": []
  },
  {
   "cell_type": "code",
   "execution_count": 5,
   "metadata": {},
   "outputs": [
    {
     "name": "stdout",
     "output_type": "stream",
     "text": [
      "The row with license 123456 the maker has been successfully updated\n"
     ]
    }
   ],
   "source": [
    "import sqlite3\n",
    "\n",
    "def update():\n",
    "    license = input(\"Enter license to update\")\n",
    "    maker = input(\"Enter updated maker\")\n",
    "    if len(maker) < 2:\n",
    "        message = \"error\"\n",
    "        maker = 'xxx'\n",
    "    else:\n",
    "        message = \"successfully updated\"\n",
    "\n",
    "    # Connect to the database file\n",
    "    conn = sqlite3.connect(database)\n",
    "\n",
    "    # Create a cursor object to execute SQL commands\n",
    "    cursor = conn.cursor()\n",
    "\n",
    "    try:\n",
    "        # Execute an SQL command to update data in a table\n",
    "        cursor.execute(\"UPDATE cars SET _maker = ? WHERE _license = ?\", (maker, license))\n",
    "        if cursor.rowcount == 0:\n",
    "            # The uid was not found in the table\n",
    "            print(f\"No license {license} was not found in the table\")\n",
    "        else:\n",
    "            print(f\"The row with license {license} the maker has been {message}\")\n",
    "            conn.commit()\n",
    "    except sqlite3.Error as error:\n",
    "        print(\"Error while executing the UPDATE:\", error)\n",
    "        \n",
    "    \n",
    "    # Close the cursor and connection objects\n",
    "    cursor.close()\n",
    "    conn.close()\n",
    "    \n",
    "update()\n"
   ]
  },
  {
   "attachments": {},
   "cell_type": "markdown",
   "metadata": {},
   "source": [
    "## Delete a User in table in Sqlite.db\n",
    "> Uses a delete function to remove a user based on a user input of the id.\n",
    "- Is DELETE a dangerous operation?  Why?\n",
    "- What is the \"f\" and {uid} do?"
   ]
  },
  {
   "attachments": {},
   "cell_type": "markdown",
   "metadata": {},
   "source": [
    "1. The DELETE operation in SQL can be dangerous if not used carefully, as it permanently removes data from a table. If you accidentally delete data that is important or critical to your application, it can result in data loss and potential business disruption. It is important to always use caution when performing DELETE operations and to have proper backups in place in case of accidental data loss.\n",
    "\n",
    "2. In the context of a Python script, the \"f\" likely stands for \"format string,\" which is a way of dynamically creating strings that contain variable values. The {uid} is a placeholder for the value of the uid variable, which is a user input. By using an f-string and placing the variable inside curly braces, the value of the variable is automatically substituted into the string at runtime. In other words, the f-string allows you to create a dynamic SQL statement that includes the user input as a parameter. This can help prevent SQL injection attacks and improve the security of the application."
   ]
  },
  {
   "cell_type": "code",
   "execution_count": 6,
   "metadata": {},
   "outputs": [
    {
     "name": "stdout",
     "output_type": "stream",
     "text": [
      "The row with license 123456 was successfully deleted\n"
     ]
    }
   ],
   "source": [
    "import sqlite3\n",
    "\n",
    "def delete():\n",
    "    license = input(\"Enter license to delete\")\n",
    "\n",
    "    # Connect to the database file\n",
    "    conn = sqlite3.connect(database)\n",
    "\n",
    "    # Create a cursor object to execute SQL commands\n",
    "    cursor = conn.cursor()\n",
    "    \n",
    "    try:\n",
    "        cursor.execute(\"DELETE FROM cars WHERE _license = ?\", (license,))\n",
    "        if cursor.rowcount == 0:\n",
    "            # The not found\n",
    "            print(f\"No license {license} was not found in the table\")\n",
    "        else:\n",
    "            # The uid was found in the table and the row was deleted\n",
    "            print(f\"The row with license {license} was successfully deleted\")\n",
    "        conn.commit()\n",
    "    except sqlite3.Error as error:\n",
    "        print(\"Error while executing the DELETE:\", error)\n",
    "        \n",
    "    # Close the cursor and connection objects\n",
    "    cursor.close()\n",
    "    conn.close()\n",
    "    \n",
    "delete()"
   ]
  },
  {
   "attachments": {},
   "cell_type": "markdown",
   "metadata": {},
   "source": [
    "# Menu Interface to CRUD operations\n",
    "> CRUD and Schema interactions from one location by running menu. Observe input at the top of VSCode, observe output underneath code cell.\n",
    "- Why does the menu repeat?\n",
    "- Could you refactor this menu?  Make it work with a List?"
   ]
  },
  {
   "cell_type": "markdown",
   "metadata": {},
   "source": []
  },
  {
   "cell_type": "code",
   "execution_count": 7,
   "metadata": {},
   "outputs": [
    {
     "name": "stdout",
     "output_type": "stream",
     "text": [
      "A new car record 123456 has been created\n",
      "(1, '274920', 'Tesla', 'SUV', '111000', 'red')\n",
      "(2, '285039', 'Tesla', 'Crossover', '334000', 'grey')\n",
      "(3, '682100', 'Subaru', 'Convertible', '450000', 'white')\n",
      "(4, '472940', 'Lexus', 'Sedan', '270000', 'blue')\n",
      "(5, '819408', 'Tesla', 'Minivan', '150000', 'orange')\n",
      "(6, '159502', 'Honda', 'Hatchback', '603000', 'black')\n",
      "(8, '120934', 'Lexus', 'Sedan', '234000', 'Blue')\n",
      "(9, '123456', 'Toyota', 'Tesla', '200', 'Blue')\n",
      "The row with license 123456 the maker has been successfully updated\n",
      "The row with license 123456 was successfully deleted\n"
     ]
    }
   ],
   "source": [
    "# Menu, to run other cells from one control point\n",
    "def menu():\n",
    "    operation = input(\"Enter: (C)reate (R)ead (U)pdate or (D)elete or (S)chema\")\n",
    "    if operation.lower() == 'c':\n",
    "        create()\n",
    "    elif operation.lower() == 'r':\n",
    "        read()\n",
    "    elif operation.lower() == 'u':\n",
    "        update()\n",
    "    elif operation.lower() == 'd':\n",
    "        delete()\n",
    "    elif operation.lower() == 's':\n",
    "        schema()\n",
    "    elif len(operation)==0: # Escape Key\n",
    "        return\n",
    "    else:\n",
    "        print(\"Please enter c, r, u, or d\") \n",
    "    menu() # recursion, repeat menu\n",
    "        \n",
    "try:\n",
    "    menu() # start menu\n",
    "except:\n",
    "    print(\"Perform Jupyter 'Run All' prior to starting menu\")\n"
   ]
  },
  {
   "attachments": {},
   "cell_type": "markdown",
   "metadata": {},
   "source": [
    "# Hacks\n",
    "- Add this Blog to you own Blogging site.  In the Blog add notes and observations on each code cell.\n",
    "- Create a new Table or do something new, [sqlite documentation](https://www.sqlitetutorial.net/sqlite-python/creating-tables/)\n",
    "- In implementation in previous bullet, do you see procedural abstraction?"
   ]
  }
 ],
 "metadata": {
  "kernelspec": {
   "display_name": "base",
   "language": "python",
   "name": "python3"
  },
  "language_info": {
   "codemirror_mode": {
    "name": "ipython",
    "version": 3
   },
   "file_extension": ".py",
   "mimetype": "text/x-python",
   "name": "python",
   "nbconvert_exporter": "python",
   "pygments_lexer": "ipython3",
   "version": "3.9.16"
  },
  "orig_nbformat": 4,
  "vscode": {
   "interpreter": {
    "hash": "8b82d5009c68ba5675978267e2b13a671f2a7143d61273c5a3813c97e0b2493d"
   }
  }
 },
 "nbformat": 4,
 "nbformat_minor": 2
}
