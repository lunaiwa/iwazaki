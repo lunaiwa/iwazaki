{
 "cells": [
  {
   "attachments": {},
   "cell_type": "markdown",
   "metadata": {},
   "source": [
    "#  Big Idea 2 Test Corrections\n",
    "> Corrections for the big idea 2 test\n",
    "- toc: true\n",
    "- categories: [APCSP]\n",
    "- title: Big Idea 2 Test Corrections"
   ]
  },
  {
   "attachments": {},
   "cell_type": "markdown",
   "metadata": {},
   "source": [
    "**Q21 Museum photograph spreadsheet**"
   ]
  },
  {
   "attachments": {},
   "cell_type": "markdown",
   "metadata": {},
   "source": [
    "Assume that applying either of the filters will not change the relative order of the rows remaining in the spreadsheet.\n",
    "\n",
    "(B) Filter by photographer then year then sort by year\n",
    "\n",
    "Filtering by photographer will remove any entries with unknown photographers. Filtering by year will remove any entries with unknown years. Sorting by year will sort the remaining entries in column C from least to greatest, putting the photograph with the lowest year value in the first row of the spreadsheet."
   ]
  },
  {
   "attachments": {},
   "cell_type": "markdown",
   "metadata": {},
   "source": [
    "**Q23 Radio Show Spreadsheet"
   ]
  },
  {
   "attachments": {},
   "cell_type": "markdown",
   "metadata": {},
   "source": [
    "A student wants to count the number of shows that meet both of the following criteria.\n",
    "\n",
    "Is a talk show\n",
    "Is on Saturday or Sunday\n",
    "For a given row in the spreadsheet, suppose genre contains the genre as a string and day contains the day as a string. Which of the following expressions will evaluate to true if the show should be counted and evaluates to false otherwise?\n",
    "\n",
    "(B) (genre = \"talk\") AND ((day = \"Saturday\") OR (day = \"Sunday\"))\n",
    "\n",
    "Correct. For a show to be counted, the value of genre must be \"talk\" and the value of day must be \"Saturday\" or \"Sunday\"."
   ]
  }
 ],
 "metadata": {
  "language_info": {
   "name": "python"
  },
  "orig_nbformat": 4
 },
 "nbformat": 4,
 "nbformat_minor": 2
}
