{
 "cells": [
  {
   "attachments": {},
   "cell_type": "markdown",
   "metadata": {},
   "source": [
    "#  CPT Project Plan\n",
    "> The further plans to finish the CPT\n",
    "- toc: true\n",
    "- categories: [CPT]\n",
    "- title: CPT Project Plan"
   ]
  },
  {
   "attachments": {},
   "cell_type": "markdown",
   "metadata": {},
   "source": [
    "## March"
   ]
  },
  {
   "attachments": {},
   "cell_type": "markdown",
   "metadata": {},
   "source": [
    "**Week 1**\n",
    "\n",
    "Create a design mockup: Use wireframes, flowcharts, and other design tools to create a visual representation of the feature. This will help you determine the layout, functionality, and user flow.\n",
    "\n",
    "Make a new repository for the project and add the formatting"
   ]
  },
  {
   "attachments": {},
   "cell_type": "markdown",
   "metadata": {},
   "source": [
    "## April"
   ]
  },
  {
   "attachments": {},
   "cell_type": "markdown",
   "metadata": {},
   "source": [
    "**Week 2**\n",
    "\n",
    "Develop the feature: Once you have a design mockup, you can start developing the feature. This may involve coding, testing, and debugging."
   ]
  },
  {
   "attachments": {},
   "cell_type": "markdown",
   "metadata": {},
   "source": [
    "**Week 3**\n",
    "\n",
    "Test and iterate: Test the feature thoroughly to ensure that it works as intended. Make any necessary changes and continue testing until the feature is ready to be launched.\n"
   ]
  },
  {
   "attachments": {},
   "cell_type": "markdown",
   "metadata": {},
   "source": [
    "**Week 4**\n",
    "\n",
    "Launch the feature: Once the feature is ready, launch it on the website. Monitor its performance and make any necessary adjustments based on user feedback.\n",
    "\n",
    "Have peers use the feature and give feedback to the feature"
   ]
  },
  {
   "attachments": {},
   "cell_type": "markdown",
   "metadata": {},
   "source": [
    "**Week 5**\n",
    "\n",
    "Use the grading guidelines of College Board\n",
    "\n",
    "Evaluate the feature: After the feature has been live for a while, evaluate its success. Use analytics and user feedback to determine if it met the goals you set earlier."
   ]
  }
 ],
 "metadata": {
  "language_info": {
   "name": "python"
  },
  "orig_nbformat": 4
 },
 "nbformat": 4,
 "nbformat_minor": 2
}
