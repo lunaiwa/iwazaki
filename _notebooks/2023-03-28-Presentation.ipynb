{
 "cells": [
  {
   "attachments": {},
   "cell_type": "markdown",
   "metadata": {},
   "source": [
    "#  Computer Science and Information Systems (CSIS)\n",
    "> Presentation which goes over multiple engineering systems\n",
    "- toc: true\n",
    "- title: Computer Science and Information Systems (CSIS)\n",
    "- categories: [Presentation]"
   ]
  },
  {
   "attachments": {},
   "cell_type": "markdown",
   "metadata": {},
   "source": [
    "### Summary"
   ]
  },
  {
   "attachments": {},
   "cell_type": "markdown",
   "metadata": {},
   "source": [
    "According to the speaker, CSUSM is an excellent choice for students interested in pursuing a career in engineering or computer science. The university is known for its high-quality programs, experienced faculty, and modern facilities. Additionally, CSUSM is located in a region that is home to many thriving tech companies, providing students with opportunities to gain practical experience and network with industry professionals.\n",
    "\n",
    "The speaker also emphasized the value of a CSUSM education in terms of career prospects. Graduates of the engineering and computer science program are in high demand, and many go on to work for top companies in the tech industry. Furthermore, CSUSM has a strong record of alumni success, with graduates often achieving high salaries and positions of leadership.\n",
    "\n",
    "Overall, the speech made a compelling case for why students interested in engineering or computer science should consider joining CSUSM. With its exceptional programs, talented faculty, and supportive community, the university seems like an excellent choice for those looking to build a successful career in these fields."
   ]
  },
  {
   "attachments": {},
   "cell_type": "markdown",
   "metadata": {},
   "source": [
    "## STEM AT CSUSM"
   ]
  },
  {
   "attachments": {},
   "cell_type": "markdown",
   "metadata": {},
   "source": [
    "### Speakers"
   ]
  },
  {
   "attachments": {},
   "cell_type": "markdown",
   "metadata": {},
   "source": [
    "**Speakers:**\n",
    "- John does computer science and recently graduated\n",
    "- Ashley degree in applied physics and recently graduated"
   ]
  },
  {
   "attachments": {},
   "cell_type": "markdown",
   "metadata": {},
   "source": [
    "**Ashley:**\n",
    "- Works in quantum computing group\n",
    "- Took APPhysics and got a D in first trimester but kept doing it cause she loved it\n",
    "- Wasn't easy transition and failed Calc 1 and 3\n",
    "- Never let the failures define her and kept going on\n",
    "- Inspired to go for a PHD for material sciences and engineering\n",
    "- Doesn't matter if bad score or struggle since they don't define \n",
    "- CSUSM was a great support system and opened many doors for her "
   ]
  },
  {
   "attachments": {},
   "cell_type": "markdown",
   "metadata": {},
   "source": [
    "**John:**\n",
    "- From Escondido\n",
    "- Was a diliquent\n",
    "- Started at Palomar college the week after graduating\n",
    "- Math and COmputer science\n",
    "- During pandemic started CSUSM\n",
    "- Was interesting since only saw campus the last trimester there\n",
    "- 6 years to get PHD and is taking a mini gap year\n",
    "- Computer science degree is versitile "
   ]
  },
  {
   "attachments": {},
   "cell_type": "markdown",
   "metadata": {},
   "source": [
    "### Fun Facts"
   ]
  },
  {
   "attachments": {},
   "cell_type": "markdown",
   "metadata": {},
   "source": [
    "- One of the newer Cal States and is the 21 out of 23 \n",
    "- Lots of new buildings and there are more to come \n",
    "- Lots of new buildings for engineering and biology\n",
    "- Highest turnover from social economic status\n",
    "- San Diego has lots of industries wanting to hire new students\n",
    "- Lots of stairs (LEG DAY!)"
   ]
  },
  {
   "attachments": {},
   "cell_type": "markdown",
   "metadata": {},
   "source": [
    "## Path Ways"
   ]
  },
  {
   "attachments": {},
   "cell_type": "markdown",
   "metadata": {},
   "source": [
    "- Chemical Education\n",
    "- Minor in electronics\n",
    "- Minor in applied physics\n",
    "- Biological Sciences\n",
    "- Wildlife Science\n",
    "- Computer Science\n",
    "- Option in Computer Information Systems\n",
    "- Cybersecurity\n",
    "- Minor in mathematics\n",
    "- Electrical Engineering\n",
    "- ECT."
   ]
  },
  {
   "attachments": {},
   "cell_type": "markdown",
   "metadata": {},
   "source": [
    "### Departments"
   ]
  },
  {
   "attachments": {},
   "cell_type": "markdown",
   "metadata": {},
   "source": [
    "- **Physics** <p>\n",
    "    Dr. Stephen Tsul\n",
    "- **Chemistry and BioChemistry** <p>\n",
    "    Dr. Sajith Jayasinghe\n",
    "- **Biotechnology** <p>\n",
    "    Dr. Moorthy Palanki\n",
    "- **Biological Sciences** <p>\n",
    "    Dr. Matthew Escobar\n",
    "- **Math** <p>\n",
    "    Dr. Amber Puha\n",
    "- **Computer Science** <p>\n",
    "    Dr. Ali Ahmadina\n",
    "- **Software Engineering** <p>\n",
    "    Dr.Simon Fan\n",
    "- **Electrical Engineering** <p>\n",
    "    Dr.Reza Kamali Sarvestan"
   ]
  },
  {
   "attachments": {},
   "cell_type": "markdown",
   "metadata": {},
   "source": [
    "### Clubs"
   ]
  },
  {
   "attachments": {},
   "cell_type": "markdown",
   "metadata": {},
   "source": [
    "- Cybersecurity Club\n",
    "- Robotics Club\n",
    "- 3D Printing Club\n",
    "- Women in STEM Club\n",
    "- Society of Women Engineer Club\n",
    "- Society of Physics Club"
   ]
  },
  {
   "attachments": {},
   "cell_type": "markdown",
   "metadata": {},
   "source": [
    "### Internship"
   ]
  },
  {
   "attachments": {},
   "cell_type": "markdown",
   "metadata": {},
   "source": [
    "Internships: period of work experience offered by an organization for a limited period of time"
   ]
  },
  {
   "attachments": {},
   "cell_type": "markdown",
   "metadata": {},
   "source": [
    "- Join clubs (they give applying)\n",
    "- Net working\n",
    "- Checking your emails\n",
    "- Google "
   ]
  },
  {
   "attachments": {},
   "cell_type": "markdown",
   "metadata": {},
   "source": [
    "**Tips:**\n",
    "- Try to avoid when they are unpaid because there is many oppertunities that provide for a paid intern\n",
    "- Get help from faculty"
   ]
  },
  {
   "attachments": {},
   "cell_type": "markdown",
   "metadata": {},
   "source": [
    "### Programs"
   ]
  },
  {
   "attachments": {},
   "cell_type": "markdown",
   "metadata": {},
   "source": [
    "Many can better interests, **Summer Scholars Program** can gain better interest and gain money 500 for full time and 300 for half time and get paid while pursuing interests"
   ]
  },
  {
   "attachments": {},
   "cell_type": "markdown",
   "metadata": {},
   "source": [
    "Quantum bridge program 4 week program and get paid a 15000 siphon"
   ]
  },
  {
   "attachments": {},
   "cell_type": "markdown",
   "metadata": {},
   "source": [
    "### Research"
   ]
  },
  {
   "attachments": {},
   "cell_type": "markdown",
   "metadata": {},
   "source": [
    "- Cancer Cell\n",
    "- Quantum \n",
    "- AI \n",
    "- Micro Plastics"
   ]
  },
  {
   "attachments": {},
   "cell_type": "markdown",
   "metadata": {},
   "source": [
    "### Paying For College"
   ]
  },
  {
   "attachments": {},
   "cell_type": "markdown",
   "metadata": {},
   "source": [
    "Grant vs Scholarship: A grant is government funded while a scholarship is usally privatly funded\n",
    "\n",
    "6 months after you graduate college you have to pay your loans"
   ]
  },
  {
   "attachments": {},
   "cell_type": "markdown",
   "metadata": {},
   "source": [
    "**Subsided Loan** does not acure interest while you are in school at lease half time or during deferment periods"
   ]
  },
  {
   "attachments": {},
   "cell_type": "markdown",
   "metadata": {},
   "source": [
    "**Unsubsided Loans** does acure interes while yo are in school and during grace periods"
   ]
  },
  {
   "attachments": {},
   "cell_type": "markdown",
   "metadata": {},
   "source": [
    "### Life After CSUSM"
   ]
  },
  {
   "attachments": {},
   "cell_type": "markdown",
   "metadata": {},
   "source": [
    "Many go into the private industry like general atomics, and other companies but some go into the public like teaching since CSUSM is a very teaching based school"
   ]
  },
  {
   "cell_type": "markdown",
   "metadata": {},
   "source": []
  }
 ],
 "metadata": {
  "language_info": {
   "name": "python"
  },
  "orig_nbformat": 4
 },
 "nbformat": 4,
 "nbformat_minor": 2
}
