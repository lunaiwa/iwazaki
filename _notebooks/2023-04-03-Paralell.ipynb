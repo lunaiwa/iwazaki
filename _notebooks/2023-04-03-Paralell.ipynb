{
 "cells": [
  {
   "attachments": {},
   "cell_type": "markdown",
   "metadata": {},
   "source": [
    "#  Paralell Computing Hacks\n",
    "> HACKS for the Week Blog\n",
    "- toc: true\n",
    "- title: Paralell Computing Hacks\n",
    "- categories: [APCSP]"
   ]
  },
  {
   "attachments": {},
   "cell_type": "markdown",
   "metadata": {},
   "source": [
    "## College Board Video Questions\n",
    "\n",
    "> AP Classroom. Provide answers and thoughts on theoritical question form college board Video in section 4."
   ]
  },
  {
   "attachments": {},
   "cell_type": "markdown",
   "metadata": {},
   "source": [
    "### Example #1"
   ]
  },
  {
   "attachments": {},
   "cell_type": "markdown",
   "metadata": {},
   "source": [
    "A particular computer has two identical porcessors which can run in parallel. Each process must be executed on a single processor and each processor can only run one process at a time.\n",
    "\n",
    "The table below lists the amount of time it takes to execute each of the processes on a single computer. None of the processes are dependent on any of the others. \n",
    "\n",
    "What is the minimum amount of tim (approxinmate) to execute all three processes when the two processors are run in parallel."
   ]
  },
  {
   "attachments": {},
   "cell_type": "markdown",
   "metadata": {},
   "source": [
    "| Process | Execution Time on Either Processor |\n",
    "| -------------- | -----------|\n",
    "| X | 50 seconds |\n",
    "| Y | 10 seconds |\n",
    "| Z | 30 seconds |"
   ]
  },
  {
   "attachments": {},
   "cell_type": "markdown",
   "metadata": {},
   "source": [
    "**Answer: 50 seconds**\n",
    "\n",
    "X and Y start their processes first, once the Y is finished the Z will go next. Once all proceses are done 50 seconds would have passed."
   ]
  },
  {
   "attachments": {},
   "cell_type": "markdown",
   "metadata": {},
   "source": [
    "### Example #2"
   ]
  },
  {
   "attachments": {},
   "cell_type": "markdown",
   "metadata": {},
   "source": [
    "A computer has two duplicate processors that are able to run in parallel. The table below shows the amount of time it takes each processor to execute each of two processes. Neither process is dependent on the other.\n",
    "\n",
    "What id the difference in execution time between running the two processes in parallel in place of running the one after the other on a single processor?"
   ]
  },
  {
   "attachments": {},
   "cell_type": "markdown",
   "metadata": {},
   "source": [
    "| Process | Execution Time on Either Processor |\n",
    "| -------------- | -------------- |\n",
    "| A | 25 seconds |\n",
    "| B | 45 seconds |"
   ]
  },
  {
   "attachments": {},
   "cell_type": "markdown",
   "metadata": {},
   "source": [
    "**Answer: Running the two processes one after another, 25 + 45 = 70 seconds. Running both in parallel will yield a minimum time of 45 seconds. 70 - 45 = 25 seconds.**\n",
    "\n",
    "Parallel running means that that it will run 45 seconds. One after another means 70 seconds. The difference between those times is 25 seconds."
   ]
  },
  {
   "attachments": {},
   "cell_type": "markdown",
   "metadata": {},
   "source": [
    "### Example #3"
   ]
  },
  {
   "attachments": {},
   "cell_type": "markdown",
   "metadata": {},
   "source": [
    "A computer has two processors that can run in parallel. The table below indicates the amount of time it takes each processor to execute four different processes. None of the processes is dependent on any of the other processes.\n",
    "\n",
    "Describe how the program should assign the four processes to optimize execution time?"
   ]
  },
  {
   "attachments": {},
   "cell_type": "markdown",
   "metadata": {},
   "source": [
    "| Process | Execution Time |\n",
    "| ---------- | ---------- |\n",
    "| A | 25 seconds |\n",
    "| B | 25 seconds |\n",
    "| C | 10 seconds |\n",
    "| D | 40 seconds |"
   ]
  },
  {
   "attachments": {},
   "cell_type": "markdown",
   "metadata": {},
   "source": [
    "**Answer: Processes A and B should be assigned to one processor and C and D to the other processor.**"
   ]
  },
  {
   "attachments": {},
   "cell_type": "markdown",
   "metadata": {},
   "source": [
    "### Build a List Comprehension Example"
   ]
  },
  {
   "cell_type": "code",
   "execution_count": 1,
   "metadata": {},
   "outputs": [
    {
     "name": "stdout",
     "output_type": "stream",
     "text": [
      "[1, 4, 9, 16, 25]\n"
     ]
    }
   ],
   "source": [
    "#start with a list of numbers from 1-5\n",
    "numbers = [1, 2, 3, 4, 5]\n",
    "#making a new list with the squares of the numbers\n",
    "#LIST COMP!!!\n",
    "#iterate over old list and applying square to each element\n",
    "squares = [x**2 for x in numbers]\n",
    "#printing the final list\n",
    "print(squares)"
   ]
  }
 ],
 "metadata": {
  "kernelspec": {
   "display_name": "test",
   "language": "python",
   "name": "python3"
  },
  "language_info": {
   "codemirror_mode": {
    "name": "ipython",
    "version": 3
   },
   "file_extension": ".py",
   "mimetype": "text/x-python",
   "name": "python",
   "nbconvert_exporter": "python",
   "pygments_lexer": "ipython3",
   "version": "3.9.16"
  },
  "orig_nbformat": 4
 },
 "nbformat": 4,
 "nbformat_minor": 2
}
