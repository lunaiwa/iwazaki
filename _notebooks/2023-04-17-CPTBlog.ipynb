{
 "cells": [
  {
   "attachments": {},
   "cell_type": "markdown",
   "metadata": {},
   "source": [
    "#  CPT Draft\n",
    "> Answering the CollegeBoard Bullet points\n",
    "- toc: true\n",
    "- title: CPT Draft/Write Up\n",
    "- categories: [APCSP]"
   ]
  },
  {
   "attachments": {},
   "cell_type": "markdown",
   "metadata": {},
   "source": [
    "# CPT Draft"
   ]
  },
  {
   "attachments": {},
   "cell_type": "markdown",
   "metadata": {},
   "source": [
    "### Write Up in Blog"
   ]
  },
  {
   "attachments": {},
   "cell_type": "markdown",
   "metadata": {},
   "source": [
    "- **Describe Procedural Abstraction, discussion on code and abstraction techniques used: Frontend/Backend, Functions, Classes, etc**\n",
    "\n",
    "Procedural Abstraction is a concept in software development that means breaking down complex problems into smaller, more manageable parts. This is done by separating a program's logic into smaller functions or methods that perform specific tasks, which makes it easier for developers to manage and modify the code. In the code, the input management task is divided into smaller functions that perform specific tasks. The code uses HTML, CSS, and JS to create a user interface where users can input data and view the output. The JS code uses functions to perform specific tasks such as creating new inputs and displaying them on the screen. Overall, the code is organized into smaller parts that work together to manage inputs. This makes it easier for developers to understand and modify the code.\n",
    "\n",
    "\n",
    "- **Describe Data Abstraction, discussion on data used and data structures to support project: JSON, Dictionaries, Lists, and/or Database Tables.**\n",
    "\n",
    "Data Abstraction is a fancy computer science concept that means hiding complex details of data and making it easy for people to use. In this code, the input data is stored in a list of objects, where each object has three properties: name, diet, and preference. This makes it easy for people to input and view the data. The list is a common way to store many objects in an organized way. It is like a grocery list where each item has its own properties like name, quantity, and price. In this code, the list is used to store input data and make it easy to manage. There are no fancy database tables or JSON files used in this code. However, they could be used to make the data more powerful and useful in more complex projects. Overall, the code uses data abstraction to make it easy for people to input and view data. The list data structure is used to store the data in an organized way.\n",
    "\n",
    "- **Describe Usage of Control Structures, ie Iteration and Conditional Statements. Areas where you use lists and interation in Frontend Display. Areas were you decide and execulte different paths of code, for instance Create vs Read vs Update vs Delete. Also, show a function where a different parameter or condition causes a differen result.**\n",
    "\n",
    "In this code, we use two types of control structures: loops and conditional statements. Loops are like repeating patterns that allow us to do the same thing over and over again until we meet a condition. In this code, we use a loop to display all the input data one by one in the output section. Conditional statements are like decision makers that allow us to choose different paths based on certain conditions. In this code, we use conditional statements to check if there is any input data before creating a new input object. We also use them to decide which function to run based on which button the user clicks - create, read, update or delete. We use lists to organize our input data and make it easier to work with. The different buttons - create, read, update or delete - each trigger a different function that does a specific job. One function that shows how different parameters can cause different results is the deleteInput function. This function takes a name as a parameter and removes the input object with the matching name from the input array. If the name doesn't match any of the input objects, nothing happens."
   ]
  }
 ],
 "metadata": {
  "language_info": {
   "name": "python"
  },
  "orig_nbformat": 4
 },
 "nbformat": 4,
 "nbformat_minor": 2
}
