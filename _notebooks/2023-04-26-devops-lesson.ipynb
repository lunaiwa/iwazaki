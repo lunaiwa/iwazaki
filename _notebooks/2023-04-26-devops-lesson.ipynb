{
 "cells": [
  {
   "attachments": {},
   "cell_type": "markdown",
   "metadata": {},
   "source": [
    "# DevOps Lesson\n",
    "\n",
    "- toc: true\n",
    "- categories: []\n",
    "- type: pbl"
   ]
  },
  {
   "cell_type": "code",
   "execution_count": 7,
   "metadata": {},
   "outputs": [
    {
     "name": "stdout",
     "output_type": "stream",
     "text": [
      "192.30.255.112\n"
     ]
    }
   ],
   "source": [
    "import socket\n",
    "\n",
    "# Change the following host and see what IP it prints!\n",
    "# Host changed to GitHub\n",
    "host = \"github.com\"\n",
    "ip = socket.gethostbyname(host)\n",
    "\n",
    "print(ip)"
   ]
  },
  {
   "cell_type": "code",
   "execution_count": 2,
   "metadata": {},
   "outputs": [
    {
     "name": "stdout",
     "output_type": "stream",
     "text": [
      "Successfully connected!\n"
     ]
    }
   ],
   "source": [
    "# Initiate a TCP connection to port 80\n",
    "with socket.socket(socket.AF_INET, socket.SOCK_STREAM) as s:\n",
    "    s.connect((ip, 80))\n",
    "    print(\"Successfully connected!\")"
   ]
  },
  {
   "attachments": {},
   "cell_type": "markdown",
   "metadata": {},
   "source": [
    "## [x] Check-In\n",
    "\n",
    "1. **What is an IP address?**\n",
    "\n",
    "- Internet Protocol (IP)\n",
    "\n",
    "Unique address that identifies a device on the internet or a local network\n",
    "\n",
    "2. **What is a TCP port?**\n",
    "\n",
    "Represents an application or service-specific endpoint identifier \n",
    "\n",
    "*Port*: Logistical construct that identifies a specific process or a type of network service"
   ]
  },
  {
   "cell_type": "code",
   "execution_count": 3,
   "metadata": {},
   "outputs": [
    {
     "name": "stdout",
     "output_type": "stream",
     "text": [
      "HTTP/1.1 200 OK\n",
      "Date: Wed, 26 Apr 2023 20:52:04 GMT\n",
      "Expires: -1\n",
      "Cache-Control: private, max-age=0\n",
      "Content-Type: text/html; charset=ISO-8859-1\n",
      "Content-Security-Policy-Report-Only: object-src 'none';base-uri 'self';script-src 'nonce-I6rYAT4cKhWK3B8_hzVosw' 'strict-dynamic' 'report-sample' 'unsafe-eval' 'unsafe-inline' https: http:;report-uri https://csp.withgoogle.com/csp/gws/other-hp\n",
      "P3P: CP=\"This is not a P3P policy! See g.co/p3phelp for more info.\"\n",
      "Server: gws\n",
      "X-XSS-Protection: 0\n",
      "X-Frame-Options: SAMEORIGIN\n",
      "Set-Cookie: 1P_JAR=2023-04-26-20; expires=Fri, 26-May-2023 20:52:04 GMT; path=/; domain=.google.com; Secure\n",
      "Set-Cookie: AEC=AUEFqZcmXwwABrucuvamKJLByf3t_TkV_zy5XmS5mSCtumJ5KtiEVmzXVA; expires=Mon, 23-Oct-2023 20:52:04 GMT; path=/; domain=.google.com; Secure; HttpOnly; SameSite=lax\n",
      "Set-Cookie: NID=511=HB-jM__FEcPwAv4Z_u4Uo6Uc2gLd2d53FnkbDzuKjxGmvHRgCCKFCMIRZ1IRRK2cXdXfAXgSBHyMr10Gm-sueqaNcpV2FoH0xF9-KmlMPrWqsgVuest6pJ899eai9hnjuQWvnf0uYLqs0H5GEnfjV2GBJN1Dde0ut--Y65Pyz9o; expires=Thu, 26-Oct-2023 20:52:04 GMT; path=/; domain=.google.com; HttpOnly\n",
      "Accept-Ranges: none\n",
      "Vary: Accept-Encoding\n",
      "Transfer-Encoding: chunked\n",
      "\n",
      "5998\n",
      "<!doctype html><html itemscope=\"\" itemtype=\"http://schema.org/WebPage\" lang=\"en\"><head><meta content=\"Search the world's information, including webpages, images, videos and more. Google has many special features to help you find exactly what you're looking for.\" name=\"description\"><meta content=\"noodp\" name=\"robots\"><meta content=\"text/html; charset=UTF-8\" http-equiv=\"Content-Type\"><meta content=\"/images/branding/googleg/1x/googleg_standard_color_128dp.png\" itemprop=\"image\"><title>Google</title><script nonce=\"I6rYAT4cKhWK3B8_hzVosw\">(function(){window.google={kEI:'9I5JZKyCOIXRkPIP09ig8Ac',kEXPI:'0,1359409,6059,206,4804,2316,383,246,5,1129120,1197694,707,380089,16115,19397,9287,22430,1362,12316,4748,12835,4998,13228,3847,38444,2872,2891,3926,213,7615,606,30668,19390,10632,15324,432,3,346,1244,1,16916,2652,4,1528,2302,29064,9871,3194,11443,2215,2980,1457,16786,5797,2560,4094,7596\n"
     ]
    }
   ],
   "source": [
    "with socket.socket(socket.AF_INET, socket.SOCK_STREAM) as s:\n",
    "    s.connect((ip, 80))\n",
    "\n",
    "    # Send a GET request to \"/\"\n",
    "    s.sendall(b\"GET / HTTP/1.1\\r\\n\\r\\n\")\n",
    "\n",
    "    # Recieve & print 2048 bytes of data\n",
    "    data = s.recv(2048)\n",
    "    print(data.decode())"
   ]
  },
  {
   "cell_type": "code",
   "execution_count": 2,
   "metadata": {},
   "outputs": [
    {
     "name": "stdout",
     "output_type": "stream",
     "text": [
      "Status code: 200\n",
      "Headers: {'Server': 'GitHub.com', 'Date': 'Fri, 28 Apr 2023 07:23:44 GMT', 'Content-Type': 'text/html; charset=utf-8', 'Vary': 'X-PJAX, X-PJAX-Container, Turbo-Visit, Turbo-Frame, Accept-Language, Accept-Encoding, Accept, X-Requested-With', 'content-language': 'en-US', 'ETag': 'W/\"3a322c7ba8fdbcbd77f768b5f9f3f454\"', 'Cache-Control': 'max-age=0, private, must-revalidate', 'Strict-Transport-Security': 'max-age=31536000; includeSubdomains; preload', 'X-Frame-Options': 'deny', 'X-Content-Type-Options': 'nosniff', 'X-XSS-Protection': '0', 'Referrer-Policy': 'origin-when-cross-origin, strict-origin-when-cross-origin', 'Content-Security-Policy': \"default-src 'none'; base-uri 'self'; block-all-mixed-content; child-src github.com/assets-cdn/worker/ gist.github.com/assets-cdn/worker/; connect-src 'self' uploads.github.com objects-origin.githubusercontent.com www.githubstatus.com collector.github.com raw.githubusercontent.com api.github.com github-cloud.s3.amazonaws.com github-production-repository-file-5c1aeb.s3.amazonaws.com github-production-upload-manifest-file-7fdce7.s3.amazonaws.com github-production-user-asset-6210df.s3.amazonaws.com cdn.optimizely.com logx.optimizely.com/v1/events *.actions.githubusercontent.com productionresultssa0.blob.core.windows.net/ productionresultssa1.blob.core.windows.net/ productionresultssa2.blob.core.windows.net/ productionresultssa3.blob.core.windows.net/ productionresultssa4.blob.core.windows.net/ wss://*.actions.githubusercontent.com github-production-repository-image-32fea6.s3.amazonaws.com github-production-release-asset-2e65be.s3.amazonaws.com insights.github.com wss://alive.github.com github.githubassets.com; font-src github.githubassets.com; form-action 'self' github.com gist.github.com objects-origin.githubusercontent.com; frame-ancestors 'none'; frame-src viewscreen.githubusercontent.com notebooks.githubusercontent.com; img-src 'self' data: github.githubassets.com media.githubusercontent.com camo.githubusercontent.com identicons.github.com avatars.githubusercontent.com github-cloud.s3.amazonaws.com objects.githubusercontent.com objects-origin.githubusercontent.com secured-user-images.githubusercontent.com/ user-images.githubusercontent.com/ private-user-images.githubusercontent.com opengraph.githubassets.com github-production-user-asset-6210df.s3.amazonaws.com customer-stories-feed.github.com spotlights-feed.github.com *.githubusercontent.com; manifest-src 'self'; media-src github.com user-images.githubusercontent.com/ secured-user-images.githubusercontent.com/ private-user-images.githubusercontent.com github.githubassets.com; script-src github.githubassets.com; style-src 'unsafe-inline' github.githubassets.com; worker-src github.com/assets-cdn/worker/ gist.github.com/assets-cdn/worker/\", 'Content-Encoding': 'gzip', 'Set-Cookie': '_gh_sess=o5D7fuPPpw0RTfJ%2F01DYHfVHhCsLpKRxDYLzi7CQOinzRb1daoAi65GxhxDx9NXjtXCiFhUSSXnT1IpGTbNUf%2F0GT9QJfzpsY%2BRKa46mksgLkpVwIlVW%2BRWJ3ue0TqeJXN566zg4LWyNAsj76p7BWwWQSaFmDk2Am3Y7JqMIVbU6ldPcoo4fL1Dl0RXk7fpOXfc%2FI6D6T5HrmtKG4UPW7l1P%2Fw25cZlVfc83qT37eWZul2FPdvOq4HL%2FJ9q3dOa7UDARozh%2B67oS1OKB5IBpnw%3D%3D--jTkIqDI3aM0MYC%2F3--oKG68modmUYrQNIwF02fYQ%3D%3D; Path=/; HttpOnly; Secure; SameSite=Lax, _octo=GH1.1.29733226.1682666634; Path=/; Domain=github.com; Expires=Sun, 28 Apr 2024 07:23:54 GMT; Secure; SameSite=Lax, logged_in=no; Path=/; Domain=github.com; Expires=Sun, 28 Apr 2024 07:23:54 GMT; HttpOnly; Secure; SameSite=Lax', 'Accept-Ranges': 'bytes', 'Transfer-Encoding': 'chunked', 'X-GitHub-Request-Id': 'E49C:63EF:30D98E4:330187E:644B748A'}\n",
      "Response text: \n",
      "\n",
      "\n",
      "\n",
      "\n",
      "\n",
      "<!DOCTYPE html>\n",
      "<html lang=\"en\"  data-a11y-animated-images=\"system\">\n",
      "  <head>\n",
      "    <meta charse\n"
     ]
    }
   ],
   "source": [
    "import requests\n",
    "\n",
    "# Change the URL to whatever you'd like\n",
    "# Changed the URL into a github URL\n",
    "response = requests.get(\"https://github.com/\")\n",
    "\n",
    "print(\"Status code:\", response.status_code)\n",
    "print(\"Headers:\", response.headers)\n",
    "print(\"Response text:\", response.text[:100])\n",
    "\n",
    "# Add a line to print the \"Content-Type\" header of the response\n",
    "# Try an image URL!"
   ]
  },
  {
   "attachments": {},
   "cell_type": "markdown",
   "metadata": {},
   "source": [
    "# NGINX"
   ]
  },
  {
   "cell_type": "code",
   "execution_count": 3,
   "metadata": {},
   "outputs": [
    {
     "name": "stdout",
     "output_type": "stream",
     "text": [
      "<!doctype html>\n",
      "<html>\n",
      "<head>\n",
      "<title>Cool site</title>\n",
      "<meta name=\"description\" content=\"cool site for apcsp\">\n",
      "</head>\n",
      "<body>\n",
      "Hello, this is my cool site. Check out my products:\n",
      "<a href=\"/products\">Products!!</a>\n",
      "</body>\n",
      "</html>\n",
      "\n"
     ]
    }
   ],
   "source": [
    "aws = \"3.130.255.192\"\n",
    "\n",
    "response = requests.get(\"http://\" + aws)\n",
    "print(response.text)\n"
   ]
  },
  {
   "attachments": {},
   "cell_type": "markdown",
   "metadata": {},
   "source": [
    "## Configuration\n",
    "\n",
    "```nginx\n",
    "server {\n",
    "    // Listen on virtual \"port 80\"\n",
    "    listen 80;\n",
    "    listen [::]:80;\n",
    "    server_name 3.130.255.192;\n",
    "\n",
    "    location / {\n",
    "        // Inform server about original client\n",
    "        proxy_set_header        Host $host;\n",
    "        proxy_set_header        X-Real-IP $remote_addr;\n",
    "        proxy_set_header        X-Forwarded-For $proxy_add_x_forwarded_for;\n",
    "        proxy_set_header        X-Forwarded-Proto $scheme;\n",
    "\n",
    "        // Forward all requests transparently to the server running on our computer\n",
    "        proxy_pass              http://localhost:9099;\n",
    "    }\n",
    "}\n",
    "```\n",
    "\n",
    "### Load Balancing\n",
    "\n",
    "```nginx\n",
    "upstream example.com {\n",
    "    server server1.example.com;\n",
    "    server server1.example.com;\n",
    "}\n",
    "```\n",
    "\n",
    "### HTTP Headers\n",
    "\n",
    "```nginx\n",
    "server {\n",
    "    add_header X-Cool-Header \"I love APCSP!\";\n",
    "\n",
    "    location /pages {\n",
    "        add_header X-Cooler-Header \"This is my secret header!\";\n",
    "    }\n",
    "}\n",
    "```"
   ]
  },
  {
   "attachments": {},
   "cell_type": "markdown",
   "metadata": {},
   "source": [
    "## [x] Check In\n",
    "\n",
    "1. **Research 1 HTTP header and describe, in detail, its purpose.**\n",
    "\n",
    "HTTP Header: *Allow*\n",
    "\n",
    "*Allow*: lists the set of methods supported by a resource\n",
    "\n",
    "- header must be sent if server responds wit 405\n",
    "- an empty allow header indicates that the resource allows no request methods\n",
    "\n",
    "allow:<http-methods>\n",
    "allow: GET, POST, HEAD\n",
    "\n",
    "2. **Write a line in a sample NGINX configuration that will add that specific header to the `/information` location**\n",
    "\n",
    "location /information {\n",
    "    add_header X-Header \"XHEADER\";\n",
    "}\n",
    "\n",
    "//Will add 'X-Header' with value of 'XHEADER' to any responses sent from '/information' location\n",
    "\n",
    "3. **Explain the purpose of the load balancing performed by NGINX**\n",
    "\n",
    "It maximizes the speed and capacity utilization and ensures that no server is overworked. Overwork = degredation in performance.\n",
    "\n",
    "\n",
    "4. **Modify the following code block to obtain the value of the secret header on `/products` of the AWS site**"
   ]
  },
  {
   "cell_type": "code",
   "execution_count": 6,
   "metadata": {},
   "outputs": [
    {
     "name": "stdout",
     "output_type": "stream",
     "text": [
      "Secret Header: This is my secret header!\n"
     ]
    }
   ],
   "source": [
    "aws = \"3.130.255.192\"\n",
    "\n",
    "response = requests.get(\"http://\" + aws+ \"/products\")\n",
    "\n",
    "print(\"Secret Header:\", response.headers['X-Cooler-Header'])"
   ]
  },
  {
   "attachments": {},
   "cell_type": "markdown",
   "metadata": {},
   "source": [
    "# Hacks\n",
    "\n",
    "- [x] Complete the above check-in questions and change the hosts (0.1)\n",
    "- [x] Complete the above code-segment to retrieve the secret header (0.1)\n",
    "\n",
    "## Bonus (0.05)\n",
    "\n",
    "Create a diagram showing the layers of abstraction that allow us to use HTTP (IP, TCP, etc.)"
   ]
  },
  {
   "attachments": {},
   "cell_type": "markdown",
   "metadata": {},
   "source": [
    "# [x] CORS Hacks\n",
    "\n",
    "1. **Explain what CORS is and what it stands for**\n",
    "\n",
    "- Cross-Origin Resource Sharing (CORS)\n",
    "\n",
    "Enables the control to access resources outside of a domain.\n",
    "\n",
    "2. **Describe how you would be able to implement CORS into your own websites**\n",
    "\n",
    "Include CORS into header to create custom headers, can use Postman to request and check response headers.\n",
    "\n",
    "3. **Describe why you would want to implement CORS into your own websites**\n",
    "\n",
    "Implementing CORS would mean users will be protected from malicious data.\n",
    "\n",
    "4. **How could use CORS to benefit yourself in the future?**\n",
    "\n",
    "Adding CORS would mean adding more protection to the users and protecting the user data.\n",
    "\n",
    "\n",
    "\n",
    "\n",
    "# [x] KASM Hacks\n",
    "\n",
    "1. **What is the purpose of \"sudo\" when running commands in terminal?**\n",
    "\n",
    "'Sudo' allows the terminal to have admin access.\n",
    "\n",
    "2. **What are some commands which allow us to look at how the storage of a machine is set up as?**\n",
    "\n",
    "- 'df': shows disk space on file system\n",
    "- 'du': shows disk usage of files\n",
    "- 'mount': shows currently mounted file systems and their mount points\n",
    "\n",
    "3. **What do you think are some alternatives to running \"curl -O\" to get the zip file for KASM?**\n",
    "\n",
    "Using 'wget' is the fastest and easiest way that we use in class.\n",
    "\n",
    "4. **What kind of commands do you think the \"install.sh\" command has and why is it necessary to call it?**\n",
    "\n",
    "KASM and some other apps require the install.sh to work.\n",
    "\n",
    "5. **Explain in at least 3-4 sentences how deploying KASM is related to/requires other topics talked about in the lesson and/or potential ways to add things mentioned in the lesson to this guide.**\n",
    "\n",
    "Deploying KASM is related to other topics talked about in the lesson because it involves managing and configuring virtual machines, which requires knowledge of networking and system admin. To set up KASM, you need to create a virtual machine, install the necessary software, and configure the networking settings. You may need to set up security measures such as encryption. To add to this guide, you could explain the basics of networking, as well as how to configure security measures like encryption.\n",
    "\n",
    "\n",
    "\n",
    "\n",
    "\n",
    "\n",
    "\n",
    "\n",
    "\n",
    "\n",
    "\n",
    "\n",
    "# NOT DOING ANYMORE\n",
    "\n",
    "# AWS/RDS Hacks\n",
    "\n",
    "See the [setup post](https://firestorm0986.github.io/SLAAT/posts/sqlite-aws/)\n",
    "\n",
    "- Create your own database in the EC2 I have created (ec2-database-connect)\n",
    "    - name it with your first and last name (example: aditya-nawandhar) (0.1)\n",
    "    - Create a table using the commands on the link provided. (0.1)\n",
    "    - using commands from the link provided make columns and rows with test data (can be anything) (example: “name” and “class” are the columns with rows being something like “Aditya” and “Junior”). At least 4 test rows (0.1)\n",
    "    - additional points if the data matches CPT (Bonus: 0.05)\n",
    "\n",
    "Total: 0.3"
   ]
  }
 ],
 "metadata": {
  "kernelspec": {
   "display_name": "base",
   "language": "python",
   "name": "python3"
  },
  "language_info": {
   "codemirror_mode": {
    "name": "ipython",
    "version": 3
   },
   "file_extension": ".py",
   "mimetype": "text/x-python",
   "name": "python",
   "nbconvert_exporter": "python",
   "pygments_lexer": "ipython3",
   "version": "3.9.16"
  },
  "orig_nbformat": 4
 },
 "nbformat": 4,
 "nbformat_minor": 2
}
