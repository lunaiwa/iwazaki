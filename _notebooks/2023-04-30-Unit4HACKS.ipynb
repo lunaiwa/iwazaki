{
 "cells": [
  {
   "attachments": {},
   "cell_type": "markdown",
   "metadata": {},
   "source": [
    "#  Unit 4 HACKS\n",
    "> HACKS for the Week Blog\n",
    "\n",
    "- toc: true\n",
    "- title: Unit 4 HACKS\n",
    "- categories: [APCSP]"
   ]
  },
  {
   "attachments": {},
   "cell_type": "markdown",
   "metadata": {},
   "source": [
    "# Unit 4 HACKS"
   ]
  },
  {
   "attachments": {},
   "cell_type": "markdown",
   "metadata": {},
   "source": [
    "---"
   ]
  },
  {
   "attachments": {},
   "cell_type": "markdown",
   "metadata": {},
   "source": [
    "# How a Computer Works"
   ]
  },
  {
   "attachments": {},
   "cell_type": "markdown",
   "metadata": {},
   "source": [
    "### Specification of Computer"
   ]
  },
  {
   "attachments": {},
   "cell_type": "markdown",
   "metadata": {},
   "source": [
    "**Processor GHz:** 3.5z Intel Xeon W\n",
    "\n",
    "**Memory in GB:** 23.11 GB\n",
    "\n",
    "**Storage in GB:** 251 GB\n",
    "\n",
    "**OS:** Monterey 12.3"
   ]
  },
  {
   "attachments": {},
   "cell_type": "markdown",
   "metadata": {},
   "source": [
    "### Define or Describe (use pictures or words)"
   ]
  },
  {
   "attachments": {},
   "cell_type": "markdown",
   "metadata": {},
   "source": [
    "**INPUT DEVICES** - Some examples of input devices are: keyboards, mouse, joy stick, light pen, track ball, scanner, graphic table, microphone"
   ]
  },
  {
   "attachments": {},
   "cell_type": "markdown",
   "metadata": {},
   "source": [
    "**OUTPUT DEVICES** - Some examples of output devices are: monitors, printers, speakers, headphones, projecters, GPS deivces, optical mark readers, and braille readers"
   ]
  },
  {
   "attachments": {},
   "cell_type": "markdown",
   "metadata": {},
   "source": [
    "**PROGRAM FILE** - Directory name of a standard folder in Microsoft Windows operating systems in which applixation that are not part of the operating system are conventionally installed"
   ]
  },
  {
   "attachments": {},
   "cell_type": "markdown",
   "metadata": {},
   "source": [
    "**PROGRAM CODE** - Instructions given to a machine to create a computer program"
   ]
  },
  {
   "attachments": {},
   "cell_type": "markdown",
   "metadata": {},
   "source": [
    "**PROCESSES** - Managing a set of tasks through the use of source code then manually"
   ]
  },
  {
   "attachments": {},
   "cell_type": "markdown",
   "metadata": {},
   "source": [
    "**PORTS** - Number assigned to uniquely identify a connection endpoint and to direct data to a specific service"
   ]
  },
  {
   "attachments": {},
   "cell_type": "markdown",
   "metadata": {},
   "source": [
    "**DATA FILE** - Computer file which stores data to be used by a computer application or system, input and output data"
   ]
  },
  {
   "attachments": {},
   "cell_type": "markdown",
   "metadata": {},
   "source": [
    "**INSPECT RUNNING CODE** - Basically debug which we have gone over and used during class"
   ]
  },
  {
   "attachments": {},
   "cell_type": "markdown",
   "metadata": {},
   "source": [
    "**INSPECT VARIABLES** - Can be done while using the debug"
   ]
  },
  {
   "attachments": {},
   "cell_type": "markdown",
   "metadata": {},
   "source": [
    "---"
   ]
  },
  {
   "attachments": {},
   "cell_type": "markdown",
   "metadata": {},
   "source": [
    "# The Internet"
   ]
  },
  {
   "attachments": {},
   "cell_type": "markdown",
   "metadata": {},
   "source": [
    "**[x] Watch/Review College Board Daily Video for 4.1.1**"
   ]
  },
  {
   "attachments": {},
   "cell_type": "markdown",
   "metadata": {},
   "source": [
    "### Vocabulary Matching Activity"
   ]
  },
  {
   "attachments": {},
   "cell_type": "markdown",
   "metadata": {},
   "source": [
    "Complete Vocabulary Matching Activity. Incorporate this into your learnings from year. To analyze measure path and latency use traceroute and ping commands from Linux Terminal.\n",
    "\n",
    "- Path > A\n",
    "- Route > E\n",
    "- Computer System > B\n",
    "- Computer Device > C\n",
    "- Bandwidth > D\n",
    "- Computer Network > F"
   ]
  },
  {
   "attachments": {},
   "cell_type": "markdown",
   "metadata": {},
   "source": [
    "**[x] Watch/Review College Board Daily Video for 4.1.2**"
   ]
  },
  {
   "attachments": {},
   "cell_type": "markdown",
   "metadata": {},
   "source": [
    "Complete True/False Questions"
   ]
  },
  {
   "attachments": {},
   "cell_type": "markdown",
   "metadata": {},
   "source": [
    "1. **Open standards and protocols enable different manufacturers and developers to build hardware and software that can communicate with hardware and software on the rest of the internet.**\n",
    "\n",
    "T\n",
    "\n",
    "2. **IETF is a task force used to enforce laws to keep manufacturers out of the internet**\n",
    "\n",
    "F\n",
    "\n",
    "3. **Routes are determined in advance and are not flexible**\n",
    "\n",
    "F\n",
    "\n",
    "4. **A protocol is an agreed-upon set of rules that specify the behavior of a system**\n",
    "\n",
    "T\n",
    "\n",
    "5. **UDP guarantees transfers and is faster**\n",
    "\n",
    "F\n",
    "\n",
    "6. **The World Wide Web is the internet**\n",
    "\n",
    "F\n",
    "\n",
    "7. **HTTP is a protocol used by the World Wide Web**\n",
    "\n",
    "T"
   ]
  },
  {
   "attachments": {},
   "cell_type": "markdown",
   "metadata": {},
   "source": [
    "### Draw a diagram showing the internet and its many levels. A preferred diagram would using your knowledge of frontend, backend, deployment, etc. Picture would highlight vocabulary by illustration. The below illustration have some ideas"
   ]
  },
  {
   "attachments": {},
   "cell_type": "markdown",
   "metadata": {},
   "source": [
    "---"
   ]
  },
  {
   "attachments": {},
   "cell_type": "markdown",
   "metadata": {},
   "source": [
    "# Fault Tolerance"
   ]
  },
  {
   "attachments": {},
   "cell_type": "markdown",
   "metadata": {},
   "source": [
    "**[x] Watch both Daily Videos for 4.2**"
   ]
  },
  {
   "attachments": {},
   "cell_type": "markdown",
   "metadata": {},
   "source": [
    "### Complete the network activity, summarize your understanding of fault tolerance. - 4.2"
   ]
  },
  {
   "attachments": {},
   "cell_type": "markdown",
   "metadata": {},
   "source": [
    "A -- B -- C -- D -- E -- F -- G"
   ]
  },
  {
   "attachments": {},
   "cell_type": "markdown",
   "metadata": {},
   "source": [
    "- Slow process and few resource, one path fails the other fails (can be visualized as a bridge)"
   ]
  },
  {
   "attachments": {},
   "cell_type": "markdown",
   "metadata": {},
   "source": [
    "A -- B -- C -- D -- E -- F -- G -- A -- C -- (ect....)"
   ]
  },
  {
   "attachments": {},
   "cell_type": "markdown",
   "metadata": {},
   "source": [
    "- each letter communicates with each other\n",
    "- lots of different resources can be sent "
   ]
  },
  {
   "attachments": {},
   "cell_type": "markdown",
   "metadata": {},
   "source": [
    "---"
   ]
  },
  {
   "attachments": {},
   "cell_type": "markdown",
   "metadata": {},
   "source": [
    "# Parallel and Distributed Computing"
   ]
  },
  {
   "attachments": {},
   "cell_type": "markdown",
   "metadata": {},
   "source": [
    "**[x] Watch Daily Video for 4.3**"
   ]
  },
  {
   "attachments": {},
   "cell_type": "markdown",
   "metadata": {},
   "source": [
    "### Think of ways to make something in you team project to utilize Cores more effectively. Here are some thoughts to add to your story of Computers and Networks."
   ]
  },
  {
   "attachments": {},
   "cell_type": "markdown",
   "metadata": {},
   "source": [
    "### What is a naturally Distributed in Frontend/Backend archecture?"
   ]
  },
  {
   "attachments": {},
   "cell_type": "markdown",
   "metadata": {},
   "source": [
    "\n",
    "In a frontend/backend architecture, the frontend is naturally distributed across multiple client devices, while the backend can be distributed across multiple servers to improve scalability and fault tolerance. Each client device communicates with the backend server(s) to request data and perform various operations."
   ]
  },
  {
   "attachments": {},
   "cell_type": "markdown",
   "metadata": {},
   "source": [
    "### Analyze this command in Docker: ENV GUNICORN_CMD_ARGS=\"--workers=1 --bind=0.0.0.0:8086\". Determine if there is options are options in this command for parallel computing within the server that runs python/gunicorn."
   ]
  },
  {
   "attachments": {},
   "cell_type": "markdown",
   "metadata": {},
   "source": [
    "Used to configure the Gunicorn web server, port 8086. Workers specifies the number of worker processes that would be created to handle incoming requests."
   ]
  },
  {
   "attachments": {},
   "cell_type": "markdown",
   "metadata": {},
   "source": [
    "### Can you get parallel code on images to work more effectively?"
   ]
  },
  {
   "attachments": {},
   "cell_type": "markdown",
   "metadata": {},
   "source": [
    "Yes, parallel programming techniques such as multithreading, multiprocessing, and GPU acceleration can be used to make image processing code work more effectively by processing smaller sections of the image in parallel on multiple cores, resulting in faster and more efficient code. However, the effectiveness of parallel processing depends on various factors such as image size, processing complexity, and hardware resources available."
   ]
  }
 ],
 "metadata": {
  "language_info": {
   "name": "python"
  },
  "orig_nbformat": 4
 },
 "nbformat": 4,
 "nbformat_minor": 2
}
